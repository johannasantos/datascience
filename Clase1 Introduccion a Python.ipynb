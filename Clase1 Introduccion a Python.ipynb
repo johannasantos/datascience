{
 "cells": [
  {
   "cell_type": "markdown",
   "metadata": {
    "colab_type": "text",
    "id": "HuT0TquUC6sG"
   },
   "source": [
    "# Programa Mujeres en Data Science"
   ]
  },
  {
   "cell_type": "markdown",
   "metadata": {
    "colab_type": "text",
    "id": "JpWbBrDoC6sI"
   },
   "source": [
    "Antes de poder sumergirnos de lleno en aprender conceptos especificos del mundo de Data Science, hay una habilidad que debemos adquirir o mejorar: **Programación**. De todos los lenguajes de programación existentes, hay dos que dominan el mundo de Data Science.  \n",
    "El primero de ellos es **R</t>**, un lenguaje que se utiliza mucho en investigación y estadistica. El otro es **Python**. \n",
    "Si bien ambos son muy utiles, **Python** es el más utilizado hoy en día, y debido a esto más módulos han sido desarrollados."
   ]
  },
  {
   "cell_type": "markdown",
   "metadata": {
    "colab_type": "text",
    "id": "KOkMAS_-C6sJ"
   },
   "source": [
    "Uno de los motivos por el cual Python ha crecido en los ultimos años es su gran comunidad de código abierto. Existen muchos eventos a los que se puede asistir para aprender más acerca de lo que se trabaja en Python. Todos ellos son inclusivos y abiertos al público."
   ]
  },
  {
   "cell_type": "markdown",
   "metadata": {
    "colab_type": "text",
    "id": "h0SQGtmHC6sJ"
   },
   "source": [
    "Algunos ejemplos:\n",
    "\n",
    "**Conferencias**  \n",
    "[PyCon Argentina](https://twitter.com/pyconar/status/1147119669049999364). Conferencia Anual de Python organizada por [PyAr](https://www.python.org.ar/), comunidad Python Argentina.    \n",
    "[PyData Argentina](https://pydata.org/cordoba2019/). Evento enfocado a Analisis de datos y Data science utilizando Python, R y Julia.\n",
    "\n",
    "**MeetUps**  \n",
    "[Data Science Argentina](https://www.meetup.com/es/Argentina-Data-Science-Meetup/)  \n",
    "[PyData Buenos Aires](https://www.meetup.com/es/PyData-Buenos-Aires/)  \n",
    "[Women in Machine Learning Buenos Aires](https://www.meetup.com/es/Buenos-Aires-Women-in-Machine-Learning-Data-Science/)"
   ]
  },
  {
   "cell_type": "markdown",
   "metadata": {
    "colab_type": "text",
    "id": "lL4evgWZC6sK"
   },
   "source": [
    "# Clase 1: Introducción a Python"
   ]
  },
  {
   "cell_type": "markdown",
   "metadata": {
    "colab_type": "text",
    "id": "SgCtXxAYC6sL"
   },
   "source": [
    "Python es un lenguaje de programación de propósito general muy poderoso y flexible, a la vez que sencillo y fácil de aprender."
   ]
  },
  {
   "cell_type": "markdown",
   "metadata": {
    "colab_type": "text",
    "id": "fUJSQNRMC6sM"
   },
   "source": [
    "**¿Donde recurro cuando estoy trabada o no se qué hacer?**"
   ]
  },
  {
   "cell_type": "markdown",
   "metadata": {
    "colab_type": "text",
    "id": "-oKaIZY0C6sM"
   },
   "source": [
    "Python posee una amplia documentación que nos permite investigar cada función que contiene el lenguaje. Podes chequearla [acá](https://docs.python.org/3/)\n",
    "\n",
    "Otra fuente para obtener respuestas es [Stackoverflow](https://es.stackoverflow.com/) o por supuesto, Google."
   ]
  },
  {
   "cell_type": "markdown",
   "metadata": {
    "colab_type": "text",
    "id": "SkMDmX-fC6sN"
   },
   "source": [
    "## Módulo 1: Conceptos básicos de Python"
   ]
  },
  {
   "cell_type": "markdown",
   "metadata": {
    "colab_type": "text",
    "id": "xOuvJo5pC6sO"
   },
   "source": [
    "En estas clases utilizaremos **Jupyter Notebook**. La ventaja de jupyter notebook es que permite mezclar celdas `Markdown` con celdas de código."
   ]
  },
  {
   "cell_type": "markdown",
   "metadata": {
    "colab_type": "text",
    "id": "S8C5vwiDC6sP"
   },
   "source": [
    "1) **Markdown** es un lenguaje de marcado que permite dar formato a un texto de manera rápida y fácil.\n",
    " \n",
    "Para utilizarlo debes seguir ciertas convenciones que puedas consultar en la siguiente página web: [Guía Markdown](https://joedicastro.com/pages/markdown.html)"
   ]
  },
  {
   "cell_type": "markdown",
   "metadata": {
    "colab_type": "text",
    "id": "RY5QnSnGC6sP"
   },
   "source": [
    "2) Por otro lado, en las celdas de código es donde vamos a escribir el código **Python**.  \n",
    "\n",
    "Prestale atención a los corchetes que se encuentran al lado de cada celda de Python. Cuando tienen un número significa que esa celda ha sido corrida. Cuando tienen `*` implica que la celda esta corriendo."
   ]
  },
  {
   "cell_type": "markdown",
   "metadata": {
    "colab_type": "text",
    "id": "DuOMNEx7C6sQ"
   },
   "source": [
    "Python posee una guía de estilo, que si bien no es obligatoria, se **RECOMIENDA** seguir. Podes leer acerca de las convenciones establecidas en el [PEP8](https://www.python.org/dev/peps/pep-0008/)."
   ]
  },
  {
   "cell_type": "markdown",
   "metadata": {
    "colab_type": "text",
    "id": "nXTneQO8C6sR"
   },
   "source": [
    "El simbolo `#` se utiliza para determinar un comentario. Esto significa que al verlo, Python entendera que esa línea no corresponde a código que debe correrse."
   ]
  },
  {
   "cell_type": "markdown",
   "metadata": {
    "colab_type": "text",
    "id": "1svRLjMiC6sS"
   },
   "source": [
    "Comentar el código es una practica muy útil para explicar que hace una linea de código. La convención es que el comentario se haga en la línea anterior a la linea de código correspondiente."
   ]
  },
  {
   "cell_type": "markdown",
   "metadata": {
    "colab_type": "text",
    "id": "2D9L6udIC6sT"
   },
   "source": [
    "La filosofía de Python hace hincapié en una sintaxis que favorezca un código legible. Esta filosofía se resumen en lo que se conoce como el **ZEN de Python**."
   ]
  },
  {
   "cell_type": "code",
   "execution_count": 55,
   "metadata": {
    "colab": {},
    "colab_type": "code",
    "id": "JMyun-bcC6sT"
   },
   "outputs": [],
   "source": [
    "#Corre esta linea para descubrir el zen de Python\n",
    "import this"
   ]
  },
  {
   "cell_type": "markdown",
   "metadata": {
    "colab_type": "text",
    "id": "vxrEvI-mC6sX"
   },
   "source": [
    "Empecemos con una función muy simple de Python: `print()`. Esta función imprime la variable que se le pase."
   ]
  },
  {
   "cell_type": "code",
   "execution_count": 56,
   "metadata": {
    "colab": {},
    "colab_type": "code",
    "id": "1YVnDdCAC6sY"
   },
   "outputs": [
    {
     "name": "stdout",
     "output_type": "stream",
     "text": [
      "Python es muy fácil de aprender\n"
     ]
    }
   ],
   "source": [
    "#Corre esta celda para descrubir el output\n",
    "print(\"Python es muy fácil de aprender\")"
   ]
  },
  {
   "cell_type": "markdown",
   "metadata": {
    "colab_type": "text",
    "id": "LInH-Ff4C6sa"
   },
   "source": [
    "Python puede usarse para hacer calculos básicos. Veamos alguna de las funciones que pueden ser utilizadas en Python."
   ]
  },
  {
   "cell_type": "code",
   "execution_count": 57,
   "metadata": {
    "colab": {},
    "colab_type": "code",
    "id": "Yg2M7bm2C6sb"
   },
   "outputs": [
    {
     "name": "stdout",
     "output_type": "stream",
     "text": [
      "7\n",
      "3\n",
      "15\n",
      "5.0\n"
     ]
    }
   ],
   "source": [
    "#Suma\n",
    "print(4+3)\n",
    "#Resta\n",
    "print(5-2)\n",
    "#Multiplicacion\n",
    "print(3 * 5)\n",
    "#División\n",
    "print(10 / 2)"
   ]
  },
  {
   "cell_type": "code",
   "execution_count": 58,
   "metadata": {
    "colab": {},
    "colab_type": "code",
    "id": "JRi6zOBiC6sd"
   },
   "outputs": [
    {
     "name": "stdout",
     "output_type": "stream",
     "text": [
      "16\n",
      "4\n",
      "3\n"
     ]
    }
   ],
   "source": [
    "#Corre las siguientes celdas y descubre que funciones se utilizan\n",
    "print(4 ** 2)\n",
    "print(18 % 7)\n",
    "print(7//2)"
   ]
  },
  {
   "cell_type": "markdown",
   "metadata": {
    "colab_type": "text",
    "id": "96OZXNWkC6sh"
   },
   "source": [
    "Supongamos que tenemos \\$100, que podemos invertir obteniendo el 10\\% de interes cada año. Luego del primer año, tendremos 100\\*1.1, luego de dos años tendremos 100\\*1.1\\*1.1. \n",
    "**¿Cuanto tendrás luego de 7 años?**"
   ]
  },
  {
   "cell_type": "code",
   "execution_count": 59,
   "metadata": {
    "colab": {},
    "colab_type": "code",
    "id": "CbTiNcsXC6sh"
   },
   "outputs": [
    {
     "name": "stdout",
     "output_type": "stream",
     "text": [
      "194.87171000000012\n"
     ]
    }
   ],
   "source": [
    "#Reemplaza las lineas de puntos con la función correspondiente.\n",
    "print(100*(1.1**7))"
   ]
  },
  {
   "cell_type": "markdown",
   "metadata": {
    "colab_type": "text",
    "id": "QG-SmIrcC6sk"
   },
   "source": [
    "## Variables y Estructura de datos"
   ]
  },
  {
   "cell_type": "markdown",
   "metadata": {
    "colab_type": "text",
    "id": "audIbLKiC6sl"
   },
   "source": [
    "### Asignación de variables:"
   ]
  },
  {
   "cell_type": "markdown",
   "metadata": {
    "colab_type": "text",
    "id": "6SsbEw0uC6sm"
   },
   "source": [
    "En Python, una variable permite referir a un valor utilizando un nombre en especifico. Para crear una variable, se debe usar `=` como en el siguiente ejemplo:"
   ]
  },
  {
   "cell_type": "code",
   "execution_count": 60,
   "metadata": {
    "colab": {},
    "colab_type": "code",
    "id": "SOUEQF93C6sn"
   },
   "outputs": [],
   "source": [
    "a = 8"
   ]
  },
  {
   "cell_type": "markdown",
   "metadata": {
    "colab_type": "text",
    "id": "491P6QU-C6sp"
   },
   "source": [
    "Ahora, sigue las instrucciones de los comentarios."
   ]
  },
  {
   "cell_type": "code",
   "execution_count": 61,
   "metadata": {
    "colab": {},
    "colab_type": "code",
    "id": "MAAlVRZfC6sq"
   },
   "outputs": [],
   "source": [
    "#Asigna 100 a la variable mi_variable\n",
    "mi_variable = 100"
   ]
  },
  {
   "cell_type": "code",
   "execution_count": 62,
   "metadata": {
    "colab": {},
    "colab_type": "code",
    "id": "6QZcPwLXC6ss"
   },
   "outputs": [
    {
     "name": "stdout",
     "output_type": "stream",
     "text": [
      "100\n"
     ]
    }
   ],
   "source": [
    "#Muestra el contenido de la variable\n",
    "print(mi_variable)"
   ]
  },
  {
   "cell_type": "markdown",
   "metadata": {
    "colab_type": "text",
    "id": "Pa-hVtBwC6sv"
   },
   "source": [
    "Las variables pueden ser llamadas posteriormente. Además podemos realizar calculos y operaciones con ellas."
   ]
  },
  {
   "cell_type": "code",
   "execution_count": 63,
   "metadata": {
    "colab": {},
    "colab_type": "code",
    "id": "G8dUAM2qC6sv"
   },
   "outputs": [
    {
     "name": "stdout",
     "output_type": "stream",
     "text": [
      "194.87171000000012\n"
     ]
    }
   ],
   "source": [
    "#Crea una variable llamada factor que contenga el numero 1.1\n",
    "factor = 1.1\n",
    "\n",
    "#Calcula el resultado de elevar a la 7 la variable factor multiplicarla \n",
    "#por el numero contenido en mi_varible y asignala a una nueva variable\n",
    "#llamada resultado\n",
    "resultado = factor**7*mi_variable\n",
    "#Imprime el resultado\n",
    "print(resultado)"
   ]
  },
  {
   "cell_type": "markdown",
   "metadata": {
    "colab_type": "text",
    "id": "Ut6I7V_dC6sy"
   },
   "source": [
    "Hay ciertas reglas que se deben cumplir a la hora de declarar una variable:  \n",
    "\n",
    "- Los nombres de las variables siempre aparecen a la izquierda de `=`.\n",
    "- Python diferencia mayusculas de minusculas en el nombre de las variables.\n",
    "- Los nombres de las variables DEBEN comenzar con una letra. Luego pueden contener nombres y guiones bajos `_`. Pero no pueden contener caracteres especiales (como por ejemplo, `&`, `*`, `#`, etc).\n",
    "- Si bien Python no le importa como llames a tus variables, los nombres de las variables deben ser descriptivos de los valores o datos que contienen para que otras personas puedan interpretarlo.\n",
    "- Lee más acerca de estas convenciones en el **PEP8**."
   ]
  },
  {
   "cell_type": "markdown",
   "metadata": {
    "colab_type": "text",
    "id": "ZjJhLXPOC6sz"
   },
   "source": [
    "**PALABRAS RESERVADAS**: Hay 33 palabras que no podes utilizar como nombres de variables, debido a que estan reservadas para el lenguaje ya que cumplen una función particular en Python."
   ]
  },
  {
   "cell_type": "markdown",
   "metadata": {
    "colab_type": "text",
    "id": "Zr_K3x7oC6s0"
   },
   "source": [
    "_Ellas son_: False, None, True, and, as, assert, break, class, continue, def, del, elif, else, except, finally, for, from, global, if, import, in, is, lambda, nonlocal, not, or, pass, raise, return, try, while, with, yield\n",
    "\n"
   ]
  },
  {
   "cell_type": "code",
   "execution_count": 64,
   "metadata": {
    "colab": {},
    "colab_type": "code",
    "id": "xu1F8iSWC6s1"
   },
   "outputs": [
    {
     "ename": "SyntaxError",
     "evalue": "invalid syntax (<ipython-input-64-5e13b15422c4>, line 2)",
     "output_type": "error",
     "traceback": [
      "\u001b[0;36m  File \u001b[0;32m\"<ipython-input-64-5e13b15422c4>\"\u001b[0;36m, line \u001b[0;32m2\u001b[0m\n\u001b[0;31m    try = 6\u001b[0m\n\u001b[0m        ^\u001b[0m\n\u001b[0;31mSyntaxError\u001b[0m\u001b[0;31m:\u001b[0m invalid syntax\n"
     ]
    }
   ],
   "source": [
    "#Corre el siguiente codigo y observa que pasa\n",
    "try = 6"
   ]
  },
  {
   "cell_type": "markdown",
   "metadata": {
    "colab_type": "text",
    "id": "exZf8-ZRC6s3"
   },
   "source": [
    "### Tipo de Variables:"
   ]
  },
  {
   "cell_type": "markdown",
   "metadata": {
    "colab_type": "text",
    "id": "3FrjGfWwC6s5"
   },
   "source": [
    "Python nos provee una función útil para chequear que tipo de variable contiene cada variable definida: `type()` [Chequea la documentación](https://docs.python.org/3/library/functions.html?highlight=type#type). "
   ]
  },
  {
   "cell_type": "markdown",
   "metadata": {
    "colab_type": "text",
    "id": "bJTOK4t-C6s5"
   },
   "source": [
    "### ENTEROS"
   ]
  },
  {
   "cell_type": "markdown",
   "metadata": {
    "colab_type": "text",
    "id": "HDVqsWfvC6s6"
   },
   "source": [
    "El primer tipo de datos que podemos tener son enteros, que corresponde al tipo `int` en Python."
   ]
  },
  {
   "cell_type": "code",
   "execution_count": 65,
   "metadata": {
    "colab": {},
    "colab_type": "code",
    "id": "A7iV8CgmC6s7"
   },
   "outputs": [
    {
     "name": "stdout",
     "output_type": "stream",
     "text": [
      "<class 'int'>\n",
      "<class 'int'>\n"
     ]
    }
   ],
   "source": [
    "#Declara la variable mi_numero y asignale el numero 4\n",
    "mi_numero = 4\n",
    "\n",
    "\n",
    "#Declara la variable otro_numero y asignale el numero -1\n",
    "otro_numero = -1\n",
    "\n",
    "#Chequea que tipo de variables son mi_numero y otro_numero\n",
    "print(type(mi_numero))\n",
    "\n",
    "print(type(otro_numero))\n"
   ]
  },
  {
   "cell_type": "code",
   "execution_count": 66,
   "metadata": {
    "colab": {},
    "colab_type": "code",
    "id": "krBARwvTC6s_"
   },
   "outputs": [
    {
     "name": "stdout",
     "output_type": "stream",
     "text": [
      "-4\n"
     ]
    }
   ],
   "source": [
    "#Imprime el resultado de multiplicar mi_numero y otro_numero\n",
    "print(mi_numero*otro_numero)"
   ]
  },
  {
   "cell_type": "markdown",
   "metadata": {
    "colab_type": "text",
    "id": "ljsz-6WcC6tC"
   },
   "source": [
    "### FLOTANTES"
   ]
  },
  {
   "cell_type": "markdown",
   "metadata": {
    "colab_type": "text",
    "id": "_5gU7H2BC6tD"
   },
   "source": [
    "Además de enteros, los datos también pueden ser de tipo flotantes. Esto es pueden contener numeros como `5.5`, `7.7`, `9014019401.43`. Este tipo de variable corresponde a `float` en Python."
   ]
  },
  {
   "cell_type": "code",
   "execution_count": 67,
   "metadata": {
    "colab": {},
    "colab_type": "code",
    "id": "21gt4NmbC6tI"
   },
   "outputs": [
    {
     "name": "stdout",
     "output_type": "stream",
     "text": [
      "<class 'float'>\n"
     ]
    }
   ],
   "source": [
    "#Declara la variable float_numero y asignale el numero 4.9\n",
    "float_numero = 4.9\n",
    "\n",
    "#Chequea que tipo de variable es float_numero\n",
    "print(type(float_numero))\n"
   ]
  },
  {
   "cell_type": "code",
   "execution_count": 68,
   "metadata": {
    "colab": {},
    "colab_type": "code",
    "id": "j0RIfwSkC6tK"
   },
   "outputs": [
    {
     "name": "stdout",
     "output_type": "stream",
     "text": [
      "576.4801000000002\n"
     ]
    }
   ],
   "source": [
    "#Imprime el resultado de elevar float_numero y mi_numero, declarado anteriormente\n",
    "print(float_numero**mi_numero)"
   ]
  },
  {
   "cell_type": "markdown",
   "metadata": {
    "colab_type": "text",
    "id": "lTxnhfRiC6tM"
   },
   "source": [
    "### BOOLEANAS"
   ]
  },
  {
   "cell_type": "markdown",
   "metadata": {
    "colab_type": "text",
    "id": "pXjCOXhDC6tN"
   },
   "source": [
    "Una variable booleana es una variable lógica que admite solo dos valores `True` y `False`. "
   ]
  },
  {
   "cell_type": "code",
   "execution_count": 69,
   "metadata": {
    "colab": {},
    "colab_type": "code",
    "id": "YPyXSAfUC6tO"
   },
   "outputs": [],
   "source": [
    "#Corre la siguiente linea \n",
    "mi_bool = True"
   ]
  },
  {
   "cell_type": "code",
   "execution_count": 70,
   "metadata": {
    "colab": {},
    "colab_type": "code",
    "id": "fsd82qugC6tR"
   },
   "outputs": [],
   "source": [
    "#Ahora asigna a la variable otra_bool el valor False\n",
    "otra_bool = False"
   ]
  },
  {
   "cell_type": "code",
   "execution_count": 71,
   "metadata": {
    "colab": {},
    "colab_type": "code",
    "id": "U2IDH5msC6tS"
   },
   "outputs": [
    {
     "name": "stdout",
     "output_type": "stream",
     "text": [
      "<class 'bool'>\n",
      "<class 'bool'>\n"
     ]
    }
   ],
   "source": [
    "#Chequea que tipo de variables son mi_bool y otra_bool\n",
    "\n",
    "print(type(mi_bool))\n",
    "print(type(otra_bool))"
   ]
  },
  {
   "cell_type": "markdown",
   "metadata": {
    "colab_type": "text",
    "id": "7vBPYaRlC6tV"
   },
   "source": [
    "Pese a que las variables booleanas son definidas con los valores `True` y `False`, Python las trata como numeros. "
   ]
  },
  {
   "cell_type": "code",
   "execution_count": 72,
   "metadata": {
    "colab": {},
    "colab_type": "code",
    "id": "ZYL67nORC6tV"
   },
   "outputs": [
    {
     "name": "stdout",
     "output_type": "stream",
     "text": [
      "1\n"
     ]
    }
   ],
   "source": [
    "#Prueba que ocurre si sumamos mi_bool y otra_bool\n",
    "print(mi_bool + otra_bool)"
   ]
  },
  {
   "cell_type": "markdown",
   "metadata": {
    "colab_type": "text",
    "id": "KPTjmV-ZC6tX"
   },
   "source": [
    "Así es Python devolvera un numero. En lugar de utilizar el operador suma, podemos utilizar los operadores lógicos: `&` o `and`, `|` o `or`, y `not`."
   ]
  },
  {
   "cell_type": "code",
   "execution_count": 73,
   "metadata": {
    "colab": {},
    "colab_type": "code",
    "id": "ql6bYuDWC6tY"
   },
   "outputs": [
    {
     "name": "stdout",
     "output_type": "stream",
     "text": [
      "False\n"
     ]
    }
   ],
   "source": [
    "#Aplica el operador and o & entre las variables mi_bool y otra_bool\n",
    "print(mi_bool and otra_bool)"
   ]
  },
  {
   "cell_type": "code",
   "execution_count": 74,
   "metadata": {
    "colab": {},
    "colab_type": "code",
    "id": "UtQS7jmDC6ta"
   },
   "outputs": [
    {
     "name": "stdout",
     "output_type": "stream",
     "text": [
      "True\n"
     ]
    }
   ],
   "source": [
    "#Aplica el operador or o | entre las variables mi_bool y otra_bool\n",
    "print(mi_bool | otra_bool)"
   ]
  },
  {
   "cell_type": "code",
   "execution_count": 75,
   "metadata": {
    "colab": {},
    "colab_type": "code",
    "id": "3g6M_laEC6tc"
   },
   "outputs": [
    {
     "name": "stdout",
     "output_type": "stream",
     "text": [
      "False\n"
     ]
    }
   ],
   "source": [
    "#Aplica el operador not a la variable mi_bool\n",
    "print( not mi_bool)"
   ]
  },
  {
   "cell_type": "markdown",
   "metadata": {
    "colab_type": "text",
    "id": "DGReYXAoC6tf"
   },
   "source": [
    "### SECUENCIA DE CARACTERES O STRINGS"
   ]
  },
  {
   "cell_type": "markdown",
   "metadata": {
    "colab_type": "text",
    "id": "hDd50SWaC6tf"
   },
   "source": [
    "La secuencia de caracteres o `string` es otro tipo de datos que podemos encontrar en Python. Estas variables poseen de particular que se definen utilizando comillas, como en el ejemplo siguiente:"
   ]
  },
  {
   "cell_type": "code",
   "execution_count": 76,
   "metadata": {
    "colab": {},
    "colab_type": "code",
    "id": "QAhOsqtyC6tg"
   },
   "outputs": [
    {
     "name": "stdout",
     "output_type": "stream",
     "text": [
      "Aprender Python es muy sencillo\n",
      "Solo hay que practicar\n"
     ]
    }
   ],
   "source": [
    "#Corre las siguientes lineas\n",
    "mi_frase = \"Aprender Python es muy sencillo\"\n",
    "segunda_frase = 'Solo hay que practicar'\n",
    "print(mi_frase)\n",
    "print(segunda_frase)"
   ]
  },
  {
   "cell_type": "markdown",
   "metadata": {
    "colab_type": "text",
    "id": "6PFFQN26C6ti"
   },
   "source": [
    "##### Comillas"
   ]
  },
  {
   "cell_type": "markdown",
   "metadata": {
    "colab_type": "text",
    "id": "RG-ltuwRC6ti"
   },
   "source": [
    "Como habras observado arriba, se pueden utilizar comillas dobles como simples para definir strings. La regla es que utilices las mismas comillas para **abrir y cerrar** el string."
   ]
  },
  {
   "cell_type": "code",
   "execution_count": 77,
   "metadata": {
    "colab": {},
    "colab_type": "code",
    "id": "yFXZ6BHpC6tj"
   },
   "outputs": [
    {
     "name": "stdout",
     "output_type": "stream",
     "text": [
      "girls in data science\n"
     ]
    }
   ],
   "source": [
    "#Define un string que quieras y asignaselo a la variable mi_primer_string\n",
    "mi_primer_string = \"girls in data science\"\n",
    "\n",
    "#Imprime la variable mi_primer_string\n",
    "print(mi_primer_string)"
   ]
  },
  {
   "cell_type": "code",
   "execution_count": 78,
   "metadata": {
    "colab": {},
    "colab_type": "code",
    "id": "BOxTv1szC6tl"
   },
   "outputs": [],
   "source": [
    "#Define un segundo string y asignaselo a la variable segundo_string\n",
    "segundo_string = 'im bored af'"
   ]
  },
  {
   "cell_type": "code",
   "execution_count": 79,
   "metadata": {
    "colab": {},
    "colab_type": "code",
    "id": "7R7le1s6C6to"
   },
   "outputs": [
    {
     "name": "stdout",
     "output_type": "stream",
     "text": [
      "girls in data scienceim bored af\n"
     ]
    }
   ],
   "source": [
    "#Ahora aplica el operador suma (+) entre las dos variables y fijate que pasa\n",
    "print(mi_primer_string + segundo_string)"
   ]
  },
  {
   "cell_type": "markdown",
   "metadata": {
    "colab_type": "text",
    "id": "I8QDvbrKC6tq"
   },
   "source": [
    "Como observaste los strings también pueden sumarse, o en terminos más correctos, concatenarse."
   ]
  },
  {
   "cell_type": "markdown",
   "metadata": {
    "colab_type": "text",
    "id": "5Cxliy3fC6tq"
   },
   "source": [
    "Python también nos permite acceder a un elemento del string o una porción de él. Esto se realiza mediante el uso de **indices** que se especifican con corchetes `[]`."
   ]
  },
  {
   "cell_type": "code",
   "execution_count": 80,
   "metadata": {
    "colab": {},
    "colab_type": "code",
    "id": "FH1VuGbQC6tr"
   },
   "outputs": [
    {
     "data": {
      "text/plain": [
       "'e'"
      ]
     },
     "execution_count": 80,
     "metadata": {},
     "output_type": "execute_result"
    }
   ],
   "source": [
    "#Defino un string\n",
    "prueba_indice = \"Acceder a un caracter es facil\"\n",
    "\n",
    "#Accedo al tercer caracter\n",
    "prueba_indice[3]"
   ]
  },
  {
   "cell_type": "markdown",
   "metadata": {
    "colab_type": "text",
    "id": "7sKv6OrxC6tt"
   },
   "source": [
    "**¿Observaste bien?** Si especifico el indice 3, me trae el 4to caracter. Esto es porque en Python los indices comienzan en 0. Entonces, el primer caracter tiene indice 0, el segundo 1 y asi sucesivamente."
   ]
  },
  {
   "cell_type": "code",
   "execution_count": 81,
   "metadata": {
    "colab": {},
    "colab_type": "code",
    "id": "lvn9mBCAC6tt"
   },
   "outputs": [
    {
     "name": "stdout",
     "output_type": "stream",
     "text": [
      " \n",
      "d\n"
     ]
    }
   ],
   "source": [
    "#Accede al octavo caracter del string prueba_indice\n",
    "print(prueba_indice[7])\n",
    "\n",
    "#Accede al quinto caracter del string prueba_indice\n",
    "print(prueba_indice[4])\n"
   ]
  },
  {
   "cell_type": "markdown",
   "metadata": {
    "colab_type": "text",
    "id": "g1P3nA_fC6tv"
   },
   "source": [
    "También es posible acceder a una porción del string. Esto se hace utilizando también corchetes `[]`, pero se especifica el indice donde comienzo, luego `:` y luego el indice donde termino."
   ]
  },
  {
   "cell_type": "code",
   "execution_count": 82,
   "metadata": {
    "colab": {},
    "colab_type": "code",
    "id": "4BKeHIpYC6tw"
   },
   "outputs": [
    {
     "name": "stdout",
     "output_type": "stream",
     "text": [
      "a un caracter \n"
     ]
    }
   ],
   "source": [
    "#Corre la siguiente linea\n",
    "print(prueba_indice[8:22])"
   ]
  },
  {
   "cell_type": "markdown",
   "metadata": {
    "colab_type": "text",
    "id": "PraEhjfTC6tz"
   },
   "source": [
    "**¿Notaste algo en particular?** Para poder traer la porción entre el 9no y el 22do caracter, debo especificar el caracter donde comienza (`8`) y la posición donde termina (`21`).   \n",
    "Sin embargo, especificamos 22. ¿Por qué? Porque Python **SIEMPRE excluye** la última posición que le especifiquemos. Entonces si especificamos hasta 21, traera hasta el 20. Si queremos hasta el 21 inclusive, debemos colocar 22 entonces."
   ]
  },
  {
   "cell_type": "code",
   "execution_count": 83,
   "metadata": {
    "colab": {},
    "colab_type": "code",
    "id": "gikohBmSC6t0"
   },
   "outputs": [],
   "source": [
    "#asigna el string a la variable mi_frase_prueba\n",
    "mi_frase_prueba = \"Es esencial que leas mucho\"\n",
    "mi_segunda_prueba = \"Para muchos era invisible aunque sus ojos se destacaban\""
   ]
  },
  {
   "cell_type": "code",
   "execution_count": 84,
   "metadata": {
    "colab": {},
    "colab_type": "code",
    "id": "1B_K-OnZC6t4"
   },
   "outputs": [],
   "source": [
    "#Selecciona el substring esencial de la variable mi_frase_prueba y asignalo a la variable primera_palabra\n",
    "primera_palabra = mi_frase_prueba[3:11]\n",
    "\n",
    "#Selecciona el substring invisible de la variable mi_segunda_prueba y asignalo a la variable segunda_palabra\n",
    "segunda_palabra = mi_segunda_prueba[16:25]\n",
    "#Selecciona el substring ojos de la variable mi_segunda_prueba y asignalo a la variable tercera_palabra\n",
    "tercera_palabra = mi_segunda_prueba[37:41]"
   ]
  },
  {
   "cell_type": "code",
   "execution_count": 85,
   "metadata": {
    "colab": {},
    "colab_type": "code",
    "id": "5Xm_3YMsC6t7"
   },
   "outputs": [
    {
     "name": "stdout",
     "output_type": "stream",
     "text": [
      "Lo esencial es invisible a los ojos\n"
     ]
    }
   ],
   "source": [
    "#Concatena los strings \"Lo\", primera_palabra, \"es\", segunda_palabra, \"a los\", tercera_palabra.\n",
    "#Imprime el resultado. No te olvides de especificar espacios usando el string \" \"\n",
    "print(\"Lo\"+\" \"+primera_palabra+\" \"+\"es\"+\" \"+segunda_palabra+\" \"+\"a los\"+\" \"+tercera_palabra)"
   ]
  },
  {
   "cell_type": "code",
   "execution_count": 86,
   "metadata": {
    "colab": {},
    "colab_type": "code",
    "id": "8Nlfkui7C6t9"
   },
   "outputs": [
    {
     "ename": "TypeError",
     "evalue": "can only concatenate str (not \"int\") to str",
     "output_type": "error",
     "traceback": [
      "\u001b[0;31m---------------------------------------------------------------------------\u001b[0m",
      "\u001b[0;31mTypeError\u001b[0m                                 Traceback (most recent call last)",
      "\u001b[0;32m<ipython-input-86-a1ab09cf6007>\u001b[0m in \u001b[0;36m<module>\u001b[0;34m\u001b[0m\n\u001b[1;32m      1\u001b[0m \u001b[0;31m#Ahora concatena tercera_palabra y la variable mi_numero definida anteriormente\u001b[0m\u001b[0;34m\u001b[0m\u001b[0;34m\u001b[0m\u001b[0;34m\u001b[0m\u001b[0m\n\u001b[0;32m----> 2\u001b[0;31m \u001b[0mprint\u001b[0m\u001b[0;34m(\u001b[0m\u001b[0mtercera_palabra\u001b[0m \u001b[0;34m+\u001b[0m \u001b[0mmi_numero\u001b[0m\u001b[0;34m)\u001b[0m\u001b[0;34m\u001b[0m\u001b[0;34m\u001b[0m\u001b[0m\n\u001b[0m",
      "\u001b[0;31mTypeError\u001b[0m: can only concatenate str (not \"int\") to str"
     ]
    }
   ],
   "source": [
    "#Ahora concatena tercera_palabra y la variable mi_numero definida anteriormente\n",
    "print(tercera_palabra + mi_numero)"
   ]
  },
  {
   "cell_type": "markdown",
   "metadata": {
    "colab_type": "text",
    "id": "fOtMiTaAC6t-"
   },
   "source": [
    "Como podrás ver no es posible concatenar variables de distintos tipos. Sin embargo, hay algunas funciones que nos brinda Python que nos permiten transformar entre tipos de variables."
   ]
  },
  {
   "cell_type": "markdown",
   "metadata": {
    "colab_type": "text",
    "id": "AxYmh0bPC6t_"
   },
   "source": [
    "- `str()` convierte a string una variable o valor"
   ]
  },
  {
   "cell_type": "code",
   "execution_count": 87,
   "metadata": {
    "colab": {},
    "colab_type": "code",
    "id": "zLdobCdRC6t_"
   },
   "outputs": [],
   "source": [
    "#Aplica la función str a la variable mi_numero y guardala en la variable mi_numero_str\n",
    "\n",
    "mi_numero_str = str(mi_numero)"
   ]
  },
  {
   "cell_type": "code",
   "execution_count": 88,
   "metadata": {
    "colab": {},
    "colab_type": "code",
    "id": "tpwy7gW1C6uB"
   },
   "outputs": [
    {
     "name": "stdout",
     "output_type": "stream",
     "text": [
      "ojos4\n"
     ]
    }
   ],
   "source": [
    "#Concatena tercera_palabra y mi_numero_str\n",
    "print(tercera_palabra + mi_numero_str)"
   ]
  },
  {
   "cell_type": "markdown",
   "metadata": {
    "colab_type": "text",
    "id": "iEs4xK8MC6uE"
   },
   "source": [
    "- `int()` convierte a entero una variable o valor"
   ]
  },
  {
   "cell_type": "code",
   "execution_count": 89,
   "metadata": {
    "colab": {},
    "colab_type": "code",
    "id": "xwWHF4VRC6uF"
   },
   "outputs": [
    {
     "name": "stdout",
     "output_type": "stream",
     "text": [
      "20\n"
     ]
    }
   ],
   "source": [
    "#Aplica la función int a mi_numero_str y multiplicalo por 5\n",
    "print(int(mi_numero_str) * 5)"
   ]
  },
  {
   "cell_type": "markdown",
   "metadata": {
    "colab_type": "text",
    "id": "jm_J36yOC6uG"
   },
   "source": [
    "Otras funciones similares son: [`float()`](https://docs.python.org/3/library/functions.html#float) y [`bool()`](https://docs.python.org/3/library/functions.html#bool)."
   ]
  },
  {
   "cell_type": "markdown",
   "metadata": {
    "colab_type": "text",
    "id": "0vQyHZeGC6uH"
   },
   "source": [
    "#### Inmutables"
   ]
  },
  {
   "cell_type": "markdown",
   "metadata": {
    "colab_type": "text",
    "id": "4VMg6_cGC6uH"
   },
   "source": [
    "Todos los tipos de variables que vimos hasta ahora son **inmutables**. Esto significa que no pueden ser alteradas después de haber sido creadas."
   ]
  },
  {
   "cell_type": "code",
   "execution_count": 90,
   "metadata": {
    "colab": {},
    "colab_type": "code",
    "id": "NGUAqzrNC6uI"
   },
   "outputs": [
    {
     "ename": "TypeError",
     "evalue": "'str' object does not support item assignment",
     "output_type": "error",
     "traceback": [
      "\u001b[0;31m---------------------------------------------------------------------------\u001b[0m",
      "\u001b[0;31mTypeError\u001b[0m                                 Traceback (most recent call last)",
      "\u001b[0;32m<ipython-input-90-7951f226d429>\u001b[0m in \u001b[0;36m<module>\u001b[0;34m\u001b[0m\n\u001b[1;32m      1\u001b[0m \u001b[0;31m#Corre la siguiente linea y observa que occurre\u001b[0m\u001b[0;34m\u001b[0m\u001b[0;34m\u001b[0m\u001b[0;34m\u001b[0m\u001b[0m\n\u001b[1;32m      2\u001b[0m \u001b[0mvariable_inmutable\u001b[0m \u001b[0;34m=\u001b[0m \u001b[0;34m\"Los strings son inmutables en Python\"\u001b[0m\u001b[0;34m\u001b[0m\u001b[0;34m\u001b[0m\u001b[0m\n\u001b[0;32m----> 3\u001b[0;31m \u001b[0mvariable_inmutable\u001b[0m\u001b[0;34m[\u001b[0m\u001b[0;36m8\u001b[0m\u001b[0;34m]\u001b[0m \u001b[0;34m=\u001b[0m \u001b[0;34m\"f\"\u001b[0m\u001b[0;34m\u001b[0m\u001b[0;34m\u001b[0m\u001b[0m\n\u001b[0m",
      "\u001b[0;31mTypeError\u001b[0m: 'str' object does not support item assignment"
     ]
    }
   ],
   "source": [
    "#Corre la siguiente linea y observa que occurre\n",
    "variable_inmutable = \"Los strings son inmutables en Python\"\n",
    "variable_inmutable[8] = \"f\""
   ]
  },
  {
   "cell_type": "markdown",
   "metadata": {
    "colab_type": "text",
    "id": "9qsVsUSMC6uJ"
   },
   "source": [
    "Lo que nos dice el error, es que una vez asignada una variable, no puedo cambiar parte de ella. "
   ]
  },
  {
   "cell_type": "markdown",
   "metadata": {
    "colab_type": "text",
    "id": "Yxmey-kFC6uK"
   },
   "source": [
    "Además de los mencionados hasta ahora, Python nos ofrece otras estructura de datos que son más flexibles y permiten agrupar varios valores. Además muchas de ellas son mutables, es decir, permiten que asignemos o alteremos valores una vez definidas. "
   ]
  },
  {
   "cell_type": "markdown",
   "metadata": {
    "colab_type": "text",
    "id": "ynkYotXeC6uK"
   },
   "source": [
    "### LISTAS"
   ]
  },
  {
   "cell_type": "markdown",
   "metadata": {
    "colab_type": "text",
    "id": "SmxeSwXkC6uL"
   },
   "source": [
    "Una lista es una collección **mutable** de elementos **ORDENADOS**, que pueden ser de distinto tipo. Las listas se crean utilizando corchetes como en el ejemplo."
   ]
  },
  {
   "cell_type": "code",
   "execution_count": 91,
   "metadata": {
    "colab": {},
    "colab_type": "code",
    "id": "gI0fRotgC6uL"
   },
   "outputs": [
    {
     "name": "stdout",
     "output_type": "stream",
     "text": [
      "['mi', 'lista', 3, 4.5, True]\n",
      "<class 'list'>\n"
     ]
    }
   ],
   "source": [
    "#Corre la siguiente linea para declarar la lista mi_lista\n",
    "mi_lista = [\"mi\", \"lista\", 3, 4.5, True]\n",
    "\n",
    "#Muestra el contenido de la variable mi_lista\n",
    "print(mi_lista)\n",
    "\n",
    "#Chequea el tipo de variable de mi_lista\n",
    "print(type(mi_lista))"
   ]
  },
  {
   "cell_type": "code",
   "execution_count": 92,
   "metadata": {
    "colab": {},
    "colab_type": "code",
    "id": "a7S6hwGsC6uN"
   },
   "outputs": [],
   "source": [
    "#Define una lista que contenga 10 elementos y asignaselos a la variable primer_lista\n",
    "primer_lista = [\"baby\", \"where\", 22, 5.5, \"is\", 'your', True, 33, \"love\", 'gone']"
   ]
  },
  {
   "cell_type": "markdown",
   "metadata": {
    "colab_type": "text",
    "id": "wyoLWYfDC6uP"
   },
   "source": [
    "Para poder acceder a un elemento en una lista, vamos a usar indices al igual que lo hicimos con los strings. También podemos obtener parte de la lista usando la notación `lista[n:m]` como lo hicimos en los strings.  \n",
    "Algo que no dijimos es que si omito el primer indice, `lista[:m]`, esto indica que mi substring comienza con el indice 0, y si omito el segundo indice `lista[n:]` indica que mi substring va hasta el final de la lista."
   ]
  },
  {
   "cell_type": "code",
   "execution_count": 93,
   "metadata": {
    "colab": {},
    "colab_type": "code",
    "id": "tT6gLD7FC6uR"
   },
   "outputs": [
    {
     "name": "stdout",
     "output_type": "stream",
     "text": [
      "5.5\n"
     ]
    }
   ],
   "source": [
    "#Imprime el cuarto elemento de la lista primer_lista\n",
    "print(primer_lista[3])"
   ]
  },
  {
   "cell_type": "code",
   "execution_count": 94,
   "metadata": {
    "colab": {},
    "colab_type": "code",
    "id": "lka-LYWAC6uS"
   },
   "outputs": [
    {
     "name": "stdout",
     "output_type": "stream",
     "text": [
      "6\n"
     ]
    }
   ],
   "source": [
    "#Imprime el resultado de sumar los numeros 2 y 4 contenidos en la siguiente lista\n",
    "mis_numeros = [3, 5, 6, 4, 21, 2, 5]\n",
    "print(mis_numeros[3]+mis_numeros[5])\n",
    "\n"
   ]
  },
  {
   "cell_type": "markdown",
   "metadata": {
    "colab_type": "text",
    "id": "si0-zfWtC6uU"
   },
   "source": [
    "Hasta ahora vimos solo como acceder utilizando indices positivos, pero también podemos acceder usando **indices negativos**. El último caracter tendra el indice -1, el anteultimo -2 y así sucesivamente."
   ]
  },
  {
   "cell_type": "code",
   "execution_count": 95,
   "metadata": {
    "colab": {},
    "colab_type": "code",
    "id": "lHKnJnb8C6uX"
   },
   "outputs": [
    {
     "name": "stdout",
     "output_type": "stream",
     "text": [
      "gone\n"
     ]
    }
   ],
   "source": [
    "#Imprime el ultimo elemento de la lista primer_lista\n",
    "print(primer_lista [-1])"
   ]
  },
  {
   "cell_type": "code",
   "execution_count": 96,
   "metadata": {
    "colab": {},
    "colab_type": "code",
    "id": "SzEcpnyaC6uZ"
   },
   "outputs": [
    {
     "name": "stdout",
     "output_type": "stream",
     "text": [
      "[5.5, 'is']\n"
     ]
    }
   ],
   "source": [
    "#Imprime la sublista que va desde el cuarto elemento hasta el sexto elemento inclusive de la lista primer_lista\n",
    "print(primer_lista[3:5])"
   ]
  },
  {
   "cell_type": "code",
   "execution_count": 97,
   "metadata": {
    "colab": {},
    "colab_type": "code",
    "id": "B1AoYaYMC6ub"
   },
   "outputs": [
    {
     "name": "stdout",
     "output_type": "stream",
     "text": [
      "['baby', 'where', 22, 5.5, 'is', 'your']\n",
      "['your', True, 33, 'love', 'gone']\n"
     ]
    }
   ],
   "source": [
    "#Imprime la sublista que contenga los primeros cinco elementos de primer_lista\n",
    "print(primer_lista[0:6])\n",
    "\n",
    "#Imprime la sublista que contenga los últimos cinco elementos de primer_lista\n",
    "print(primer_lista[5:11])"
   ]
  },
  {
   "cell_type": "markdown",
   "metadata": {
    "colab_type": "text",
    "id": "a-YLnbSwC6ue"
   },
   "source": [
    "La función `len()` nos permite saber cuantos elementos hay en una lista."
   ]
  },
  {
   "cell_type": "code",
   "execution_count": 98,
   "metadata": {
    "colab": {},
    "colab_type": "code",
    "id": "RsBiSJxVC6uf"
   },
   "outputs": [
    {
     "name": "stdout",
     "output_type": "stream",
     "text": [
      "22\n"
     ]
    }
   ],
   "source": [
    "#¿Cuantos elementos hay en la siguiente lista?\n",
    "elementos_listas = [12, 241, 141, 5151, \"hola\", \"python\", 41, 141, \"data science\", \"mujeres\", True, 343.98, \"hallway\", 11.25, \"kitchen\", 18.0, \n",
    "                    \"living room\", 20.0, \"bedroom\", 10.75, \"bathroom\", 9.50]\n",
    "\n",
    "#Numero elementos en lista\n",
    "print(len(elementos_listas))"
   ]
  },
  {
   "cell_type": "markdown",
   "metadata": {
    "colab_type": "text",
    "id": "4lZJQBiIC6ug"
   },
   "source": [
    "El operador `in` nos permite saber si un elemento esta en una lista."
   ]
  },
  {
   "cell_type": "code",
   "execution_count": 99,
   "metadata": {
    "colab": {},
    "colab_type": "code",
    "id": "IPTYVkUtC6ug"
   },
   "outputs": [
    {
     "name": "stdout",
     "output_type": "stream",
     "text": [
      "False\n"
     ]
    }
   ],
   "source": [
    "#Chequea si False esta en elementos_lista\n",
    "print(False in elementos_listas)"
   ]
  },
  {
   "cell_type": "markdown",
   "metadata": {
    "colab_type": "text",
    "id": "0ZwNNmH3C6ui"
   },
   "source": [
    "Dijimos que las listas son estructuras de datos que pueden alterarse, o son mutables. Eso significa que podemos reasignar valores una vez definida la lista. Para esto especificamos usando el indice que elemento(s) queremos redefinir y le asignamos un nuevo valor."
   ]
  },
  {
   "cell_type": "code",
   "execution_count": 101,
   "metadata": {
    "colab": {},
    "colab_type": "code",
    "id": "jNKYYM0PC6ui"
   },
   "outputs": [
    {
     "name": "stdout",
     "output_type": "stream",
     "text": [
      "hola\n"
     ]
    }
   ],
   "source": [
    "#Imprime el quinto elemento presente en elementos_lista\n",
    "print(elementos_listas [4])"
   ]
  },
  {
   "cell_type": "code",
   "execution_count": 102,
   "metadata": {
    "colab": {},
    "colab_type": "code",
    "id": "-cx21yndC6uk"
   },
   "outputs": [],
   "source": [
    "#Asigna ahora el valor \"chau\" al quinto elemento de elementos_lista\n",
    "elementos_listas [4] = \"chau\""
   ]
  },
  {
   "cell_type": "code",
   "execution_count": 103,
   "metadata": {
    "colab": {},
    "colab_type": "code",
    "id": "qokbZ0R_C6um"
   },
   "outputs": [
    {
     "name": "stdout",
     "output_type": "stream",
     "text": [
      "[12, 241, 141, 5151, 'chau', 'python', 41, 141, 'data science', 'mujeres', True, 343.98, 'hallway', 11.25, 'kitchen', 18.0, 'living room', 20.0, 'bedroom', 10.75, 'bathroom', 9.5]\n"
     ]
    }
   ],
   "source": [
    "#Imprime la lista elementos_lista\n",
    "print(elementos_listas)"
   ]
  },
  {
   "cell_type": "markdown",
   "metadata": {
    "colab_type": "text",
    "id": "xPte-cL7C6uo"
   },
   "source": [
    "Las listas también se pueden concatenar utilizando el operador `+`."
   ]
  },
  {
   "cell_type": "code",
   "execution_count": 104,
   "metadata": {
    "colab": {},
    "colab_type": "code",
    "id": "d7CGI63UC6up"
   },
   "outputs": [
    {
     "name": "stdout",
     "output_type": "stream",
     "text": [
      "[12, 241, 141, 5151, 'chau', 'python', 41, 141, 'data science', 'mujeres', True, 343.98, 'hallway', 11.25, 'kitchen', 18.0, 'living room', 20.0, 'bedroom', 10.75, 'bathroom', 9.5, 'baby', 'where', 22, 5.5, 'is', 'your', True, 33, 'love', 'gone']\n"
     ]
    }
   ],
   "source": [
    "#Concatena las listas elementos_lista y primer_lista. Asignaselo a la variable nueva_lista\n",
    "\n",
    "nueva_lista = elementos_listas + primer_lista\n",
    "#Imprime nueva_lista\n",
    "print(nueva_lista)"
   ]
  },
  {
   "cell_type": "markdown",
   "metadata": {
    "colab_type": "text",
    "id": "KKHRk4ndC6uq"
   },
   "source": [
    "### Diccionarios"
   ]
  },
  {
   "cell_type": "markdown",
   "metadata": {
    "colab_type": "text",
    "id": "S_Ve-BOQC6ur"
   },
   "source": [
    "Otra estructura de datos muy útil son los diccionarios. Los diccionarios en Python son un tipo de estructuras de datos que permite guardar un conjunto **no ordenado** de pares **clave-valor**, siendo las claves únicas dentro de un mismo diccionario (es decir que no pueden existir dos elementos con una misma clave).\n",
    "\n",
    "En Python, los diccionarios se definen utilizando llaves `{}` y cada uno de los elementos estan separados por comas. Cada elemento lo definimos con su par clave:valor, pudiendo ser la clave y el valor de cualquier tipo (`int`, `float`, `string`, `bool`)."
   ]
  },
  {
   "cell_type": "code",
   "execution_count": 109,
   "metadata": {
    "colab": {},
    "colab_type": "code",
    "id": "ROJuqSVKC6ur"
   },
   "outputs": [],
   "source": [
    "#Completa el siguiente codigo reemplazando ---- con valores y/o claves \n",
    "diccionario = {\n",
    "    #clave : valor\n",
    "    'Alberto' : [10, 87, True],\n",
    "    'John' : False,\n",
    "    'Juan' : 12,\n",
    "    'Amanda' : [43,5]\n",
    "}"
   ]
  },
  {
   "cell_type": "markdown",
   "metadata": {
    "colab_type": "text",
    "id": "yNGhz-kzC6us"
   },
   "source": [
    "Para acceder a los valores, se hace mediante la clave utilizando también corchetes."
   ]
  },
  {
   "cell_type": "code",
   "execution_count": 111,
   "metadata": {
    "colab": {},
    "colab_type": "code",
    "id": "3Bj4lML-C6us"
   },
   "outputs": [
    {
     "name": "stdout",
     "output_type": "stream",
     "text": [
      "[10, 87, True]\n"
     ]
    }
   ],
   "source": [
    "#Imprime los valores asociados con la clave 'Alberto'\n",
    "print(diccionario['Alberto'])"
   ]
  },
  {
   "cell_type": "code",
   "execution_count": 112,
   "metadata": {
    "colab": {},
    "colab_type": "code",
    "id": "Q-9zcJGzC6uu",
    "scrolled": false
   },
   "outputs": [
    {
     "data": {
      "text/plain": [
       "dict_keys(['Alberto', 'John', 'Juan', 'Amanda'])"
      ]
     },
     "execution_count": 112,
     "metadata": {},
     "output_type": "execute_result"
    }
   ],
   "source": [
    "#Corre la siguiente linea y observa el resultado\n",
    "diccionario.keys()"
   ]
  },
  {
   "cell_type": "code",
   "execution_count": 113,
   "metadata": {
    "colab": {},
    "colab_type": "code",
    "id": "qqcXi4UDC6uv",
    "scrolled": true
   },
   "outputs": [
    {
     "data": {
      "text/plain": [
       "dict_values([[10, 87, True], False, 12, [43, 5]])"
      ]
     },
     "execution_count": 113,
     "metadata": {},
     "output_type": "execute_result"
    }
   ],
   "source": [
    "#Corre la siguiente linea y observa el resultado\n",
    "diccionario.values()"
   ]
  },
  {
   "cell_type": "code",
   "execution_count": 114,
   "metadata": {
    "colab": {},
    "colab_type": "code",
    "id": "ZZi2WOxKE0jc"
   },
   "outputs": [
    {
     "data": {
      "text/plain": [
       "dict_keys(['Alberto', 'John', 'Juan', 'Amanda'])"
      ]
     },
     "execution_count": 114,
     "metadata": {},
     "output_type": "execute_result"
    }
   ],
   "source": [
    "diccionario.keys()"
   ]
  },
  {
   "cell_type": "markdown",
   "metadata": {
    "colab_type": "text",
    "id": "QMN43oUiC6uw"
   },
   "source": [
    "## Módulo 2: Funciones y Estructuras de control"
   ]
  },
  {
   "cell_type": "markdown",
   "metadata": {
    "colab_type": "text",
    "id": "ZD-FtjSJC6ux"
   },
   "source": [
    "En esta parte de la clase, vamos a estudiar sentencias de código que nos permitiran evaluar expresiones, recorrer estructura de datos o realizar operaciones mas complejas sobre ellas."
   ]
  },
  {
   "cell_type": "markdown",
   "metadata": {
    "colab_type": "text",
    "id": "GJqXaeDSC6ux"
   },
   "source": [
    "Antes que nada, veremos un tipo de operadores que nos permiten realizar comparaciones entre variables o valores."
   ]
  },
  {
   "cell_type": "markdown",
   "metadata": {
    "colab_type": "text",
    "id": "ihbO3obvC6uy"
   },
   "source": [
    "### Operadores de comparación"
   ]
  },
  {
   "cell_type": "markdown",
   "metadata": {
    "colab_type": "text",
    "id": "71FDE59OC6uz"
   },
   "source": [
    "Hay varios operadores en Python que nos permiten comparar variables o estructura de datos. Observemos la siguiente lista:"
   ]
  },
  {
   "cell_type": "markdown",
   "metadata": {
    "colab_type": "text",
    "id": "YjzTYapKC6uz"
   },
   "source": [
    "`==` : los valores son iguales (**OJO!** Es común confundirse y usar `=`, pero acordate que este es usado para asignar variables)  \n",
    "`!=` : los valores no son iguales  \n",
    "`<` : el valor a la izquierda es menor que el valor a la derecha  \n",
    "`>` : el valor a la izquierda es mayor que el valor a la derecha  \n",
    "`<=` : el valor a la izquierda es menor o igual que el valor a la derecha  \n",
    "`>=` : el valor a la izquierda es mayor o igual que el valor a la derecha  "
   ]
  },
  {
   "cell_type": "code",
   "execution_count": 117,
   "metadata": {
    "colab": {},
    "colab_type": "code",
    "id": "xilhICAmC6u0"
   },
   "outputs": [
    {
     "name": "stdout",
     "output_type": "stream",
     "text": [
      "False\n"
     ]
    }
   ],
   "source": [
    "#Chequea si las variables mi_bool y otra_bool que definiste mas arriba son iguales\n",
    "\n",
    "print(mi_bool == otra_bool)\n",
    "\n"
   ]
  },
  {
   "cell_type": "code",
   "execution_count": 118,
   "metadata": {
    "colab": {},
    "colab_type": "code",
    "id": "d4aZv_WMC6u2"
   },
   "outputs": [
    {
     "name": "stdout",
     "output_type": "stream",
     "text": [
      "True\n"
     ]
    }
   ],
   "source": [
    "#Chequea si la variable float_numero es mayor a 4\n",
    "\n",
    "print(float_numero > 4)\n",
    "\n"
   ]
  },
  {
   "cell_type": "code",
   "execution_count": 120,
   "metadata": {
    "colab": {},
    "colab_type": "code",
    "id": "kxU2fGaQC6u3"
   },
   "outputs": [
    {
     "name": "stdout",
     "output_type": "stream",
     "text": [
      "False\n"
     ]
    }
   ],
   "source": [
    "#Chequea si la longitud de la variable primer_lista es mayor o igual que la longitud de elementos_listas\n",
    "print(len(primer_lista) >= len(elementos_listas))"
   ]
  },
  {
   "cell_type": "code",
   "execution_count": 125,
   "metadata": {
    "colab": {},
    "colab_type": "code",
    "id": "LHi8VrRSC6u4"
   },
   "outputs": [
    {
     "name": "stdout",
     "output_type": "stream",
     "text": [
      "False\n"
     ]
    }
   ],
   "source": [
    "#Chequea si el cuarto elemento de elementos_listas es menor o igual a multiplicar mi_numero_str por el segundo valor \n",
    "#asociado a la clave Alberto de diccionario\n",
    "print((elementos_listas[3]) <= mi_numero * diccionario['Alberto'][1])\n"
   ]
  },
  {
   "cell_type": "markdown",
   "metadata": {
    "colab_type": "text",
    "id": "eJKejMQrC6u5"
   },
   "source": [
    "## Definiendo Funciones"
   ]
  },
  {
   "cell_type": "markdown",
   "metadata": {
    "colab_type": "text",
    "id": "lifgXlRAC6u6"
   },
   "source": [
    "Python nos permite crear nuestras propias funciones. Una **función** es una secuencia de sentencias que ejecuta una operación deseada y tiene un nombre. Esta operación se especifica en una definición de función. En Python, la estructura general de una función contiene:\n",
    "\n",
    "- Un encabezado, que empieza con una palabra reservada `def` y termina con dos puntos.\n",
    "- Un cuerpo consistente de una o más sentencias de Python"
   ]
  },
  {
   "cell_type": "markdown",
   "metadata": {
    "colab_type": "text",
    "id": "agknHgapC6u6"
   },
   "source": [
    "Antes de seguir adelante debemos aclarar algo que es muy importante para la sintaxis de Python. Las funciones de Python no tienen begin o end explícitos, ni llaves que marquen dónde empieza o termina su código, como otros lenguajes de programación. El único delimitador son dos puntos `:` y el **INDENTADO** del propio código."
   ]
  },
  {
   "cell_type": "markdown",
   "metadata": {
    "colab_type": "text",
    "id": "HoLWaUgUC6u7"
   },
   "source": [
    "Los bloques de código van definidos por su indentados. Con **bloque de código** nos referimos a funciones, sentencias if, bucles for, while, etc. El indentado comienza un bloque y su ausencia lo termina. No hay llaves, corchetes ni palabras clave explícitas. Esto quiere decir que el espacio en blanco es significativo y debe ser consistente. "
   ]
  },
  {
   "cell_type": "markdown",
   "metadata": {
    "colab_type": "text",
    "id": "N-9t9D3qC6u7"
   },
   "source": [
    "Por convención, el indentado en Python esta dado por la presencia de **4 espacios**. Veamos entonces la sintaxis para una definición de función en Python y como funciona el indentado."
   ]
  },
  {
   "cell_type": "code",
   "execution_count": 81,
   "metadata": {
    "colab": {},
    "colab_type": "code",
    "id": "pUysXvgvC6u8"
   },
   "outputs": [
    {
     "data": {
      "text/plain": [
       "8"
      ]
     },
     "execution_count": 81,
     "metadata": {},
     "output_type": "execute_result"
    }
   ],
   "source": [
    "#Para definir una funcion en python debo comenzar con def\n",
    "#luego el nombre de la funcion\n",
    "#Entre parentesis declaro los argumentos o variables que debe tomar\n",
    "#la funcion definida\n",
    "def suma(a, b):\n",
    "    #En el cuerpo establezco que hara la función\n",
    "    return a+b\n",
    "suma(3, 5)"
   ]
  },
  {
   "cell_type": "markdown",
   "metadata": {
    "colab_type": "text",
    "id": "iW1QoJR3C6u9"
   },
   "source": [
    "Observa que la primer linea no tiene indentado, pero termina con `:`. Esto le indica a Python que alli comienza la función `comparacion`. En la segunda linea, hay un indentado de 4 espacios. Esto le indica a Python que comienza un bloque de código y todo lo que vaya ahi, ira dentro de la función. \n",
    "Luego en la tercer linea, no tenemos identado, lo que le indica a Python que la función `suma` ha finalizado."
   ]
  },
  {
   "cell_type": "markdown",
   "metadata": {
    "colab_type": "text",
    "id": "2Kk_q0WEC6u9"
   },
   "source": [
    "`return` devuelve el valor de la función. Se utiliza dentro de una función. Una vez que mi función ejecuta la sentencia return, devuelve el valor especificado y no sigue ejecutando el resto de las lineas. "
   ]
  },
  {
   "cell_type": "code",
   "execution_count": 82,
   "metadata": {
    "colab": {},
    "colab_type": "code",
    "id": "CuHTQ9j1C6u-"
   },
   "outputs": [],
   "source": [
    "#Ejecuta el siguiente codigo\n",
    "def promedio(x, y):\n",
    "    resultado = (x + y) / 2\n",
    "    return resultado"
   ]
  },
  {
   "cell_type": "code",
   "execution_count": 83,
   "metadata": {
    "colab": {},
    "colab_type": "code",
    "id": "3fi__rObC6u_"
   },
   "outputs": [
    {
     "data": {
      "text/plain": [
       "10.5"
      ]
     },
     "execution_count": 83,
     "metadata": {},
     "output_type": "execute_result"
    }
   ],
   "source": [
    "promedio(9, 12)"
   ]
  },
  {
   "cell_type": "markdown",
   "metadata": {
    "colab_type": "text",
    "id": "VrOuhbY7C6vA"
   },
   "source": [
    "## IF-staments"
   ]
  },
  {
   "cell_type": "markdown",
   "metadata": {
    "colab_type": "text",
    "id": "qTrMnNFPC6vA"
   },
   "source": [
    "Para escribir código útil, casi siempre necesitamos la capacidad de comprobar ciertas condiciones y cambiar el comportamiento del código como corresponda. Las sentencias condicionales nos dan esta capacidad. \n",
    "\n",
    "En Python, las sentencias condicionales vienen dadas por la sentencia `if-elif-else`. Veamos varios ejemplos."
   ]
  },
  {
   "cell_type": "code",
   "execution_count": 1,
   "metadata": {
    "colab": {},
    "colab_type": "code",
    "id": "sj4lOO2DC6vB"
   },
   "outputs": [],
   "source": [
    "x = 5\n",
    "y = 4"
   ]
  },
  {
   "cell_type": "code",
   "execution_count": 85,
   "metadata": {
    "colab": {},
    "colab_type": "code",
    "id": "ItByu5f8C6vC"
   },
   "outputs": [],
   "source": [
    "#Primero evaluo si x es menor a y\n",
    "if x < y:\n",
    "    #Si lo es imprimo esta secuencia\n",
    "    print(x, \"es menor que\", y)"
   ]
  },
  {
   "cell_type": "code",
   "execution_count": 86,
   "metadata": {
    "colab": {},
    "colab_type": "code",
    "id": "JTnaB5eBC6vD",
    "scrolled": true
   },
   "outputs": [
    {
     "name": "stdout",
     "output_type": "stream",
     "text": [
      "5 es mayor o igual que 4\n"
     ]
    }
   ],
   "source": [
    "#Primero evaluo si x es menor a y\n",
    "if x < y:\n",
    "    #Si lo es imprimo esta secuencia\n",
    "    print(x, \"es menor que\", y)\n",
    "#Si esto no se cumple\n",
    "else:\n",
    "    #Entonces imprimo esta secuencia\n",
    "    print(x, \"es mayor o igual que\", y)"
   ]
  },
  {
   "cell_type": "code",
   "execution_count": 87,
   "metadata": {
    "colab": {},
    "colab_type": "code",
    "id": "DVySNJwcC6vE"
   },
   "outputs": [
    {
     "name": "stdout",
     "output_type": "stream",
     "text": [
      "5 es mayor que 4\n"
     ]
    }
   ],
   "source": [
    "#Primero evaluo si x es menor a y\n",
    "if x < y:\n",
    "    #Si lo es imprimo esta secuencia\n",
    "    print(x, \"es menor que\", y)\n",
    "#Si no lo es evaluo si x es mayor a y\n",
    "elif x > y:\n",
    "    #Si lo es, imprimo ahora esta secuencia\n",
    "    print(x, \"es mayor que\", y)"
   ]
  },
  {
   "cell_type": "code",
   "execution_count": 88,
   "metadata": {
    "colab": {},
    "colab_type": "code",
    "id": "4DGLGhoqC6vF"
   },
   "outputs": [
    {
     "name": "stdout",
     "output_type": "stream",
     "text": [
      "5 es mayor que 4\n"
     ]
    }
   ],
   "source": [
    "#Primero evaluo si x es menor a y\n",
    "if x < y:\n",
    "    #Si lo es imprimo esta secuencia\n",
    "    print(x, \"es menor que\", y)\n",
    "#Si no lo es evaluo si x es mayor a y\n",
    "elif x > y:\n",
    "    #Si lo es, imprimo ahora esta secuencia\n",
    "    print(x, \"es mayor que\", y)\n",
    "#Si ninguna de las condiciones anteriores se cumple\n",
    "else:\n",
    "    #Entonces imprimo esta secuencia\n",
    "    print(x, \"y\", y, \"son iguales\")"
   ]
  },
  {
   "cell_type": "markdown",
   "metadata": {
    "colab_type": "text",
    "id": "Y9fmVNGnC6vJ"
   },
   "source": [
    "## Iteración"
   ]
  },
  {
   "cell_type": "markdown",
   "metadata": {
    "colab_type": "text",
    "id": "ezvzV5cLC6vK"
   },
   "source": [
    "La ejecución repetida de un conjunto de sentencias se llama **iteración**. Python proporciona varias sentencias que hacen más fácil la iteración."
   ]
  },
  {
   "cell_type": "markdown",
   "metadata": {
    "colab_type": "text",
    "id": "Z6NsNH_LC6vL"
   },
   "source": [
    "## While"
   ]
  },
  {
   "cell_type": "markdown",
   "metadata": {
    "colab_type": "text",
    "id": "1l0Ip3THC6vM"
   },
   "source": [
    "La primera sentencia es `while`. Veamos como se utiliza ejecutando las siguientes lineas de código."
   ]
  },
  {
   "cell_type": "code",
   "execution_count": 89,
   "metadata": {
    "colab": {},
    "colab_type": "code",
    "id": "iSCJt7ukC6vM"
   },
   "outputs": [],
   "source": [
    "n = 6"
   ]
  },
  {
   "cell_type": "code",
   "execution_count": 90,
   "metadata": {
    "colab": {},
    "colab_type": "code",
    "id": "XGVxbFqjC6vN"
   },
   "outputs": [
    {
     "name": "stdout",
     "output_type": "stream",
     "text": [
      "6\n",
      "5\n",
      "4\n",
      "3\n",
      "2\n",
      "1\n",
      "Fin del conteo\n"
     ]
    }
   ],
   "source": [
    "#evaluo n. Ni n es mayor a 0.\n",
    "while n > 0:\n",
    "    #Muestro n\n",
    "    print(n)\n",
    "    #Asigno a n el resultado de n-1\n",
    "    n = n-1\n",
    "#Cuando termina el while muestro el siguiente string\n",
    "print(\"Fin del conteo\")"
   ]
  },
  {
   "cell_type": "markdown",
   "metadata": {
    "colab_type": "text",
    "id": "bpGThajWC6vQ"
   },
   "source": [
    "La función anterior establece que: “Mientras n sea mayor que 0, mostra el valor de n y luego reduci el valor de n en 1. Cuando llegue a 0, muestra la frase Fin del conteo“"
   ]
  },
  {
   "cell_type": "markdown",
   "metadata": {
    "colab_type": "text",
    "id": "K767Bm7yC6vQ"
   },
   "source": [
    "El flujo de ejecución de una sentencia `while` es el siguiente:\n",
    "\n",
    "- Evalúa la condición, devolviendo False o True.\n",
    "- Si la condición es falsa, sale de la sentencia while y continúa la ejecución con la siguiente sentencia.\n",
    "- Si la condición es verdadera, ejecuta cada una de las sentencias en el cuerpo y regresa al paso 1.\n",
    "\n",
    "Este tipo de flujo de llama **bucle** porque el tercer paso del bucle vuelve arriba. Observa que si la condición es falsa la primera vez que se evalua el bucle, las sentencias del interior del bucle no se ejecutan nunca.\n",
    "\n",
    "El cuerpo del bucle deberá cambiar el valor de una o más variables evaluadas para que, en algún momento, la condición sea falsa y el bucle termine. En caso contrario, el bucle se repetirá indefinidamente, que es lo que se llama bucle infinito."
   ]
  },
  {
   "cell_type": "markdown",
   "metadata": {
    "colab_type": "text",
    "id": "jHHVu2EPC6vR"
   },
   "source": [
    "## For loops"
   ]
  },
  {
   "cell_type": "markdown",
   "metadata": {
    "colab_type": "text",
    "id": "k9XwaL2VC6vS"
   },
   "source": [
    "Otra sentencia para iteraciones es el bucle `for`, que repite el bloque de código un número prederminado de veces. Observemos ahora su sintaxis:"
   ]
  },
  {
   "cell_type": "code",
   "execution_count": 91,
   "metadata": {
    "colab": {},
    "colab_type": "code",
    "id": "zqikuG24C6vT"
   },
   "outputs": [],
   "source": [
    "lista_numeros = [0, 1, 2, 3, 4, 5]"
   ]
  },
  {
   "cell_type": "code",
   "execution_count": 92,
   "metadata": {
    "colab": {},
    "colab_type": "code",
    "id": "DOdO9NBCC6vU"
   },
   "outputs": [
    {
     "name": "stdout",
     "output_type": "stream",
     "text": [
      "0\n",
      "1\n",
      "2\n",
      "3\n",
      "4\n",
      "5\n"
     ]
    }
   ],
   "source": [
    "#Para cada elemento en la lista lista_numeros\n",
    "for numero in lista_numeros:\n",
    "    #Mostra el numero\n",
    "    print(numero)"
   ]
  },
  {
   "cell_type": "markdown",
   "metadata": {
    "colab_type": "text",
    "id": "X5Jf9u8CC6vV"
   },
   "source": [
    "El cuerpo del bucle `for` se ejecuta tantas veces como elementos tenga el elemento iterable. Cualquier iterable: listas, diccionarios, strings pueden ser utilizados."
   ]
  },
  {
   "cell_type": "code",
   "execution_count": 93,
   "metadata": {
    "colab": {},
    "colab_type": "code",
    "id": "GiGbjFFWC6vX"
   },
   "outputs": [
    {
     "name": "stdout",
     "output_type": "stream",
     "text": [
      "l\n",
      "o\n",
      "s\n",
      " \n",
      "'\n",
      "s\n",
      "t\n",
      "r\n",
      "i\n",
      "n\n",
      "g\n",
      "s\n",
      "'\n",
      " \n",
      "t\n",
      "a\n",
      "m\n",
      "b\n",
      "i\n",
      "e\n",
      "n\n",
      " \n",
      "s\n",
      "o\n",
      "n\n",
      " \n",
      "i\n",
      "t\n",
      "e\n",
      "r\n",
      "a\n",
      "b\n",
      "l\n",
      "e\n",
      "s\n",
      "!\n"
     ]
    }
   ],
   "source": [
    "iterable = \"los 'strings' tambien son iterables!\"\n",
    "for elemento in iterable:\n",
    "    print(elemento)"
   ]
  },
  {
   "cell_type": "markdown",
   "metadata": {
    "colab_type": "text",
    "id": "Onn-tFyvC6vY"
   },
   "source": [
    "Los numeros no son iterables. Prueba corriendo el siguiente código."
   ]
  },
  {
   "cell_type": "code",
   "execution_count": 94,
   "metadata": {
    "colab": {},
    "colab_type": "code",
    "id": "tMjPlKYaC6vY"
   },
   "outputs": [
    {
     "ename": "TypeError",
     "evalue": "'int' object is not iterable",
     "output_type": "error",
     "traceback": [
      "\u001b[0;31m---------------------------------------------------------------------------\u001b[0m",
      "\u001b[0;31mTypeError\u001b[0m                                 Traceback (most recent call last)",
      "\u001b[0;32m<ipython-input-94-03089aa1f59e>\u001b[0m in \u001b[0;36m<module>\u001b[0;34m\u001b[0m\n\u001b[0;32m----> 1\u001b[0;31m \u001b[0;32mfor\u001b[0m \u001b[0melemento\u001b[0m \u001b[0;32min\u001b[0m \u001b[0;36m4\u001b[0m\u001b[0;34m:\u001b[0m\u001b[0;34m\u001b[0m\u001b[0;34m\u001b[0m\u001b[0m\n\u001b[0m\u001b[1;32m      2\u001b[0m       \u001b[0mprint\u001b[0m\u001b[0;34m(\u001b[0m\u001b[0melemento\u001b[0m\u001b[0;34m)\u001b[0m\u001b[0;34m\u001b[0m\u001b[0;34m\u001b[0m\u001b[0m\n",
      "\u001b[0;31mTypeError\u001b[0m: 'int' object is not iterable"
     ]
    }
   ],
   "source": [
    "for elemento in 4:\n",
    "      print(elemento)"
   ]
  },
  {
   "cell_type": "markdown",
   "metadata": {
    "colab_type": "text",
    "id": "k9UeNYnDC6vZ"
   },
   "source": [
    "La función range (`range(n)`) genera una secuencia con números desde `0` hasta `n-1`."
   ]
  },
  {
   "cell_type": "code",
   "execution_count": 95,
   "metadata": {
    "colab": {},
    "colab_type": "code",
    "id": "xRCKS9MqC6va"
   },
   "outputs": [
    {
     "name": "stdout",
     "output_type": "stream",
     "text": [
      "0 es divisible por 2\n",
      "2 es divisible por 2\n",
      "4 es divisible por 2\n",
      "6 es divisible por 2\n",
      "8 es divisible por 2\n",
      "10 es divisible por 2\n"
     ]
    }
   ],
   "source": [
    "for j in range(11):\n",
    "    if j % 2 == 0:\n",
    "        print(f\"{j} es divisible por 2\")"
   ]
  },
  {
   "cell_type": "markdown",
   "metadata": {
    "colab_type": "text",
    "id": "mM06kRkwC6vb"
   },
   "source": [
    "## EJERCICIOS"
   ]
  },
  {
   "cell_type": "markdown",
   "metadata": {
    "colab_type": "text",
    "id": "4oa-NJsrC6vb"
   },
   "source": [
    "Vamos a poner en practica ahora todo lo que vimos:"
   ]
  },
  {
   "cell_type": "markdown",
   "metadata": {
    "colab_type": "text",
    "id": "WqX76mQIC6vb"
   },
   "source": [
    "- Escribi una función que tome dos números enteros y calcule su división, devolviendo si la división es exacta o no.\n",
    "\n",
    "def division(a, b):\n",
    "    if a % b == 0:\n",
    "        print(\"Division exacta\")\n",
    "    else:\n",
    "        print(\"La division no es exacta\")\n",
    "        \n",
    "        \n",
    "        division(4,2)\n",
    "        \n",
    "        division(7,3)"
   ]
  },
  {
   "cell_type": "markdown",
   "metadata": {
    "colab_type": "text",
    "id": "taR3rSw4C6vc"
   },
   "source": [
    "- Escribi una función que tome un año y devuelva si es bisiesto o no.\n",
    "\n",
    "def bisiesto(a):\n",
    "    if a % 4 == 0:\n",
    "        return f\"{a} es bisiesto\"\n",
    "       return f\"{a} no es bisiesto\"\n",
    "       \n",
    "       bisiesto(2012)\n",
    "       bisiesto(2017)\n",
    "       "
   ]
  },
  {
   "cell_type": "markdown",
   "metadata": {
    "colab_type": "text",
    "id": "D-YQ1mWoC6vc"
   },
   "source": [
    "- Escribi una función que tome los coeficientes de una ecuación de primer grado (a x + b = 0) y devuelva la solución.\n",
    "\n",
    "\n",
    "def solucion(a, b):\n",
    "    if b == 0:\n",
    "        return 0\n",
    "    return -b/a\n",
    "    \n",
    "    solucion(2, 4)\n",
    "    \n",
    "    solucion(3, 5)\n",
    "    \n",
    "    solucion(2, 0)"
   ]
  },
  {
   "cell_type": "markdown",
   "metadata": {
    "colab_type": "text",
    "id": "IkZ3FJ-BC6vc"
   },
   "source": [
    "- Escribi una función que simule un juego en el que dos jugadores tiran un dado. El que saque el valor más alto, gana. Si la puntuación coincide, empatan.\n",
    "\n",
    "def juego(jugador1, jugador2):\n",
    "    #supongo que el primer numero siempre es del jugador 1\n",
    "    #y el segundo del jugador2\n",
    "    if jugador1 > jugador2:\n",
    "        print(\"Jugador 1 gana\")\n",
    "    elif jugador1 < jugador2:\n",
    "        print(\"Jugador 2 gana\")\n",
    "    else:\n",
    "        print(\"Empate\")\n",
    "        \n",
    "        juego(343, 545)\n",
    "        "
   ]
  },
  {
   "cell_type": "markdown",
   "metadata": {
    "colab_type": "text",
    "id": "FKUS1_WKC6vc"
   },
   "source": [
    "- Escribi una función que tome dos números enteros y devuelva qué números son pares y cuáles impares.\n",
    "\n",
    "def par_impar(a, b):\n",
    "    lista = [a, b]\n",
    "    for numero in lista:\n",
    "        if numero % 2 == 0:\n",
    "            print(f\"{numero} es par\")\n",
    "        else:\n",
    "            print(f\"{numero} es impar\")\n",
    "            \n",
    "            \n",
    "            par_impar(4, 5)\n",
    "            \n",
    "            par_impar(4, 10)\n",
    "            \n",
    "            \n",
    "            "
   ]
  },
  {
   "cell_type": "markdown",
   "metadata": {
    "colab_type": "text",
    "id": "4H6BgjZzC6vd"
   },
   "source": [
    "- Escribi una función que tome una lista de números y calcule su suma.\n",
    "def suma_numeros(lista):\n",
    "    suma = 0\n",
    "    for numero in lista:\n",
    "        suma += numero\n",
    "    return suma  \n",
    "    \n",
    "    \n",
    "    suma_numeros([1, 4, 5, 7, 8, 9])\n",
    "    \n"
   ]
  },
  {
   "cell_type": "markdown",
   "metadata": {
    "colab_type": "text",
    "id": "mWY7qnQiC6vd"
   },
   "source": [
    "- Escribi una función que tome dos palabras y diga si riman o no. Si coinciden las tres últimas letras debe devolver que riman. Si coinciden sólo las dos últimas tiene que decir que riman algo y si no, que no riman.\n",
    "\n",
    "\n",
    "def riman(palabra1, palabra2):\n",
    "    if palabra1[-3:] == palabra2[-3:]:\n",
    "        print(\"Las palabras {} y {} riman\".format(palabra1, palabra2))\n",
    "    elif palabra1[-2:] == palabra2[-2:]:\n",
    "        print(\"Las palabras {} y {} riman algo\".format(palabra1, palabra2))\n",
    "    else:\n",
    "        print(\"Las palabras {} y {} no riman\".format(palabra1, palabra2))\n",
    "        \n",
    "        \n",
    "        \n",
    "        riman('hola', 'cacerola')\n",
    "        \n",
    "        riman('jirafa', 'roja')\n",
    "        \n",
    "        riman('computadora', 'cabecera')\n",
    "        \n",
    "        \n",
    "        "
   ]
  },
  {
   "cell_type": "markdown",
   "metadata": {
    "colab_type": "text",
    "id": "YpkPn0nuC6vd"
   },
   "source": [
    "- Escribi una función para convertir temperatura de grados celsius a fahrenheit (Formula : F = C * 9/5 + 32)\n",
    "\n",
    "def convert_grados(grados):\n",
    "    return grados * 9/5 + 32\n",
    "    \n",
    "    convert_grados(24)\n",
    "    "
   ]
  },
  {
   "cell_type": "markdown",
   "metadata": {
    "colab_type": "text",
    "id": "_I3HvptSC6ve"
   },
   "source": [
    "- Escribi una función que devuelva la serie de Fibonacci entre 0 y 50.\n",
    "\n",
    "def fibo():\n",
    "    x = 0\n",
    "    y = 1\n",
    "\n",
    "    while y<50:\n",
    "        print(y)\n",
    "        x, y = y, x+y\n",
    "        \n",
    "        fibo()"
   ]
  },
  {
   "cell_type": "markdown",
   "metadata": {
    "colab_type": "text",
    "id": "m4bvuaFgC6vg"
   },
   "source": [
    "**Para seguir practicando chequea este sitio web con [ejercicios](https://projecteuler.net/archives).**"
   ]
  }
 ],
 "metadata": {
  "colab": {
   "name": "Clase1 Introduccion a Python.ipynb",
   "provenance": [],
   "version": "0.3.2"
  },
  "kernelspec": {
   "display_name": "Python 3",
   "language": "python",
   "name": "python3"
  },
  "language_info": {
   "codemirror_mode": {
    "name": "ipython",
    "version": 3
   },
   "file_extension": ".py",
   "mimetype": "text/x-python",
   "name": "python",
   "nbconvert_exporter": "python",
   "pygments_lexer": "ipython3",
   "version": "3.7.3"
  }
 },
 "nbformat": 4,
 "nbformat_minor": 1
}
