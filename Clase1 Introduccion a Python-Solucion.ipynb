{
 "cells": [
  {
   "cell_type": "markdown",
   "metadata": {
    "colab_type": "text",
    "id": "fUZUxG1CfJKo"
   },
   "source": [
    "# Programa Mujeres en Data Science"
   ]
  },
  {
   "cell_type": "markdown",
   "metadata": {
    "colab_type": "text",
    "id": "r6Iwm8mPfJKq"
   },
   "source": [
    "Antes de poder sumergirnos de lleno en aprender conceptos especificos del mundo de Data Science, hay una habilidad que debemos adquirir o mejorar: **Programación**. De todos los lenguajes de programación existentes, hay dos que dominan el mundo de Data Science.  \n",
    "El primero de ellos es **R</t>**, un lenguaje que se utiliza mucho en investigación y estadistica. El otro es **Python**. \n",
    "Si bien ambos son muy utiles, **Python** es el más utilizado hoy en día, y debido a esto más módulos han sido desarrollados."
   ]
  },
  {
   "cell_type": "markdown",
   "metadata": {
    "colab_type": "text",
    "id": "-Xv8OiDefJKr"
   },
   "source": [
    "Uno de los motivos por el cual Python ha crecido en los ultimos años es su gran comunidad de código abierto. Existen muchos eventos a los que se puede asistir para aprender más acerca de lo que se trabaja en Python. Todos ellos son inclusivos y abiertos al público."
   ]
  },
  {
   "cell_type": "markdown",
   "metadata": {
    "colab_type": "text",
    "id": "DuPldWAyfJKr"
   },
   "source": [
    "Algunos ejemplos:\n",
    "\n",
    "**Conferencias**  \n",
    "[PyCon Argentina](https://twitter.com/pyconar/status/1147119669049999364). Conferencia Anual de Python organizada por [PyAr](https://www.python.org.ar/), comunidad Python Argentina.    \n",
    "[PyData Argentina](https://pydata.org/cordoba2019/). Evento enfocado a Analisis de datos y Data science utilizando Python, R y Julia.\n",
    "\n",
    "**MeetUps**  \n",
    "[Data Science Argentina](https://www.meetup.com/es/Argentina-Data-Science-Meetup/)  \n",
    "[PyData Buenos Aires](https://www.meetup.com/es/PyData-Buenos-Aires/)  \n",
    "[Women in Machine Learning Buenos Aires](https://www.meetup.com/es/Buenos-Aires-Women-in-Machine-Learning-Data-Science/)"
   ]
  },
  {
   "cell_type": "markdown",
   "metadata": {
    "colab_type": "text",
    "id": "SpZJe6TBfJKs"
   },
   "source": [
    "# Clase 1: Introducción a Python"
   ]
  },
  {
   "cell_type": "markdown",
   "metadata": {
    "colab_type": "text",
    "id": "zso7gufVfJKt"
   },
   "source": [
    "Python es un lenguaje de programación de propósito general muy poderoso y flexible, a la vez que sencillo y fácil de aprender."
   ]
  },
  {
   "cell_type": "markdown",
   "metadata": {
    "colab_type": "text",
    "id": "PxVu45ZbfJKu"
   },
   "source": [
    "**¿Donde recurro cuando estoy trabada o no se qué hacer?**"
   ]
  },
  {
   "cell_type": "markdown",
   "metadata": {
    "colab_type": "text",
    "id": "_D-_am42fJKu"
   },
   "source": [
    "Python posee una amplia documentación que nos permite investigar cada función que contiene el lenguaje. Podes chequearla [acá](https://docs.python.org/3/)\n",
    "\n",
    "Otra fuente para obtener respuestas es [Stackoverflow](https://es.stackoverflow.com/) o por supuesto, Google."
   ]
  },
  {
   "cell_type": "markdown",
   "metadata": {
    "colab_type": "text",
    "id": "W2a4IJncfJKv"
   },
   "source": [
    "## Módulo 1: Conceptos básicos de Python"
   ]
  },
  {
   "cell_type": "markdown",
   "metadata": {
    "colab_type": "text",
    "id": "YAY2KXlvfJKw"
   },
   "source": [
    "En estas clases utilizaremos **Jupyter Notebook**. La ventaja de jupyter notebook es que permite mezclar celdas `Markdown` con celdas de código."
   ]
  },
  {
   "cell_type": "markdown",
   "metadata": {
    "colab_type": "text",
    "id": "YBzc4NemfJKx"
   },
   "source": [
    "1) **Markdown** es un lenguaje de marcado que permite dar formato a un texto de manera rápida y fácil.\n",
    " \n",
    "Para utilizarlo debes seguir ciertas convenciones que puedas consultar en la siguiente página web: [Guía Markdown](https://joedicastro.com/pages/markdown.html)"
   ]
  },
  {
   "cell_type": "markdown",
   "metadata": {
    "colab_type": "text",
    "id": "QOIqC00MfJKx"
   },
   "source": [
    "2) Por otro lado, en las celdas de código es donde vamos a escribir el código **Python**.  \n",
    "\n",
    "Prestale atención a los corchetes que se encuentran al lado de cada celda de Python. Cuando tienen un número significa que esa celda ha sido corrida. Cuando tienen `*` implica que la celda esta corriendo."
   ]
  },
  {
   "cell_type": "markdown",
   "metadata": {
    "colab_type": "text",
    "id": "ziSrccAUfJKy"
   },
   "source": [
    "Python posee una guía de estilo, que si bien no es obligatoria, se **RECOMIENDA** seguir. Podes leer acerca de las convenciones establecidas en el [PEP8](https://www.python.org/dev/peps/pep-0008/)."
   ]
  },
  {
   "cell_type": "markdown",
   "metadata": {
    "colab_type": "text",
    "id": "oE2jTC3BfJKz"
   },
   "source": [
    "El simbolo `#` se utiliza para determinar un comentario. Esto significa que al verlo, Python entendera que esa línea no corresponde a código que debe correrse."
   ]
  },
  {
   "cell_type": "markdown",
   "metadata": {
    "colab_type": "text",
    "id": "bw7MYNFGfJK0"
   },
   "source": [
    "Comentar el código es una practica muy útil para explicar que hace una linea de código. La convención es que el comentario se haga en la línea anterior a la linea de código correspondiente."
   ]
  },
  {
   "cell_type": "markdown",
   "metadata": {
    "colab_type": "text",
    "id": "fHWc0iX-fJK0"
   },
   "source": [
    "La filosofía de Python hace hincapié en una sintaxis que favorezca un código legible. Esta filosofía se resumen en lo que se conoce como el **ZEN de Python**."
   ]
  },
  {
   "cell_type": "code",
   "execution_count": 1,
   "metadata": {
    "colab": {},
    "colab_type": "code",
    "id": "dRHH8EWdfJK1",
    "outputId": "c37a65a9-b745-416e-a319-0eefbc7ebfb6"
   },
   "outputs": [
    {
     "name": "stdout",
     "output_type": "stream",
     "text": [
      "The Zen of Python, by Tim Peters\n",
      "\n",
      "Beautiful is better than ugly.\n",
      "Explicit is better than implicit.\n",
      "Simple is better than complex.\n",
      "Complex is better than complicated.\n",
      "Flat is better than nested.\n",
      "Sparse is better than dense.\n",
      "Readability counts.\n",
      "Special cases aren't special enough to break the rules.\n",
      "Although practicality beats purity.\n",
      "Errors should never pass silently.\n",
      "Unless explicitly silenced.\n",
      "In the face of ambiguity, refuse the temptation to guess.\n",
      "There should be one-- and preferably only one --obvious way to do it.\n",
      "Although that way may not be obvious at first unless you're Dutch.\n",
      "Now is better than never.\n",
      "Although never is often better than *right* now.\n",
      "If the implementation is hard to explain, it's a bad idea.\n",
      "If the implementation is easy to explain, it may be a good idea.\n",
      "Namespaces are one honking great idea -- let's do more of those!\n"
     ]
    }
   ],
   "source": [
    "#Corre esta linea para descubrir el zen de Python\n",
    "import this"
   ]
  },
  {
   "cell_type": "markdown",
   "metadata": {
    "colab_type": "text",
    "id": "RCCJRW6wfJK7"
   },
   "source": [
    "Empecemos con una función muy simple de Python: `print()`. Esta función imprime la variable que se le pase."
   ]
  },
  {
   "cell_type": "code",
   "execution_count": 2,
   "metadata": {
    "colab": {},
    "colab_type": "code",
    "id": "0HYHGtPLfJK8",
    "outputId": "cb2089f4-d650-4ae2-c808-0d3cd53d887b"
   },
   "outputs": [
    {
     "name": "stdout",
     "output_type": "stream",
     "text": [
      "Python es muy fácil de aprender\n"
     ]
    }
   ],
   "source": [
    "#Corre esta celda para descrubir el output\n",
    "print(\"Python es muy fácil de aprender\")"
   ]
  },
  {
   "cell_type": "markdown",
   "metadata": {
    "colab_type": "text",
    "id": "wQbPPdZRfJLA"
   },
   "source": [
    "Python puede usarse para hacer calculos básicos. Veamos alguna de las funciones que pueden ser utilizadas en Python."
   ]
  },
  {
   "cell_type": "code",
   "execution_count": 1,
   "metadata": {
    "colab": {},
    "colab_type": "code",
    "id": "6FRyLICOfJLA",
    "outputId": "84651491-96f5-460a-f169-7b09bb17f737"
   },
   "outputs": [
    {
     "name": "stdout",
     "output_type": "stream",
     "text": [
      "7\n",
      "3\n",
      "15\n",
      "5.0\n"
     ]
    }
   ],
   "source": [
    "#Suma\n",
    "print(4+3)\n",
    "#Resta\n",
    "print(5-2)\n",
    "#Multiplicacion\n",
    "print(3 * 5)\n",
    "#División\n",
    "print(10 / 2)"
   ]
  },
  {
   "cell_type": "code",
   "execution_count": 4,
   "metadata": {
    "colab": {},
    "colab_type": "code",
    "id": "yGybPNdtfJLE",
    "outputId": "20666672-d44a-47eb-be7a-bfeb0902a3de"
   },
   "outputs": [
    {
     "name": "stdout",
     "output_type": "stream",
     "text": [
      "16\n",
      "4\n",
      "3\n"
     ]
    }
   ],
   "source": [
    "#Corre las siguientes celdas y descubre que funciones se utilizan\n",
    "print(4 ** 2)\n",
    "print(18 % 7)\n",
    "print(7//2)"
   ]
  },
  {
   "cell_type": "markdown",
   "metadata": {
    "colab_type": "text",
    "id": "83afO6gZfJLI"
   },
   "source": [
    "### EXPLICACION\n",
    "**La primera funcion es la potenciación esto es $4^2$**\n",
    "\n",
    "**El operador % devuelve el resto de la division, en este caso entre 18 y 7**\n",
    "\n",
    "**El operador // devuelve el cociente de la division entre 7 y 3**"
   ]
  },
  {
   "cell_type": "markdown",
   "metadata": {
    "colab_type": "text",
    "id": "NF5e_vZYfJLJ"
   },
   "source": [
    "Supongamos que tenemos \\$100, que podemos invertir obteniendo el 10\\% de interes cada año. Luego del primer año, tendremos 100\\*1.1, luego de dos años tendremos 100\\*1.1\\*1.1. \n",
    "**¿Cuanto tendrás luego de 7 años?**"
   ]
  },
  {
   "cell_type": "code",
   "execution_count": 5,
   "metadata": {
    "colab": {},
    "colab_type": "code",
    "id": "sidyCSMzfJLK",
    "outputId": "6576105c-cb8f-4ac4-a8bf-e15db0ea8d94"
   },
   "outputs": [
    {
     "name": "stdout",
     "output_type": "stream",
     "text": [
      "194.87171000000012\n"
     ]
    }
   ],
   "source": [
    "#Reemplaza las lineas de puntos con la función correspondiente.\n",
    "print(100*(1.1**7))"
   ]
  },
  {
   "cell_type": "markdown",
   "metadata": {
    "colab_type": "text",
    "id": "LusI_-iqfJLN"
   },
   "source": [
    "## Variables y Estructura de datos"
   ]
  },
  {
   "cell_type": "markdown",
   "metadata": {
    "colab_type": "text",
    "id": "6HQRs-T2fJLO"
   },
   "source": [
    "### Asignación de variables:"
   ]
  },
  {
   "cell_type": "markdown",
   "metadata": {
    "colab_type": "text",
    "id": "CQQBeQUXfJLP"
   },
   "source": [
    "En Python, una variable permite referir a un valor utilizando un nombre en especifico. Para crear una variable, se debe usar `=` como en el siguiente ejemplo:"
   ]
  },
  {
   "cell_type": "code",
   "execution_count": 6,
   "metadata": {
    "colab": {},
    "colab_type": "code",
    "id": "pdDLPcCyfJLQ"
   },
   "outputs": [],
   "source": [
    "a = 8"
   ]
  },
  {
   "cell_type": "markdown",
   "metadata": {
    "colab_type": "text",
    "id": "a80kSvEHfJLS"
   },
   "source": [
    "Ahora, sigue las instrucciones de los comentarios."
   ]
  },
  {
   "cell_type": "code",
   "execution_count": 7,
   "metadata": {
    "colab": {},
    "colab_type": "code",
    "id": "lavCwpNFfJLT"
   },
   "outputs": [],
   "source": [
    "#Asigna 100 a la variable mi_variable\n",
    "mi_variable = 100"
   ]
  },
  {
   "cell_type": "code",
   "execution_count": 8,
   "metadata": {
    "colab": {},
    "colab_type": "code",
    "id": "9BB-XgeDfJLW",
    "outputId": "61eed2df-e220-4b07-8f2c-c02859a6bb4e"
   },
   "outputs": [
    {
     "name": "stdout",
     "output_type": "stream",
     "text": [
      "100\n"
     ]
    }
   ],
   "source": [
    "#Muestra el contenido de la variable\n",
    "print(mi_variable)"
   ]
  },
  {
   "cell_type": "markdown",
   "metadata": {
    "colab_type": "text",
    "id": "NnSMQzqYfJLb"
   },
   "source": [
    "Las variables pueden ser llamadas posteriormente. Además podemos realizar calculos y operaciones con ellas."
   ]
  },
  {
   "cell_type": "code",
   "execution_count": 9,
   "metadata": {
    "colab": {},
    "colab_type": "code",
    "id": "0QjeMNx3fJLc",
    "outputId": "cb1ab1ee-428e-418a-9981-70a583aa3eb0"
   },
   "outputs": [
    {
     "name": "stdout",
     "output_type": "stream",
     "text": [
      "194.87171000000012\n"
     ]
    }
   ],
   "source": [
    "#Crea una variable llamada factor que contenga el numero 1.1\n",
    "factor = 1.1\n",
    "\n",
    "#Calcula el resultado de elevar a la 7 la varible factor multiplicarla \n",
    "#por el numero contenido en mi_varible y asignala a una nueva variable\n",
    "#llamada resultado\n",
    "resultado = factor**7*mi_variable\n",
    "#Imprime el resultado\n",
    "print(resultado)"
   ]
  },
  {
   "cell_type": "markdown",
   "metadata": {
    "colab_type": "text",
    "id": "itESwbvWfJLf"
   },
   "source": [
    "Hay ciertas reglas que se deben cumplir a la hora de declarar una variable:  \n",
    "\n",
    "- Los nombres de las variables siempre aparecen a la izquierda de `=`.\n",
    "- Python diferencia mayusculas de minusculas en el nombre de las variables.\n",
    "- Los nombres de las variables DEBEN comenzar con una letra. Luego pueden contener nombres y guiones bajos `_`. Pero no pueden contener caracteres especiales (como por ejemplo, `&`, `*`, `#`, etc).\n",
    "- Si bien Python no le importa como llames a tus variables, los nombres de las variables deben ser descriptivos de los valores o datos que contienen para que otras personas puedan interpretarlo.\n",
    "- Lee más acerca de estas convenciones en el **PEP8**."
   ]
  },
  {
   "cell_type": "markdown",
   "metadata": {
    "colab_type": "text",
    "id": "zBcjjosPfJLg"
   },
   "source": [
    "**PALABRAS RESERVADAS**: Hay 33 palabras que no podes utilizar como nombres de variables, debido a que estan reservadas para el lenguaje ya que cumplen una función particular en Python."
   ]
  },
  {
   "cell_type": "markdown",
   "metadata": {
    "colab_type": "text",
    "id": "SW3Q0FJufJLi"
   },
   "source": [
    "_Ellas son_: False, None, True, and, as, assert, break, class, continue, def, del, elif, else, except, finally, for, from, global, if, import, in, is, lambda, nonlocal, not, or, pass, raise, return, try, while, with, yield\n",
    "\n"
   ]
  },
  {
   "cell_type": "code",
   "execution_count": 51,
   "metadata": {
    "colab": {},
    "colab_type": "code",
    "id": "SMIBJcH0fJLj",
    "outputId": "a2ac3452-2215-47d9-9099-84e2649f346f"
   },
   "outputs": [
    {
     "ename": "SyntaxError",
     "evalue": "invalid syntax (<ipython-input-51-5e13b15422c4>, line 2)",
     "output_type": "error",
     "traceback": [
      "\u001b[0;36m  File \u001b[0;32m\"<ipython-input-51-5e13b15422c4>\"\u001b[0;36m, line \u001b[0;32m2\u001b[0m\n\u001b[0;31m    try = 6\u001b[0m\n\u001b[0m        ^\u001b[0m\n\u001b[0;31mSyntaxError\u001b[0m\u001b[0;31m:\u001b[0m invalid syntax\n"
     ]
    }
   ],
   "source": [
    "#Corre el siguiente codigo y observa que pasa\n",
    "try = 6"
   ]
  },
  {
   "cell_type": "markdown",
   "metadata": {
    "colab_type": "text",
    "id": "QMcO9R9wfJLr"
   },
   "source": [
    "### Tipo de Variables:"
   ]
  },
  {
   "cell_type": "markdown",
   "metadata": {
    "colab_type": "text",
    "id": "BuRSXQ9efJLs"
   },
   "source": [
    "Python nos provee una función útil para chequear que tipo de variable contiene cada variable definida: `type()` [Chequea la documentación](https://docs.python.org/3/library/functions.html?highlight=type#type). "
   ]
  },
  {
   "cell_type": "markdown",
   "metadata": {
    "colab_type": "text",
    "id": "ZB4juAEbfJLt"
   },
   "source": [
    "### ENTEROS"
   ]
  },
  {
   "cell_type": "markdown",
   "metadata": {
    "colab_type": "text",
    "id": "6ZPIhYndfJLu"
   },
   "source": [
    "El primer tipo de datos que podemos tener son enteros, que corresponde al tipo `int` en Python."
   ]
  },
  {
   "cell_type": "code",
   "execution_count": 52,
   "metadata": {
    "colab": {},
    "colab_type": "code",
    "id": "TkdTJfqYfJLu",
    "outputId": "77fec871-2a48-47ba-dbf3-a82d79ffe96e"
   },
   "outputs": [
    {
     "name": "stdout",
     "output_type": "stream",
     "text": [
      "<class 'int'>\n",
      "<class 'int'>\n"
     ]
    }
   ],
   "source": [
    "#Declara la variable mi_numero y asignale el numero 4\n",
    "mi_numero = 4\n",
    "\n",
    "#Declara la variable otro_numero y asignale el numero -1\n",
    "otro_numero = -1\n",
    "\n",
    "#Chequea que tipo de variables son mi_numero y otro_numero\n",
    "print(type(mi_numero))\n",
    "print(type(otro_numero))"
   ]
  },
  {
   "cell_type": "code",
   "execution_count": 53,
   "metadata": {
    "colab": {},
    "colab_type": "code",
    "id": "Sj08CE6SfJLx",
    "outputId": "5f1d4302-5f74-4aaa-8986-9abb1d276d3f"
   },
   "outputs": [
    {
     "name": "stdout",
     "output_type": "stream",
     "text": [
      "-4\n"
     ]
    }
   ],
   "source": [
    "#Imprime el resultado de multiplicar mi_numero y otro_numero\n",
    "print(mi_numero*otro_numero)"
   ]
  },
  {
   "cell_type": "markdown",
   "metadata": {
    "colab_type": "text",
    "id": "nP0VlJxZfJL0"
   },
   "source": [
    "### FLOTANTES"
   ]
  },
  {
   "cell_type": "markdown",
   "metadata": {
    "colab_type": "text",
    "id": "VttzblmwfJL1"
   },
   "source": [
    "Además de enteros, los datos también pueden ser de tipo flotantes. Esto es pueden contener numeros como `5.5`, `7.7`, `9014019401.43`. Este tipo de variable corresponde a `float` en Python."
   ]
  },
  {
   "cell_type": "code",
   "execution_count": 54,
   "metadata": {
    "colab": {},
    "colab_type": "code",
    "id": "bYn5UM7lfJL2",
    "outputId": "547ff231-5bf0-43dd-e91b-1a73403b962d"
   },
   "outputs": [
    {
     "name": "stdout",
     "output_type": "stream",
     "text": [
      "<class 'float'>\n"
     ]
    }
   ],
   "source": [
    "#Declara la variable float_numero y asignale el numero 4.9\n",
    "float_numero = 4.9\n",
    "\n",
    "#Chequea que tipo de variable es float_numero\n",
    "print(type(float_numero))"
   ]
  },
  {
   "cell_type": "code",
   "execution_count": 55,
   "metadata": {
    "colab": {},
    "colab_type": "code",
    "id": "57WvdKfVfJL5",
    "outputId": "87f1721c-529c-4d99-aa1d-93d9ca6ff5ee"
   },
   "outputs": [
    {
     "name": "stdout",
     "output_type": "stream",
     "text": [
      "576.4801000000002\n"
     ]
    }
   ],
   "source": [
    "#Imprime el resultado de elevar float_numero a mi_numero, declarado anteriormente\n",
    "print(float_numero**mi_numero)"
   ]
  },
  {
   "cell_type": "markdown",
   "metadata": {
    "colab_type": "text",
    "id": "fTCM5YFNfJL8"
   },
   "source": [
    "### BOOLEANAS"
   ]
  },
  {
   "cell_type": "markdown",
   "metadata": {
    "colab_type": "text",
    "id": "ry1Xel3zfJL9"
   },
   "source": [
    "Una variable booleana es una variable lógica que admite solo dos valores `True` y `False`. "
   ]
  },
  {
   "cell_type": "code",
   "execution_count": 56,
   "metadata": {
    "colab": {},
    "colab_type": "code",
    "id": "sddX51-9fJL9"
   },
   "outputs": [],
   "source": [
    "#Corre la siguiente linea \n",
    "mi_bool = True"
   ]
  },
  {
   "cell_type": "code",
   "execution_count": 57,
   "metadata": {
    "colab": {},
    "colab_type": "code",
    "id": "ddRRDTH6fJMA"
   },
   "outputs": [],
   "source": [
    "#Ahora asigna a la variable otra_bool el valor False\n",
    "otra_bool = False"
   ]
  },
  {
   "cell_type": "code",
   "execution_count": 58,
   "metadata": {
    "colab": {},
    "colab_type": "code",
    "id": "qr72L1kdfJMD",
    "outputId": "9cfbd2ca-5624-4b62-e8e7-7afe5713143b"
   },
   "outputs": [
    {
     "name": "stdout",
     "output_type": "stream",
     "text": [
      "<class 'bool'>\n",
      "<class 'bool'>\n"
     ]
    }
   ],
   "source": [
    "#Chequea que tipo de variables son mi_bool y otra_bool\n",
    "print(type(mi_bool))\n",
    "print(type(otra_bool))"
   ]
  },
  {
   "cell_type": "markdown",
   "metadata": {
    "colab_type": "text",
    "id": "ljTXQMyEfJMH"
   },
   "source": [
    "Pese a que las variables booleanas son definidas con los valores `True` y `False`, Python las trata como numeros. "
   ]
  },
  {
   "cell_type": "code",
   "execution_count": 59,
   "metadata": {
    "colab": {},
    "colab_type": "code",
    "id": "Y56SWCPLfJMH",
    "outputId": "6457b4aa-628f-4a05-b3a2-0d16178fcd4a"
   },
   "outputs": [
    {
     "data": {
      "text/plain": [
       "1"
      ]
     },
     "execution_count": 59,
     "metadata": {},
     "output_type": "execute_result"
    }
   ],
   "source": [
    "#Prueba que ocurre si sumamos mi_bool y otra_bool\n",
    "mi_bool + otra_bool"
   ]
  },
  {
   "cell_type": "markdown",
   "metadata": {
    "colab_type": "text",
    "id": "4mqOoGomfJMN"
   },
   "source": [
    "Así es Python devolvera un numero. En lugar de utilizar el operador suma, podemos utilizar los operadores lógicos: `&` o `and`, `|` o `or`, y `not`."
   ]
  },
  {
   "cell_type": "code",
   "execution_count": 60,
   "metadata": {
    "colab": {},
    "colab_type": "code",
    "id": "-z3Ehhe7fJMN",
    "outputId": "539dff61-bc51-41e9-dcb6-8725f9b6ff31"
   },
   "outputs": [
    {
     "data": {
      "text/plain": [
       "False"
      ]
     },
     "execution_count": 60,
     "metadata": {},
     "output_type": "execute_result"
    }
   ],
   "source": [
    "#Aplica el operador and o & entre las variables mi_bool y otra_bool\n",
    "mi_bool and otra_bool"
   ]
  },
  {
   "cell_type": "code",
   "execution_count": 61,
   "metadata": {
    "colab": {},
    "colab_type": "code",
    "id": "tRvVFLo2fJMQ",
    "outputId": "a1f378e2-b69b-46aa-e46c-85e92f51568b"
   },
   "outputs": [
    {
     "data": {
      "text/plain": [
       "True"
      ]
     },
     "execution_count": 61,
     "metadata": {},
     "output_type": "execute_result"
    }
   ],
   "source": [
    "#Aplica el operador or o | entre las variables mi_bool y otra_bool\n",
    "mi_bool or otra_bool"
   ]
  },
  {
   "cell_type": "code",
   "execution_count": 62,
   "metadata": {
    "colab": {},
    "colab_type": "code",
    "id": "e17I6EgBfJMS",
    "outputId": "90af2042-13da-43d0-9e8c-0cc6f1c3ae11"
   },
   "outputs": [
    {
     "data": {
      "text/plain": [
       "False"
      ]
     },
     "execution_count": 62,
     "metadata": {},
     "output_type": "execute_result"
    }
   ],
   "source": [
    "#Aplica el operador not a la variable mi_bool\n",
    "not mi_bool"
   ]
  },
  {
   "cell_type": "markdown",
   "metadata": {
    "colab_type": "text",
    "id": "2F1CRXc6fJMV"
   },
   "source": [
    "### SECUENCIA DE CARACTERES O STRINGS"
   ]
  },
  {
   "cell_type": "markdown",
   "metadata": {
    "colab_type": "text",
    "id": "OGdQHrGGfJMV"
   },
   "source": [
    "La secuencia de caracteres o `string` es otro tipo de datos que podemos encontrar en Python. Estas variables poseen de particular que se definen utilizando comillas, como en el ejemplo siguiente:"
   ]
  },
  {
   "cell_type": "code",
   "execution_count": 63,
   "metadata": {
    "colab": {},
    "colab_type": "code",
    "id": "07b37hcHfJMW",
    "outputId": "2d1d030c-32fa-4edf-e762-2d7754ef0542"
   },
   "outputs": [
    {
     "name": "stdout",
     "output_type": "stream",
     "text": [
      "Aprender Python es muy sencillo\n",
      "Solo hay que practicar\n"
     ]
    }
   ],
   "source": [
    "#Corre las siguientes lineas\n",
    "mi_frase = \"Aprender Python es muy sencillo\"\n",
    "segunda_frase = 'Solo hay que practicar'\n",
    "print(mi_frase)\n",
    "print(segunda_frase)"
   ]
  },
  {
   "cell_type": "markdown",
   "metadata": {
    "colab_type": "text",
    "id": "EipLgdHvfJMZ"
   },
   "source": [
    "##### Comillas"
   ]
  },
  {
   "cell_type": "markdown",
   "metadata": {
    "colab_type": "text",
    "id": "2shDnxVEfJMa"
   },
   "source": [
    "Como habras observado arriba, se pueden utilizar comillas dobles como simples para definir strings. La regla es que utilices las mismas comillas para **abrir y cerrar** el string."
   ]
  },
  {
   "cell_type": "code",
   "execution_count": 64,
   "metadata": {
    "colab": {},
    "colab_type": "code",
    "id": "X44jpTLifJMb",
    "outputId": "8aed92b4-3eec-4300-8b70-c44cabafe70d"
   },
   "outputs": [
    {
     "name": "stdout",
     "output_type": "stream",
     "text": [
      "Aca va un string\n"
     ]
    }
   ],
   "source": [
    "#Define un string que quieras y asignaselo a la variable mi_primer_string\n",
    "mi_primer_string = \"Aca va un string\"\n",
    "\n",
    "#Imprime la variable mi_primer_string\n",
    "print(mi_primer_string)"
   ]
  },
  {
   "cell_type": "code",
   "execution_count": 65,
   "metadata": {
    "colab": {},
    "colab_type": "code",
    "id": "uramccRafJMe"
   },
   "outputs": [],
   "source": [
    "#Define un segundo string y asignaselo a la variable segundo_string\n",
    "segundo_string = \"Aca va otro string\""
   ]
  },
  {
   "cell_type": "code",
   "execution_count": 66,
   "metadata": {
    "colab": {},
    "colab_type": "code",
    "id": "LZ2U4EDIfJMg",
    "outputId": "98de39d6-6b27-4704-e8d0-83f3298a29ba"
   },
   "outputs": [
    {
     "data": {
      "text/plain": [
       "'Aca va un stringAca va otro string'"
      ]
     },
     "execution_count": 66,
     "metadata": {},
     "output_type": "execute_result"
    }
   ],
   "source": [
    "#Ahora aplica el operador suma (+) entre las dos variables y fijate que pasa\n",
    "mi_primer_string + segundo_string"
   ]
  },
  {
   "cell_type": "markdown",
   "metadata": {
    "colab_type": "text",
    "id": "eTSfSQ_ZfJMk"
   },
   "source": [
    "Como observaste los strings también pueden sumarse, o en terminos más correctos, concatenarse."
   ]
  },
  {
   "cell_type": "markdown",
   "metadata": {
    "colab_type": "text",
    "id": "XabW7uKgfJMk"
   },
   "source": [
    "Python también nos permite acceder a un elemento del string o una porción de él. Esto se realiza mediante el uso de **indices** que se especifican con corchetes `[]`."
   ]
  },
  {
   "cell_type": "code",
   "execution_count": 67,
   "metadata": {
    "colab": {},
    "colab_type": "code",
    "id": "QwfwoOSRfJMl",
    "outputId": "6bb86600-a4eb-4cde-f093-55e035e6f4d9"
   },
   "outputs": [
    {
     "data": {
      "text/plain": [
       "'e'"
      ]
     },
     "execution_count": 67,
     "metadata": {},
     "output_type": "execute_result"
    }
   ],
   "source": [
    "#Defino un string\n",
    "prueba_indice = \"Acceder a un caracter es facil\"\n",
    "\n",
    "#Accedo al tercer caracter\n",
    "prueba_indice[3]"
   ]
  },
  {
   "cell_type": "markdown",
   "metadata": {
    "colab_type": "text",
    "id": "J9bEGdDxfJMq"
   },
   "source": [
    "**¿Observaste bien?** Si especifico el indice 3, me trae el 4to caracter. Esto es porque en Python los indices comienzan en 0. Entonces, el primer caracter tiene indice 0, el segundo 1 y asi sucesivamente."
   ]
  },
  {
   "cell_type": "code",
   "execution_count": 68,
   "metadata": {
    "colab": {},
    "colab_type": "code",
    "id": "BsjDlt9FfJMs",
    "outputId": "41f01f11-49fe-40c3-eef2-0aedba8f7a8a"
   },
   "outputs": [
    {
     "name": "stdout",
     "output_type": "stream",
     "text": [
      " \n",
      "d\n"
     ]
    }
   ],
   "source": [
    "#Accede al octavo caracter del string prueba_indice\n",
    "print(prueba_indice[7])\n",
    "\n",
    "#Accede al quinto caracter del string prueba_indice\n",
    "print(prueba_indice[4])"
   ]
  },
  {
   "cell_type": "markdown",
   "metadata": {
    "colab_type": "text",
    "id": "tRadMrIffJMv"
   },
   "source": [
    "También es posible acceder a una porción del string. Esto se hace utilizando también corchetes `[]`, pero se especifica el indice donde comienzo, luego `:` y luego el indice donde termino."
   ]
  },
  {
   "cell_type": "code",
   "execution_count": 69,
   "metadata": {
    "colab": {},
    "colab_type": "code",
    "id": "j-aCLxxNfJMv",
    "outputId": "003768f3-11fb-4305-f85f-249b7427b609"
   },
   "outputs": [
    {
     "name": "stdout",
     "output_type": "stream",
     "text": [
      "a un caracter \n"
     ]
    }
   ],
   "source": [
    "#Corre la siguiente linea\n",
    "print(prueba_indice[8:22])"
   ]
  },
  {
   "cell_type": "markdown",
   "metadata": {
    "colab_type": "text",
    "id": "tZv4xe8_fJMy"
   },
   "source": [
    "**¿Notaste algo en particular?** Para poder traer la porción entre el 9no y el 22do caracter, debo especificar el caracter donde comienza (`8`) y la posición donde termina (`21`).   \n",
    "Sin embargo, especificamos 22. ¿Por qué? Porque Python **SIEMPRE excluye** la última posición que le especifiquemos. Entonces si especificamos hasta 21, traera hasta el 20. Si queremos hasta el 21 inclusive, debemos colocar 22 entonces."
   ]
  },
  {
   "cell_type": "code",
   "execution_count": 70,
   "metadata": {
    "colab": {},
    "colab_type": "code",
    "id": "bqGNDNtLfJMz"
   },
   "outputs": [],
   "source": [
    "#asigna el string a la variable mi_frase_prueba\n",
    "mi_frase_prueba = \"Es esencial que leas mucho\"\n",
    "mi_segunda_prueba = \"Para muchos era invisible aunque sus ojos se destacaban\""
   ]
  },
  {
   "cell_type": "code",
   "execution_count": 71,
   "metadata": {
    "colab": {},
    "colab_type": "code",
    "id": "QK49kW4sfJM2"
   },
   "outputs": [],
   "source": [
    "#Selecciona el substring esencial de la variable mi_frase_prueba y asignalo a la variable primera_palabra\n",
    "primera_palabra = mi_frase_prueba[3:11]\n",
    "\n",
    "#Selecciona el substring invisible de la variable mi_segunda_prueba y asignalo a la variable segunda_palabra\n",
    "segunda_palabra = mi_segunda_prueba[16:25]\n",
    "\n",
    "#Selecciona el substring ojos de la variable mi_segunda_prueba y asignalo a la variable tercera_palabra\n",
    "tercera_palabra = mi_segunda_prueba[37:41]"
   ]
  },
  {
   "cell_type": "code",
   "execution_count": 72,
   "metadata": {
    "colab": {},
    "colab_type": "code",
    "id": "19IxmsYffJM4",
    "outputId": "9eeacded-bf17-49e2-f4bb-9e0274fe771f"
   },
   "outputs": [
    {
     "name": "stdout",
     "output_type": "stream",
     "text": [
      "Lo esencial es invisible a los ojos\n"
     ]
    }
   ],
   "source": [
    "#Concatena los strings \"Lo\", primera_palabra, \"es\", segunda_palabra, \"a los\", tercera_palabra.\n",
    "#Imprime el resultado. No te olvides de especificar espacios usando el string \" \"\n",
    "print(\"Lo\"+\" \"+primera_palabra+\" \"+\"es\"+\" \"+segunda_palabra+\" \"+\"a los\"+\" \"+tercera_palabra)"
   ]
  },
  {
   "cell_type": "code",
   "execution_count": 73,
   "metadata": {
    "colab": {},
    "colab_type": "code",
    "id": "6t3I9du1fJM6",
    "outputId": "3b1ac360-95a1-44db-c74e-20ea424849fb"
   },
   "outputs": [
    {
     "ename": "TypeError",
     "evalue": "can only concatenate str (not \"int\") to str",
     "output_type": "error",
     "traceback": [
      "\u001b[0;31m---------------------------------------------------------------------------\u001b[0m",
      "\u001b[0;31mTypeError\u001b[0m                                 Traceback (most recent call last)",
      "\u001b[0;32m<ipython-input-73-e214570baca1>\u001b[0m in \u001b[0;36m<module>\u001b[0;34m\u001b[0m\n\u001b[1;32m      1\u001b[0m \u001b[0;31m#Ahora concatena tercera_palabra y la variable mi_numero definida anteriormente\u001b[0m\u001b[0;34m\u001b[0m\u001b[0;34m\u001b[0m\u001b[0;34m\u001b[0m\u001b[0m\n\u001b[0;32m----> 2\u001b[0;31m \u001b[0mtercera_palabra\u001b[0m \u001b[0;34m+\u001b[0m \u001b[0mmi_numero\u001b[0m\u001b[0;34m\u001b[0m\u001b[0;34m\u001b[0m\u001b[0m\n\u001b[0m",
      "\u001b[0;31mTypeError\u001b[0m: can only concatenate str (not \"int\") to str"
     ]
    }
   ],
   "source": [
    "#Ahora concatena tercera_palabra y la variable mi_numero definida anteriormente\n",
    "tercera_palabra + mi_numero"
   ]
  },
  {
   "cell_type": "markdown",
   "metadata": {
    "colab_type": "text",
    "id": "Ni3stFllfJM-"
   },
   "source": [
    "Como podrás ver no es posible concatenar variables de distintos tipos. Sin embargo, hay algunas funciones que nos brinda Python que nos permiten transformar entre tipos de variables."
   ]
  },
  {
   "cell_type": "markdown",
   "metadata": {
    "colab_type": "text",
    "id": "tzOVeCQgfJM_"
   },
   "source": [
    "- `str()` convierte a string una variable o valor"
   ]
  },
  {
   "cell_type": "code",
   "execution_count": 74,
   "metadata": {
    "colab": {},
    "colab_type": "code",
    "id": "LbwER9g8fJM_"
   },
   "outputs": [],
   "source": [
    "#Aplica la función str a la variable mi_numero y guardala en la variable mi_numero_str\n",
    "mi_numero_str = str(mi_numero)"
   ]
  },
  {
   "cell_type": "code",
   "execution_count": 75,
   "metadata": {
    "colab": {},
    "colab_type": "code",
    "id": "GezpkDwifJND",
    "outputId": "82df73e6-6705-4ced-8eb7-b850d5c39f26"
   },
   "outputs": [
    {
     "data": {
      "text/plain": [
       "'ojos4'"
      ]
     },
     "execution_count": 75,
     "metadata": {},
     "output_type": "execute_result"
    }
   ],
   "source": [
    "#Concatena tercera_palabra y mi_numero_str\n",
    "tercera_palabra + mi_numero_str"
   ]
  },
  {
   "cell_type": "markdown",
   "metadata": {
    "colab_type": "text",
    "id": "TfVnllcxfJNG"
   },
   "source": [
    "- `int()` convierte a entero una variable o valor"
   ]
  },
  {
   "cell_type": "code",
   "execution_count": 76,
   "metadata": {
    "colab": {},
    "colab_type": "code",
    "id": "P1BedfpTfJNG",
    "outputId": "edb4787d-dd37-4eb5-deb6-67893e814f59"
   },
   "outputs": [
    {
     "data": {
      "text/plain": [
       "20"
      ]
     },
     "execution_count": 76,
     "metadata": {},
     "output_type": "execute_result"
    }
   ],
   "source": [
    "#Aplica la función int a mi_numero_str y multiplicalo por 5\n",
    "int(mi_numero_str) * 5"
   ]
  },
  {
   "cell_type": "markdown",
   "metadata": {
    "colab_type": "text",
    "id": "bcnmuVJIfJNI"
   },
   "source": [
    "Otras funciones similares son: [`float()`](https://docs.python.org/3/library/functions.html#float) y [`bool()`](https://docs.python.org/3/library/functions.html#bool)."
   ]
  },
  {
   "cell_type": "markdown",
   "metadata": {
    "colab_type": "text",
    "id": "FJp2DtPQfJNJ"
   },
   "source": [
    "#### Inmutables"
   ]
  },
  {
   "cell_type": "markdown",
   "metadata": {
    "colab_type": "text",
    "id": "PMLMyIsxfJNJ"
   },
   "source": [
    "Todos los tipos de variables que vimos hasta ahora son **inmutables**. Esto significa que no pueden ser alteradas después de haber sido creadas."
   ]
  },
  {
   "cell_type": "code",
   "execution_count": 77,
   "metadata": {
    "colab": {},
    "colab_type": "code",
    "id": "7OlMe8r8fJNK",
    "outputId": "1fe3074d-623a-409d-8d08-9f495aab1ed9"
   },
   "outputs": [
    {
     "ename": "TypeError",
     "evalue": "'str' object does not support item assignment",
     "output_type": "error",
     "traceback": [
      "\u001b[0;31m---------------------------------------------------------------------------\u001b[0m",
      "\u001b[0;31mTypeError\u001b[0m                                 Traceback (most recent call last)",
      "\u001b[0;32m<ipython-input-77-7951f226d429>\u001b[0m in \u001b[0;36m<module>\u001b[0;34m\u001b[0m\n\u001b[1;32m      1\u001b[0m \u001b[0;31m#Corre la siguiente linea y observa que occurre\u001b[0m\u001b[0;34m\u001b[0m\u001b[0;34m\u001b[0m\u001b[0;34m\u001b[0m\u001b[0m\n\u001b[1;32m      2\u001b[0m \u001b[0mvariable_inmutable\u001b[0m \u001b[0;34m=\u001b[0m \u001b[0;34m\"Los strings son inmutables en Python\"\u001b[0m\u001b[0;34m\u001b[0m\u001b[0;34m\u001b[0m\u001b[0m\n\u001b[0;32m----> 3\u001b[0;31m \u001b[0mvariable_inmutable\u001b[0m\u001b[0;34m[\u001b[0m\u001b[0;36m8\u001b[0m\u001b[0;34m]\u001b[0m \u001b[0;34m=\u001b[0m \u001b[0;34m\"f\"\u001b[0m\u001b[0;34m\u001b[0m\u001b[0;34m\u001b[0m\u001b[0m\n\u001b[0m",
      "\u001b[0;31mTypeError\u001b[0m: 'str' object does not support item assignment"
     ]
    }
   ],
   "source": [
    "#Corre la siguiente linea y observa que occurre\n",
    "variable_inmutable = \"Los strings son inmutables en Python\"\n",
    "variable_inmutable[8] = \"f\""
   ]
  },
  {
   "cell_type": "markdown",
   "metadata": {
    "colab_type": "text",
    "id": "LKaL6IOXfJNN"
   },
   "source": [
    "Lo que nos dice el error, es que una vez asignada una variable, no puedo cambiar parte de ella. "
   ]
  },
  {
   "cell_type": "markdown",
   "metadata": {
    "colab_type": "text",
    "id": "rTDhXw9SfJNP"
   },
   "source": [
    "Además de los mencionados hasta ahora, Python nos ofrece otras estructuras de datos que son más flexibles y permiten agrupar varios valores. Además muchas de ellas son mutables, es decir, permiten que asignemos o alteremos valores una vez definidas. "
   ]
  },
  {
   "cell_type": "markdown",
   "metadata": {
    "colab_type": "text",
    "id": "_x5NN55zfJNQ"
   },
   "source": [
    "### LISTAS"
   ]
  },
  {
   "cell_type": "markdown",
   "metadata": {
    "colab_type": "text",
    "id": "mVVQdhxAfJNQ"
   },
   "source": [
    "Una lista es una colección **mutable** de elementos **ORDENADOS**, que pueden ser de distinto tipo. Las listas se crean utilizando corchetes como en el ejemplo."
   ]
  },
  {
   "cell_type": "code",
   "execution_count": 78,
   "metadata": {
    "colab": {},
    "colab_type": "code",
    "id": "h1a9O2qAfJNR",
    "outputId": "63bf73f2-40db-4458-a8b6-f0f4863aba2b"
   },
   "outputs": [
    {
     "name": "stdout",
     "output_type": "stream",
     "text": [
      "['mi', 'lista', 3, 4.5, True]\n",
      "<class 'list'>\n"
     ]
    }
   ],
   "source": [
    "#Corre la siguiente linea para declarar la lista mi_lista\n",
    "mi_lista = [\"mi\", \"lista\", 3, 4.5, True]\n",
    "\n",
    "#Muestra el contenido de la variable mi_lista\n",
    "print(mi_lista)\n",
    "\n",
    "#Chequea el tipo de variable de mi_lista\n",
    "print(type(mi_lista))"
   ]
  },
  {
   "cell_type": "code",
   "execution_count": 79,
   "metadata": {
    "colab": {},
    "colab_type": "code",
    "id": "IL5fJj_CfJNU"
   },
   "outputs": [],
   "source": [
    "#Define una lista que contenga 10 elementos y asignaselos a la variable primer_lista\n",
    "primer_lista = [3, 4, 5, 14, \"hola\", \"chau\", \"rojo\", False, \"AZUL\", True]"
   ]
  },
  {
   "cell_type": "markdown",
   "metadata": {
    "colab_type": "text",
    "id": "JqZW5_KYfJNX"
   },
   "source": [
    "Para poder acceder a un elemento en una lista, vamos a usar indices al igual que lo hicimos con los strings. También podemos obtener parte de la lista usando la notación `lista[n:m]` como lo hicimos en los strings.  \n",
    "Algo que no dijimos es que si omito el primer indice, `lista[:m]`, esto indica que mi substring comienza con el indice 0, y si omito el segundo indice `lista[n:]` indica que mi substring va hasta el final de la lista."
   ]
  },
  {
   "cell_type": "code",
   "execution_count": 80,
   "metadata": {
    "colab": {},
    "colab_type": "code",
    "id": "da_l4saWfJNX",
    "outputId": "808a2670-ab1c-4ef5-9fb2-93805d9bb6f0"
   },
   "outputs": [
    {
     "name": "stdout",
     "output_type": "stream",
     "text": [
      "14\n"
     ]
    }
   ],
   "source": [
    "#Imprime el cuarto elemento de la lista primer_lista\n",
    "print(primer_lista[3])"
   ]
  },
  {
   "cell_type": "code",
   "execution_count": 81,
   "metadata": {
    "colab": {},
    "colab_type": "code",
    "id": "dWHFalDrfJNZ",
    "outputId": "383bb90a-75bb-4256-d81f-f4aa214cce55"
   },
   "outputs": [
    {
     "name": "stdout",
     "output_type": "stream",
     "text": [
      "6\n"
     ]
    }
   ],
   "source": [
    "#Imprime el resultado de sumar los numeros 2 y 4 contenidos en la siguiente lista\n",
    "mis_numeros = [3, 5, 6, 4, 21, 2, 5]\n",
    "\n",
    "print(mis_numeros[3]+mis_numeros[5])"
   ]
  },
  {
   "cell_type": "markdown",
   "metadata": {
    "colab_type": "text",
    "id": "0bo51AHWfJNb"
   },
   "source": [
    "Hasta ahora vimos solo como acceder utilizando indices positivos, pero también podemos acceder usando **indices negativos**. El último caracter tendra el indice -1, el anteultimo -2 y así sucesivamente."
   ]
  },
  {
   "cell_type": "code",
   "execution_count": 82,
   "metadata": {
    "colab": {},
    "colab_type": "code",
    "id": "lQZVETU5fJNb",
    "outputId": "fc2d7f55-6b58-4f4f-bdc7-d360d3ee2aa8"
   },
   "outputs": [
    {
     "data": {
      "text/plain": [
       "True"
      ]
     },
     "execution_count": 82,
     "metadata": {},
     "output_type": "execute_result"
    }
   ],
   "source": [
    "#Imprime el ultimo elemento de la lista primer_lista\n",
    "primer_lista[-1]"
   ]
  },
  {
   "cell_type": "code",
   "execution_count": 84,
   "metadata": {
    "colab": {},
    "colab_type": "code",
    "id": "2hO5xtpJfJNe",
    "outputId": "6855aa59-881d-4f5b-b619-f061b73b7d8e"
   },
   "outputs": [
    {
     "data": {
      "text/plain": [
       "[14, 'hola', 'chau']"
      ]
     },
     "execution_count": 84,
     "metadata": {},
     "output_type": "execute_result"
    }
   ],
   "source": [
    "#Imprime la sublista que va desde el cuarto elemento hasta el sexto elemento inclusive de la lista primer_lista\n",
    "primer_lista[3:6]"
   ]
  },
  {
   "cell_type": "code",
   "execution_count": 85,
   "metadata": {
    "colab": {},
    "colab_type": "code",
    "id": "llp8QjTwfJNg",
    "outputId": "b2addd80-17b3-4bce-8e59-4566cdfa17c8"
   },
   "outputs": [
    {
     "name": "stdout",
     "output_type": "stream",
     "text": [
      "[3, 4, 5, 14, 'hola']\n",
      "['chau', 'rojo', False, 'AZUL', True]\n"
     ]
    }
   ],
   "source": [
    "#Imprime la sublista que contenga los primeros cinco elementos de primer_lista\n",
    "print(primer_lista[:5])\n",
    "\n",
    "#Imprime la sublista que contenga los últimos cinco elementos de primer_lista\n",
    "print(primer_lista[-5:])"
   ]
  },
  {
   "cell_type": "markdown",
   "metadata": {
    "colab_type": "text",
    "id": "pezeW3WTfJNl"
   },
   "source": [
    "La función `len()` nos permite saber cuantos elementos hay en una lista."
   ]
  },
  {
   "cell_type": "code",
   "execution_count": 86,
   "metadata": {
    "colab": {},
    "colab_type": "code",
    "id": "k6_Etx7ofJNl",
    "outputId": "6f5f8039-9bd9-448a-bc7a-29a25b6c67be"
   },
   "outputs": [
    {
     "data": {
      "text/plain": [
       "22"
      ]
     },
     "execution_count": 86,
     "metadata": {},
     "output_type": "execute_result"
    }
   ],
   "source": [
    "#¿Cuantos elementos hay en la siguiente lista?\n",
    "elementos_listas = [12, 241, 141, 5151, \"hola\", \"python\", 41, 141, \"data science\", \"mujeres\", True, 343.98, \n",
    "                    \"hallway\", 11.25, \"kitchen\", 18.0, \n",
    "                    \"living room\", 20.0, \"bedroom\", 10.75, \"bathroom\", 9.50]\n",
    "\n",
    "#Numero elementos en lista\n",
    "len(elementos_listas)"
   ]
  },
  {
   "cell_type": "markdown",
   "metadata": {
    "colab_type": "text",
    "id": "ERFUKsmNfJNo"
   },
   "source": [
    "El operador `in` nos permite saber si un elemento esta en una lista."
   ]
  },
  {
   "cell_type": "code",
   "execution_count": 87,
   "metadata": {
    "colab": {},
    "colab_type": "code",
    "id": "w4Glkp6zfJNo",
    "outputId": "fffbc8cb-4282-4a34-cd07-f747ce582976"
   },
   "outputs": [
    {
     "data": {
      "text/plain": [
       "False"
      ]
     },
     "execution_count": 87,
     "metadata": {},
     "output_type": "execute_result"
    }
   ],
   "source": [
    "#Chequea si False esta en elementos_lista\n",
    "False in elementos_listas"
   ]
  },
  {
   "cell_type": "markdown",
   "metadata": {
    "colab_type": "text",
    "id": "yVeAmVmNfJNq"
   },
   "source": [
    "Dijimos que las listas son estructuras de datos que pueden alterarse, o son mutables. Eso significa que podemos reasignar valores una vez definida la lista. Para esto especificamos usando el indice que elemento(s) queremos redefinir y le asignamos un nuevo valor."
   ]
  },
  {
   "cell_type": "code",
   "execution_count": 88,
   "metadata": {
    "colab": {},
    "colab_type": "code",
    "id": "WHu37gXdfJNr",
    "outputId": "099a0fae-665c-4899-97d4-ee060f406f4c"
   },
   "outputs": [
    {
     "data": {
      "text/plain": [
       "'hola'"
      ]
     },
     "execution_count": 88,
     "metadata": {},
     "output_type": "execute_result"
    }
   ],
   "source": [
    "#Imprime el quinto elemento presente en elementos_lista\n",
    "elementos_listas[4]"
   ]
  },
  {
   "cell_type": "code",
   "execution_count": 89,
   "metadata": {
    "colab": {},
    "colab_type": "code",
    "id": "cuI7IFI9fJNt"
   },
   "outputs": [],
   "source": [
    "#Asigna ahora el valor \"chau\" al quinto elemento de elementos_lista\n",
    "elementos_listas[4] = 'chau'"
   ]
  },
  {
   "cell_type": "code",
   "execution_count": 90,
   "metadata": {
    "colab": {},
    "colab_type": "code",
    "id": "SQztf7UafJNu",
    "outputId": "a2a85a7c-e88c-45fe-b017-93f527332a39"
   },
   "outputs": [
    {
     "name": "stdout",
     "output_type": "stream",
     "text": [
      "[12, 241, 141, 5151, 'chau', 'python', 41, 141, 'data science', 'mujeres', True, 343.98, 'hallway', 11.25, 'kitchen', 18.0, 'living room', 20.0, 'bedroom', 10.75, 'bathroom', 9.5]\n"
     ]
    }
   ],
   "source": [
    "#Imprime la lista elementos_lista\n",
    "print(elementos_listas)"
   ]
  },
  {
   "cell_type": "markdown",
   "metadata": {
    "colab_type": "text",
    "id": "z8Q1X0Z_fJNx"
   },
   "source": [
    "Las listas también se pueden concatenar utilizando el operador `+`."
   ]
  },
  {
   "cell_type": "code",
   "execution_count": 91,
   "metadata": {
    "colab": {},
    "colab_type": "code",
    "id": "IJN7FkE9fJNx",
    "outputId": "96e3725c-636a-4d98-fe67-6652a306e8f3"
   },
   "outputs": [
    {
     "name": "stdout",
     "output_type": "stream",
     "text": [
      "[12, 241, 141, 5151, 'chau', 'python', 41, 141, 'data science', 'mujeres', True, 343.98, 'hallway', 11.25, 'kitchen', 18.0, 'living room', 20.0, 'bedroom', 10.75, 'bathroom', 9.5, 3, 4, 5, 14, 'hola', 'chau', 'rojo', False, 'AZUL', True]\n"
     ]
    }
   ],
   "source": [
    "#Concatena las listas elementos_listas y primer_lista. Asignaselo a la variable nueva_lista\n",
    "nueva_lista = elementos_listas + primer_lista\n",
    "\n",
    "#Imprime nueva_lista\n",
    "print(nueva_lista)"
   ]
  },
  {
   "cell_type": "markdown",
   "metadata": {
    "colab_type": "text",
    "id": "PWS6kdDlfJNz"
   },
   "source": [
    "### Diccionarios"
   ]
  },
  {
   "cell_type": "markdown",
   "metadata": {
    "colab_type": "text",
    "id": "OMG5o91hfJN0"
   },
   "source": [
    "Otra estructura de datos muy útil son los diccionarios. Los diccionarios en Python son un tipo de estructuras de datos que permite guardar un conjunto **no ordenado** de pares **clave-valor**, siendo las claves únicas dentro de un mismo diccionario (es decir que no pueden existir dos elementos con una misma clave).\n",
    "\n",
    "En Python, los diccionarios se definen utilizando llaves `{}` y cada uno de los elementos estan separados por comas. Cada elemento lo definimos con su par clave:valor, pudiendo ser la clave y el valor de cualquier tipo (`int`, `float`, `string`, `bool`)."
   ]
  },
  {
   "cell_type": "code",
   "execution_count": 92,
   "metadata": {
    "colab": {},
    "colab_type": "code",
    "id": "WDz0WRS8fJN0"
   },
   "outputs": [],
   "source": [
    "#Completa el siguiente codigo reemplazando ---- con valores y/o claves \n",
    "diccionario = {\n",
    "    #clave : valor\n",
    "    'Alberto' : [10, 87, True],\n",
    "    'John' : False,\n",
    "    'Juan' : 12,\n",
    "    'Amanda' : [43, 5],\n",
    "    'Maria': 45\n",
    "}"
   ]
  },
  {
   "cell_type": "markdown",
   "metadata": {
    "colab_type": "text",
    "id": "f69qSG2gfJN1"
   },
   "source": [
    "Para acceder a los valores, se hace mediante la clave utilizando también corchetes."
   ]
  },
  {
   "cell_type": "code",
   "execution_count": 93,
   "metadata": {
    "colab": {},
    "colab_type": "code",
    "id": "eVq0WUjAfJN2",
    "outputId": "10b71242-c672-4053-b8fb-28d403b23827"
   },
   "outputs": [
    {
     "name": "stdout",
     "output_type": "stream",
     "text": [
      "[10, 87, True]\n"
     ]
    }
   ],
   "source": [
    "#Imprime los valores asociados con la clave 'Alberto'\n",
    "print(diccionario['Alberto'])"
   ]
  },
  {
   "cell_type": "code",
   "execution_count": 94,
   "metadata": {
    "colab": {},
    "colab_type": "code",
    "id": "2GbfbczjfJN4",
    "outputId": "29e02f79-433c-4a31-b9a9-23b3448c9500"
   },
   "outputs": [
    {
     "data": {
      "text/plain": [
       "dict_keys(['Alberto', 'John', 'Juan', 'Amanda', 'Maria'])"
      ]
     },
     "execution_count": 94,
     "metadata": {},
     "output_type": "execute_result"
    }
   ],
   "source": [
    "#Corre la siguiente linea y observa el resultado\n",
    "diccionario.keys()"
   ]
  },
  {
   "cell_type": "code",
   "execution_count": 95,
   "metadata": {
    "colab": {},
    "colab_type": "code",
    "id": "TvqaxRlzfJN6",
    "outputId": "514828ce-e1dd-4840-cb96-98ea1ab6c4ca"
   },
   "outputs": [
    {
     "data": {
      "text/plain": [
       "dict_values([[10, 87, True], False, 12, [43, 5], 45])"
      ]
     },
     "execution_count": 95,
     "metadata": {},
     "output_type": "execute_result"
    }
   ],
   "source": [
    "#Corre la siguiente linea y observa el resultado\n",
    "diccionario.values()"
   ]
  },
  {
   "cell_type": "markdown",
   "metadata": {
    "colab_type": "text",
    "id": "ZfnZX-ohfJOA"
   },
   "source": [
    "## Módulo 2: Funciones y Estructuras de control"
   ]
  },
  {
   "cell_type": "markdown",
   "metadata": {
    "colab_type": "text",
    "id": "UyqJAomcfJOB"
   },
   "source": [
    "En esta parte de la clase, vamos a estudiar sentencias de código que nos permitiran evaluar expresiones, recorrer estructura de datos o realizar operaciones mas complejas sobre ellas."
   ]
  },
  {
   "cell_type": "markdown",
   "metadata": {
    "colab_type": "text",
    "id": "eOaZ_elMfJOC"
   },
   "source": [
    "Antes que nada, veremos un tipo de operadores que nos permiten realizar comparaciones entre variables o valores."
   ]
  },
  {
   "cell_type": "markdown",
   "metadata": {
    "colab_type": "text",
    "id": "y4ujTm47fJOC"
   },
   "source": [
    "### Operadores de comparación"
   ]
  },
  {
   "cell_type": "markdown",
   "metadata": {
    "colab_type": "text",
    "id": "gvz59AkRfJOD"
   },
   "source": [
    "Hay varios operadores en Python que nos permiten comparar variables o estructura de datos. Observemos la siguiente lista:"
   ]
  },
  {
   "cell_type": "markdown",
   "metadata": {
    "colab_type": "text",
    "id": "Fbo2yl8ZfJOD"
   },
   "source": [
    "`==` : los valores son iguales (**OJO!** Es común confundirse y usar `=`, pero acordate que este es usado para asignar variables)  \n",
    "`!=` : los valores no son iguales  \n",
    "`<` : el valor a la izquierda es menor que el valor a la derecha  \n",
    "`>` : el valor a la izquierda es mayor que el valor a la derecha  \n",
    "`<=` : el valor a la izquierda es menor o igual que el valor a la derecha  \n",
    "`>=` : el valor a la izquierda es mayor o igual que el valor a la derecha  "
   ]
  },
  {
   "cell_type": "code",
   "execution_count": 96,
   "metadata": {
    "colab": {},
    "colab_type": "code",
    "id": "jWi1exnpfJOE",
    "outputId": "11f865ee-4202-41c9-9110-66c9ee5535d6"
   },
   "outputs": [
    {
     "data": {
      "text/plain": [
       "False"
      ]
     },
     "execution_count": 96,
     "metadata": {},
     "output_type": "execute_result"
    }
   ],
   "source": [
    "#Chequea si las variables mi_bool y otra_bool que definiste mas arriba son iguales\n",
    "mi_bool == otra_bool"
   ]
  },
  {
   "cell_type": "code",
   "execution_count": 97,
   "metadata": {
    "colab": {},
    "colab_type": "code",
    "id": "HICrA4e3fJOH",
    "outputId": "3e072b4d-8c06-42a7-f31a-d265739e3a08"
   },
   "outputs": [
    {
     "data": {
      "text/plain": [
       "True"
      ]
     },
     "execution_count": 97,
     "metadata": {},
     "output_type": "execute_result"
    }
   ],
   "source": [
    "#Chequea si la variable float_numero es mayor a 4\n",
    "float_numero > 4"
   ]
  },
  {
   "cell_type": "code",
   "execution_count": 98,
   "metadata": {
    "colab": {},
    "colab_type": "code",
    "id": "KJKAd8ZLfJOJ",
    "outputId": "6358b995-fca0-430d-c2c6-869f173a92b2"
   },
   "outputs": [
    {
     "data": {
      "text/plain": [
       "False"
      ]
     },
     "execution_count": 98,
     "metadata": {},
     "output_type": "execute_result"
    }
   ],
   "source": [
    "#Chequea si la longitud de la variable primer_lista es mayor o igual que la longitud de elementos_listas\n",
    "len(primer_lista) >= len(elementos_listas)"
   ]
  },
  {
   "cell_type": "code",
   "execution_count": 99,
   "metadata": {
    "colab": {},
    "colab_type": "code",
    "id": "LoNXXQvdfJOM",
    "outputId": "735be209-c028-4089-fb95-2381ccc6331c"
   },
   "outputs": [
    {
     "data": {
      "text/plain": [
       "False"
      ]
     },
     "execution_count": 99,
     "metadata": {},
     "output_type": "execute_result"
    }
   ],
   "source": [
    "#Chequea si el cuarto elemento de elementos_listas es menor o igual a multiplicar mi_numero por el segundo valor \n",
    "#asociado a la clave Alberto de diccionario\n",
    "elementos_listas[3] <= mi_numero * diccionario['Alberto'][1]"
   ]
  },
  {
   "cell_type": "markdown",
   "metadata": {
    "colab_type": "text",
    "id": "rnHu5n2lfJOR"
   },
   "source": [
    "## Definiendo Funciones"
   ]
  },
  {
   "cell_type": "markdown",
   "metadata": {
    "colab_type": "text",
    "id": "36pZetV8fJOR"
   },
   "source": [
    "Python nos permite crear nuestras propias funciones. Una **función** es una secuencia de sentencias que ejecuta una operación deseada y tiene un nombre. Esta operación se especifica en una definición de función. En Python, la estructura general de una función contiene:\n",
    "\n",
    "- Un encabezado, que empieza con una palabra reservada `def` y termina con dos puntos.\n",
    "- Un cuerpo consistente de una o más sentencias de Python"
   ]
  },
  {
   "cell_type": "markdown",
   "metadata": {
    "colab_type": "text",
    "id": "XAdT0XJMfJOS"
   },
   "source": [
    "Antes de seguir adelante debemos aclarar algo que es muy importante para la sintaxis de Python. Las funciones de Python no tienen begin o end explícitos, ni llaves que marquen dónde empieza o termina su código, como otros lenguajes de programación. El único delimitador son dos puntos `:` y el **INDENTADO** del propio código."
   ]
  },
  {
   "cell_type": "markdown",
   "metadata": {
    "colab_type": "text",
    "id": "YfxgbOJcfJOS"
   },
   "source": [
    "Los bloques de código van definidos por su indentados. Con **bloque de código** nos referimos a funciones, sentencias if, bucles for, while, etc. El indentado comienza un bloque y su ausencia lo termina. No hay llaves, corchetes ni palabras clave explícitas. Esto quiere decir que el espacio en blanco es significativo y debe ser consistente. "
   ]
  },
  {
   "cell_type": "markdown",
   "metadata": {
    "colab_type": "text",
    "id": "mmwVW21vfJOS"
   },
   "source": [
    "Por convención, el indentado en Python esta dado por la presencia de **4 espacios**. Veamos entonces la sintaxis para una definición de función en Python y como funciona el indentado."
   ]
  },
  {
   "cell_type": "code",
   "execution_count": 0,
   "metadata": {
    "colab": {},
    "colab_type": "code",
    "id": "_mQ8w7yTfJOT",
    "outputId": "c4252226-b18c-4672-b1a8-023183e86455"
   },
   "outputs": [
    {
     "data": {
      "text/plain": [
       "8"
      ]
     },
     "execution_count": 66,
     "metadata": {
      "tags": []
     },
     "output_type": "execute_result"
    }
   ],
   "source": [
    "#Para definir una funcion en python debo comenzar con def\n",
    "#luego el nombre de la funcion\n",
    "#Entre parentesis declaro los argumentos o variables que debe tomar\n",
    "#la funcion definida\n",
    "def suma(a, b):\n",
    "    #En el cuerpo establezco que hara la función\n",
    "    return a+b\n",
    "suma(3, 5)"
   ]
  },
  {
   "cell_type": "markdown",
   "metadata": {
    "colab_type": "text",
    "id": "lZSWiyWrfJOV"
   },
   "source": [
    "Observa que la primer linea no tiene indentado, pero termina con `:`. Esto le indica a Python que alli comienza la función `comparacion`. En la segunda linea, hay un indentado de 4 espacios. Esto le indica a Python que comienza un bloque de código y todo lo que vaya ahi, ira dentro de la función. \n",
    "Luego en la tercer linea, no tenemos identado, lo que le indica a Python que la función `suma` ha finalizado."
   ]
  },
  {
   "cell_type": "markdown",
   "metadata": {
    "colab_type": "text",
    "id": "Msqz56hVfJOW"
   },
   "source": [
    "`return` devuelve el valor de la función. Se utiliza dentro de una función. Una vez que mi función ejecuta la sentencia return, devuelve el valor especificado y no sigue ejecutando el resto de las lineas. "
   ]
  },
  {
   "cell_type": "code",
   "execution_count": 0,
   "metadata": {
    "colab": {},
    "colab_type": "code",
    "id": "gQoNYbaYfJOW"
   },
   "outputs": [],
   "source": [
    "#Ejecuta el siguiente codigo\n",
    "def promedio(x, y):\n",
    "    resultado = (x + y) / 2\n",
    "    return resultado"
   ]
  },
  {
   "cell_type": "code",
   "execution_count": 0,
   "metadata": {
    "colab": {},
    "colab_type": "code",
    "id": "v1MTQ3zrfJOX",
    "outputId": "04b8fef6-a26f-428f-9ce2-11c41e8c1d66"
   },
   "outputs": [
    {
     "data": {
      "text/plain": [
       "10.5"
      ]
     },
     "execution_count": 68,
     "metadata": {
      "tags": []
     },
     "output_type": "execute_result"
    }
   ],
   "source": [
    "promedio(9, 12)"
   ]
  },
  {
   "cell_type": "markdown",
   "metadata": {
    "colab_type": "text",
    "id": "0PLcn5POfJOZ"
   },
   "source": [
    "## IF-staments"
   ]
  },
  {
   "cell_type": "markdown",
   "metadata": {
    "colab_type": "text",
    "id": "ura0DNLcfJOZ"
   },
   "source": [
    "Para escribir código útil, casi siempre necesitamos la capacidad de comprobar ciertas condiciones y cambiar el comportamiento del código como corresponda. Las sentencias condicionales nos dan esta capacidad. \n",
    "\n",
    "En Python, las sentencias condicionales vienen dadas por la sentencia `if-elif-else`. Veamos varios ejemplos."
   ]
  },
  {
   "cell_type": "code",
   "execution_count": 10,
   "metadata": {
    "colab": {},
    "colab_type": "code",
    "id": "tRoY9tjcfJOZ"
   },
   "outputs": [],
   "source": [
    "x = 5\n",
    "y = 4"
   ]
  },
  {
   "cell_type": "code",
   "execution_count": 0,
   "metadata": {
    "colab": {},
    "colab_type": "code",
    "id": "7nHPddDSfJOa"
   },
   "outputs": [],
   "source": [
    "#Primero evaluo si x es menor a y\n",
    "if x < y:\n",
    "    #Si lo es imprimo esta secuencia\n",
    "    print(x, \"es menor que\", y)"
   ]
  },
  {
   "cell_type": "code",
   "execution_count": 0,
   "metadata": {
    "colab": {},
    "colab_type": "code",
    "id": "XV_qQK7VfJOc",
    "outputId": "7d4a087c-c137-4068-88e2-e3e6ae9cb57c",
    "scrolled": true
   },
   "outputs": [
    {
     "name": "stdout",
     "output_type": "stream",
     "text": [
      "5 es mayor o igual que 4\n"
     ]
    }
   ],
   "source": [
    "#Primero evaluo si x es menor a y\n",
    "if x < y:\n",
    "    #Si lo es imprimo esta secuencia\n",
    "    print(x, \"es menor que\", y)\n",
    "#Si esto no se cumple\n",
    "else:\n",
    "    #Entonces imprimo esta secuencia\n",
    "    print(x, \"es mayor o igual que\", y)"
   ]
  },
  {
   "cell_type": "code",
   "execution_count": 0,
   "metadata": {
    "colab": {},
    "colab_type": "code",
    "id": "jfkshTiWfJOe",
    "outputId": "a40f7e11-537e-47a1-e935-50221136dba9"
   },
   "outputs": [
    {
     "name": "stdout",
     "output_type": "stream",
     "text": [
      "5 es mayor que 4\n"
     ]
    }
   ],
   "source": [
    "#Primero evaluo si x es menor a y\n",
    "if x < y:\n",
    "    #Si lo es imprimo esta secuencia\n",
    "    print(x, \"es menor que\", y)\n",
    "#Si no lo es evaluo si x es mayor a y\n",
    "elif x > y:\n",
    "    #Si lo es, imprimo ahora esta secuencia\n",
    "    print(x, \"es mayor que\", y)"
   ]
  },
  {
   "cell_type": "code",
   "execution_count": 0,
   "metadata": {
    "colab": {},
    "colab_type": "code",
    "id": "zJrpswURfJOg",
    "outputId": "11d8985b-0a83-4afe-9d9a-84898a8d84eb"
   },
   "outputs": [
    {
     "name": "stdout",
     "output_type": "stream",
     "text": [
      "5 es mayor que 4\n"
     ]
    }
   ],
   "source": [
    "#Primero evaluo si x es menor a y\n",
    "if x < y:\n",
    "    #Si lo es imprimo esta secuencia\n",
    "    print(x, \"es menor que\", y)\n",
    "#Si no lo es evaluo si x es mayor a y\n",
    "elif x > y:\n",
    "    #Si lo es, imprimo ahora esta secuencia\n",
    "    print(x, \"es mayor que\", y)\n",
    "#Si ninguna de las condiciones anteriores se cumple\n",
    "else:\n",
    "    #Entonces imprimo esta secuencia\n",
    "    print(x, \"y\", y, \"son iguales\")"
   ]
  },
  {
   "cell_type": "markdown",
   "metadata": {
    "colab_type": "text",
    "id": "mkNV1pv4fJOh"
   },
   "source": [
    "## Iteración"
   ]
  },
  {
   "cell_type": "markdown",
   "metadata": {
    "colab_type": "text",
    "id": "yUspGGzXfJOh"
   },
   "source": [
    "La ejecución repetida de un conjunto de sentencias se llama **iteración**. Python proporciona varias sentencias que hacen más fácil la iteración."
   ]
  },
  {
   "cell_type": "markdown",
   "metadata": {
    "colab_type": "text",
    "id": "ptNEfBr2fJOi"
   },
   "source": [
    "## While"
   ]
  },
  {
   "cell_type": "markdown",
   "metadata": {
    "colab_type": "text",
    "id": "pry1VZQ5fJOi"
   },
   "source": [
    "La primera sentencia es `while`. Veamos como se utiliza ejecutando las siguientes lineas de código."
   ]
  },
  {
   "cell_type": "code",
   "execution_count": 0,
   "metadata": {
    "colab": {},
    "colab_type": "code",
    "id": "jtUtK1qpfJOi"
   },
   "outputs": [],
   "source": [
    "n = 6"
   ]
  },
  {
   "cell_type": "code",
   "execution_count": 0,
   "metadata": {
    "colab": {},
    "colab_type": "code",
    "id": "KEAppJ0bfJOj",
    "outputId": "ebb7c73f-5d1b-4515-f3ba-10768e590527"
   },
   "outputs": [
    {
     "name": "stdout",
     "output_type": "stream",
     "text": [
      "6\n",
      "5\n",
      "4\n",
      "3\n",
      "2\n",
      "1\n",
      "Fin del conteo\n"
     ]
    }
   ],
   "source": [
    "#evaluo n. Ni n es mayor a 0.\n",
    "while n > 0:\n",
    "    #Muestro n\n",
    "    print(n)\n",
    "    #Asigno a n el resultado de n-1\n",
    "    n = n-1\n",
    "#Cuando termina el while muestro el siguiente string\n",
    "print(\"Fin del conteo\")"
   ]
  },
  {
   "cell_type": "markdown",
   "metadata": {
    "colab_type": "text",
    "id": "28HBar1BfJOm"
   },
   "source": [
    "La función anterior establece que: “Mientras n sea mayor que 0, mostra el valor de n y luego reduci el valor de n en 1. Cuando llegue a 0, muestra la frase Fin del conteo“"
   ]
  },
  {
   "cell_type": "markdown",
   "metadata": {
    "colab_type": "text",
    "id": "WdoiPOP8fJOn"
   },
   "source": [
    "El flujo de ejecución de una sentencia `while` es el siguiente:\n",
    "\n",
    "- Evalúa la condición, devolviendo False o True.\n",
    "- Si la condición es falsa, sale de la sentencia while y continúa la ejecución con la siguiente sentencia.\n",
    "- Si la condición es verdadera, ejecuta cada una de las sentencias en el cuerpo y regresa al paso 1.\n",
    "\n",
    "Este tipo de flujo de llama **bucle** porque el tercer paso del bucle vuelve arriba. Observa que si la condición es falsa la primera vez que se evalua el bucle, las sentencias del interior del bucle no se ejecutan nunca.\n",
    "\n",
    "El cuerpo del bucle deberá cambiar el valor de una o más variables evaluadas para que, en algún momento, la condición sea falsa y el bucle termine. En caso contrario, el bucle se repetirá indefinidamente, que es lo que se llama bucle infinito."
   ]
  },
  {
   "cell_type": "markdown",
   "metadata": {
    "colab_type": "text",
    "id": "T2CMjNGZfJOn"
   },
   "source": [
    "## For loops"
   ]
  },
  {
   "cell_type": "markdown",
   "metadata": {
    "colab_type": "text",
    "id": "TguBoVfSfJOn"
   },
   "source": [
    "Otra sentencia para iteraciones es el bucle `for`, que repite el bloque de código un número prederminado de veces. Observemos ahora su sintaxis:"
   ]
  },
  {
   "cell_type": "code",
   "execution_count": 0,
   "metadata": {
    "colab": {},
    "colab_type": "code",
    "id": "ipcq77bjfJOn"
   },
   "outputs": [],
   "source": [
    "lista_numeros = [0, 1, 2, 3, 4, 5]"
   ]
  },
  {
   "cell_type": "code",
   "execution_count": 0,
   "metadata": {
    "colab": {},
    "colab_type": "code",
    "id": "i738AChyfJOo",
    "outputId": "d07a355a-bbd6-4507-da56-6b3eaafed538"
   },
   "outputs": [
    {
     "name": "stdout",
     "output_type": "stream",
     "text": [
      "0\n",
      "1\n",
      "2\n",
      "3\n",
      "4\n",
      "5\n"
     ]
    }
   ],
   "source": [
    "#Para cada elemento en la lista lista_numeros\n",
    "for numero in lista_numeros:\n",
    "    #Mostra el numero\n",
    "    print(numero)"
   ]
  },
  {
   "cell_type": "markdown",
   "metadata": {
    "colab_type": "text",
    "id": "pMCDpe1RfJOq"
   },
   "source": [
    "El cuerpo del bucle `for` se ejecuta tantas veces como elementos tenga el elemento iterable. Cualquier iterable: listas, diccionarios, strings pueden ser utilizados."
   ]
  },
  {
   "cell_type": "code",
   "execution_count": 0,
   "metadata": {
    "colab": {},
    "colab_type": "code",
    "id": "BpaDeomLfJOq",
    "outputId": "ce26b022-fce0-4d84-b5a0-b53e6ea8598e"
   },
   "outputs": [
    {
     "name": "stdout",
     "output_type": "stream",
     "text": [
      "l\n",
      "o\n",
      "s\n",
      " \n",
      "'\n",
      "s\n",
      "t\n",
      "r\n",
      "i\n",
      "n\n",
      "g\n",
      "s\n",
      "'\n",
      " \n",
      "t\n",
      "a\n",
      "m\n",
      "b\n",
      "i\n",
      "e\n",
      "n\n",
      " \n",
      "s\n",
      "o\n",
      "n\n",
      " \n",
      "i\n",
      "t\n",
      "e\n",
      "r\n",
      "a\n",
      "b\n",
      "l\n",
      "e\n",
      "s\n",
      "!\n"
     ]
    }
   ],
   "source": [
    "iterable = \"los 'strings' tambien son iterables!\"\n",
    "for elemento in iterable:\n",
    "    print(elemento)"
   ]
  },
  {
   "cell_type": "markdown",
   "metadata": {
    "colab_type": "text",
    "id": "1cRp6JVnfJOs"
   },
   "source": [
    "Los numeros no son iterables. Prueba corriendo el siguiente código."
   ]
  },
  {
   "cell_type": "code",
   "execution_count": 0,
   "metadata": {
    "colab": {},
    "colab_type": "code",
    "id": "5x5nrfIdfJOs",
    "outputId": "d4b25dce-7756-4923-a4dd-394f9aea42ef"
   },
   "outputs": [
    {
     "ename": "TypeError",
     "evalue": "'int' object is not iterable",
     "output_type": "error",
     "traceback": [
      "\u001b[0;31m---------------------------------------------------------------------------\u001b[0m",
      "\u001b[0;31mTypeError\u001b[0m                                 Traceback (most recent call last)",
      "\u001b[0;32m<ipython-input-79-03089aa1f59e>\u001b[0m in \u001b[0;36m<module>\u001b[0;34m\u001b[0m\n\u001b[0;32m----> 1\u001b[0;31m \u001b[0;32mfor\u001b[0m \u001b[0melemento\u001b[0m \u001b[0;32min\u001b[0m \u001b[0;36m4\u001b[0m\u001b[0;34m:\u001b[0m\u001b[0;34m\u001b[0m\u001b[0;34m\u001b[0m\u001b[0m\n\u001b[0m\u001b[1;32m      2\u001b[0m       \u001b[0mprint\u001b[0m\u001b[0;34m(\u001b[0m\u001b[0melemento\u001b[0m\u001b[0;34m)\u001b[0m\u001b[0;34m\u001b[0m\u001b[0;34m\u001b[0m\u001b[0m\n",
      "\u001b[0;31mTypeError\u001b[0m: 'int' object is not iterable"
     ]
    }
   ],
   "source": [
    "for elemento in 4:\n",
    "      print(elemento)"
   ]
  },
  {
   "cell_type": "markdown",
   "metadata": {
    "colab_type": "text",
    "id": "W70GhX9XfJOu"
   },
   "source": [
    "La función range (`range(n)`) genera una secuencia con números desde `0` hasta `n-1`."
   ]
  },
  {
   "cell_type": "code",
   "execution_count": 0,
   "metadata": {
    "colab": {},
    "colab_type": "code",
    "id": "wOT2VZtJfJOv",
    "outputId": "aca55dd5-2414-4142-fd30-dec4ae56f6e9"
   },
   "outputs": [
    {
     "name": "stdout",
     "output_type": "stream",
     "text": [
      "0 es divisible por 2\n",
      "2 es divisible por 2\n",
      "4 es divisible por 2\n",
      "6 es divisible por 2\n",
      "8 es divisible por 2\n",
      "10 es divisible por 2\n"
     ]
    }
   ],
   "source": [
    "for j in range(11):\n",
    "    if j % 2 == 0:\n",
    "        print(f\"{j} es divisible por 2\")"
   ]
  },
  {
   "cell_type": "markdown",
   "metadata": {
    "colab_type": "text",
    "id": "2x9qTs74fJOx"
   },
   "source": [
    "## EJERCICIOS"
   ]
  },
  {
   "cell_type": "markdown",
   "metadata": {
    "colab_type": "text",
    "id": "KG9ZCYugfJOx"
   },
   "source": [
    "Vamos a poner en practica ahora todo lo que vimos:"
   ]
  },
  {
   "cell_type": "markdown",
   "metadata": {
    "colab_type": "text",
    "id": "-x2byZQ8fJOx"
   },
   "source": [
    "- Escribi una función que tome dos números enteros y calcule su división, devolviendo si la división es exacta o no."
   ]
  },
  {
   "cell_type": "code",
   "execution_count": 1,
   "metadata": {
    "colab": {},
    "colab_type": "code",
    "id": "7vslfcCNfJOy"
   },
   "outputs": [],
   "source": [
    "def division(a, b):\n",
    "    if a % b == 0:\n",
    "        print(\"Division exacta\")\n",
    "    else:\n",
    "        print(\"La division no es exacta\")"
   ]
  },
  {
   "cell_type": "code",
   "execution_count": 2,
   "metadata": {
    "colab": {},
    "colab_type": "code",
    "id": "8OqSS2zmfJOz",
    "outputId": "552fabc8-fa4a-41fa-9729-46d6e283f2e3"
   },
   "outputs": [
    {
     "name": "stdout",
     "output_type": "stream",
     "text": [
      "Division exacta\n"
     ]
    }
   ],
   "source": [
    "division(4, 2)"
   ]
  },
  {
   "cell_type": "code",
   "execution_count": 0,
   "metadata": {
    "colab": {},
    "colab_type": "code",
    "id": "7lgngWV4fJO1",
    "outputId": "a357ce8a-9f9a-4228-a348-7116759fb3be"
   },
   "outputs": [
    {
     "name": "stdout",
     "output_type": "stream",
     "text": [
      "La division no es exacta\n"
     ]
    }
   ],
   "source": [
    "division(7, 3)"
   ]
  },
  {
   "cell_type": "markdown",
   "metadata": {
    "colab_type": "text",
    "id": "-e0DATp4fJO3"
   },
   "source": [
    "- Escribi una función que tome un año y devuelva si es bisiesto o no."
   ]
  },
  {
   "cell_type": "code",
   "execution_count": 0,
   "metadata": {
    "colab": {},
    "colab_type": "code",
    "id": "xUetTz2jfJO3"
   },
   "outputs": [],
   "source": [
    "def bisiesto(a):\n",
    "    if a % 4 == 0:\n",
    "        return f\"{a} es bisiesto\"\n",
    "    return f\"{a} no es bisiesto\""
   ]
  },
  {
   "cell_type": "code",
   "execution_count": 0,
   "metadata": {
    "colab": {},
    "colab_type": "code",
    "id": "ONRDSQgVfJO4",
    "outputId": "cc2a3a7d-90b8-45f9-e413-d9e6db147f9c"
   },
   "outputs": [
    {
     "data": {
      "text/plain": [
       "'2012 es bisiesto'"
      ]
     },
     "execution_count": 85,
     "metadata": {
      "tags": []
     },
     "output_type": "execute_result"
    }
   ],
   "source": [
    "bisiesto(2012)"
   ]
  },
  {
   "cell_type": "code",
   "execution_count": 0,
   "metadata": {
    "colab": {},
    "colab_type": "code",
    "id": "ov_XeD1WfJO5",
    "outputId": "91b19dd2-885a-442d-cc08-35ff9e96d476"
   },
   "outputs": [
    {
     "data": {
      "text/plain": [
       "'2017 no es bisiesto'"
      ]
     },
     "execution_count": 86,
     "metadata": {
      "tags": []
     },
     "output_type": "execute_result"
    }
   ],
   "source": [
    "bisiesto(2017)"
   ]
  },
  {
   "cell_type": "markdown",
   "metadata": {
    "colab_type": "text",
    "id": "urIjk2uPfJO7"
   },
   "source": [
    "- Escribi una función que tome los coeficientes de una ecuación de primer grado (a x + b = 0) y devuelva la solución."
   ]
  },
  {
   "cell_type": "code",
   "execution_count": 0,
   "metadata": {
    "colab": {},
    "colab_type": "code",
    "id": "MIqaoDZqfJO7"
   },
   "outputs": [],
   "source": [
    "def solucion(a, b):\n",
    "    if b == 0:\n",
    "        return 0\n",
    "    return -b/a"
   ]
  },
  {
   "cell_type": "code",
   "execution_count": 0,
   "metadata": {
    "colab": {},
    "colab_type": "code",
    "id": "YljqjJuTfJO8",
    "outputId": "11588500-dac2-46e1-ea12-92f2c8b27932"
   },
   "outputs": [
    {
     "data": {
      "text/plain": [
       "-0.5"
      ]
     },
     "execution_count": 88,
     "metadata": {
      "tags": []
     },
     "output_type": "execute_result"
    }
   ],
   "source": [
    "solucion(2, 4)"
   ]
  },
  {
   "cell_type": "code",
   "execution_count": 0,
   "metadata": {
    "colab": {},
    "colab_type": "code",
    "id": "mIe9eoP5fJO_",
    "outputId": "1d118534-069f-4213-ef08-5f124ffa3e6e"
   },
   "outputs": [
    {
     "data": {
      "text/plain": [
       "-0.6"
      ]
     },
     "execution_count": 91,
     "metadata": {
      "tags": []
     },
     "output_type": "execute_result"
    }
   ],
   "source": [
    "solucion(3, 5)"
   ]
  },
  {
   "cell_type": "code",
   "execution_count": 0,
   "metadata": {
    "colab": {},
    "colab_type": "code",
    "id": "djuJakLUfJPB",
    "outputId": "434c4c88-4087-4325-ff52-c50ab950b4f7"
   },
   "outputs": [
    {
     "data": {
      "text/plain": [
       "0"
      ]
     },
     "execution_count": 95,
     "metadata": {
      "tags": []
     },
     "output_type": "execute_result"
    }
   ],
   "source": [
    "solucion(2, 0)"
   ]
  },
  {
   "cell_type": "markdown",
   "metadata": {
    "colab_type": "text",
    "id": "Xx7VliisfJPF"
   },
   "source": [
    "- Escribi una función que simule un juego en el que dos jugadores tiran un dado. El que saque el valor más alto, gana. Si la puntuación coincide, empatan."
   ]
  },
  {
   "cell_type": "code",
   "execution_count": 0,
   "metadata": {
    "colab": {},
    "colab_type": "code",
    "id": "LCrq4FUPfJPF"
   },
   "outputs": [],
   "source": [
    "def juego(jugador1, jugador2):\n",
    "    #supongo que el primer numero siempre es del jugador 1\n",
    "    #y el segundo del jugador2\n",
    "    if jugador1 > jugador2:\n",
    "        print(\"Jugador 1 gana\")\n",
    "    elif jugador1 < jugador2:\n",
    "        print(\"Jugador 2 gana\")\n",
    "    else:\n",
    "        print(\"Empate\")"
   ]
  },
  {
   "cell_type": "code",
   "execution_count": 0,
   "metadata": {
    "colab": {},
    "colab_type": "code",
    "id": "H89mIbuEfJPH",
    "outputId": "d6455cd5-4806-41eb-9da5-9ad1b53a878a"
   },
   "outputs": [
    {
     "name": "stdout",
     "output_type": "stream",
     "text": [
      "Jugador 2 gana\n"
     ]
    }
   ],
   "source": [
    "juego(343, 545)"
   ]
  },
  {
   "cell_type": "markdown",
   "metadata": {
    "colab_type": "text",
    "id": "7Q28d5YdfJPJ"
   },
   "source": [
    "- Escribi una función que tome dos números enteros y devuelva qué número es pares y cuál impar."
   ]
  },
  {
   "cell_type": "code",
   "execution_count": 0,
   "metadata": {
    "colab": {},
    "colab_type": "code",
    "id": "VhDwji65fJPJ"
   },
   "outputs": [],
   "source": [
    "def par_impar(a, b):\n",
    "    lista = [a, b]\n",
    "    for numero in lista:\n",
    "        if numero % 2 == 0:\n",
    "            print(f\"{numero} es par\")\n",
    "        else:\n",
    "            print(f\"{numero} es impar\")"
   ]
  },
  {
   "cell_type": "code",
   "execution_count": 0,
   "metadata": {
    "colab": {},
    "colab_type": "code",
    "id": "VRuaAWzsfJPK",
    "outputId": "255701b9-a54b-4bfc-a576-e1d8bd446d81"
   },
   "outputs": [
    {
     "name": "stdout",
     "output_type": "stream",
     "text": [
      "4 es par\n",
      "5 es impar\n"
     ]
    }
   ],
   "source": [
    "par_impar(4, 5)"
   ]
  },
  {
   "cell_type": "code",
   "execution_count": 0,
   "metadata": {
    "colab": {},
    "colab_type": "code",
    "id": "caJU7DCSfJPM",
    "outputId": "6dddc0c2-80ce-4b74-a93c-9e1b5620aa41"
   },
   "outputs": [
    {
     "name": "stdout",
     "output_type": "stream",
     "text": [
      "4 es par\n",
      "10 es par\n"
     ]
    }
   ],
   "source": [
    "par_impar(4, 10)"
   ]
  },
  {
   "cell_type": "markdown",
   "metadata": {
    "colab_type": "text",
    "id": "nuyiy5nKfJPN"
   },
   "source": [
    "- Escribi una función que tome una lista de números y calcule su suma."
   ]
  },
  {
   "cell_type": "code",
   "execution_count": 3,
   "metadata": {
    "colab": {},
    "colab_type": "code",
    "id": "JmMLvO3WfJPN"
   },
   "outputs": [],
   "source": [
    "def suma_numeros(lista):\n",
    "    suma = 0\n",
    "    for numero in lista:\n",
    "        suma += numero\n",
    "    return suma   "
   ]
  },
  {
   "cell_type": "code",
   "execution_count": 4,
   "metadata": {
    "colab": {},
    "colab_type": "code",
    "id": "05ANj-TsfJPP",
    "outputId": "de522a48-31ba-4ac9-a65b-f2de9ddafa50"
   },
   "outputs": [
    {
     "data": {
      "text/plain": [
       "34"
      ]
     },
     "execution_count": 4,
     "metadata": {},
     "output_type": "execute_result"
    }
   ],
   "source": [
    "suma_numeros([1, 4, 5, 7, 8, 9])"
   ]
  },
  {
   "cell_type": "markdown",
   "metadata": {
    "colab_type": "text",
    "id": "xOFXV3tnfJPR"
   },
   "source": [
    "- Escribi una función que tome dos palabras y diga si riman o no. Si coinciden las tres últimas letras debe devolver que riman. Si coinciden sólo las dos últimas tiene que decir que riman algo y si no, que no riman."
   ]
  },
  {
   "cell_type": "code",
   "execution_count": 0,
   "metadata": {
    "colab": {},
    "colab_type": "code",
    "id": "hPKmJVrAfJPR"
   },
   "outputs": [],
   "source": [
    "def riman(palabra1, palabra2):\n",
    "    if palabra1[-3:] == palabra2[-3:]:\n",
    "        print(\"Las palabras {} y {} riman\".format(palabra1, palabra2))\n",
    "    elif palabra1[-2:] == palabra2[-2:]:\n",
    "        print(\"Las palabras {} y {} riman algo\".format(palabra1, palabra2))\n",
    "    else:\n",
    "        print(\"Las palabras {} y {} no riman\".format(palabra1, palabra2))"
   ]
  },
  {
   "cell_type": "code",
   "execution_count": 0,
   "metadata": {
    "colab": {},
    "colab_type": "code",
    "id": "8UZO4wYZfJPT",
    "outputId": "354a1841-6734-4a27-9cf7-43791b765ba3"
   },
   "outputs": [
    {
     "name": "stdout",
     "output_type": "stream",
     "text": [
      "Las palabras hola y cacerola riman\n"
     ]
    }
   ],
   "source": [
    "riman('hola', 'cacerola')"
   ]
  },
  {
   "cell_type": "code",
   "execution_count": 0,
   "metadata": {
    "colab": {},
    "colab_type": "code",
    "id": "FwYgQ00nfJPU",
    "outputId": "6b9c9f30-c7be-4ec0-c881-7afdf6967245"
   },
   "outputs": [
    {
     "name": "stdout",
     "output_type": "stream",
     "text": [
      "Las palabras jirafa y roja no riman\n"
     ]
    }
   ],
   "source": [
    "riman('jirafa', 'roja')"
   ]
  },
  {
   "cell_type": "code",
   "execution_count": 0,
   "metadata": {
    "colab": {},
    "colab_type": "code",
    "id": "rtz4a7zefJPX",
    "outputId": "582eb3d9-34a3-4a17-da6c-41f6efa147f5"
   },
   "outputs": [
    {
     "name": "stdout",
     "output_type": "stream",
     "text": [
      "Las palabras computadora y cabecera riman algo\n"
     ]
    }
   ],
   "source": [
    "riman('computadora', 'cabecera')"
   ]
  },
  {
   "cell_type": "markdown",
   "metadata": {
    "colab_type": "text",
    "id": "0yxZUZHmfJPZ"
   },
   "source": [
    "- Escribi una función para convertir temperatura de grados celsius a fahrenheit (Formula : F = C * 9/5 + 32) "
   ]
  },
  {
   "cell_type": "code",
   "execution_count": 0,
   "metadata": {
    "colab": {},
    "colab_type": "code",
    "id": "1d8jR5L9fJPZ"
   },
   "outputs": [],
   "source": [
    "def convert_grados(grados):\n",
    "    return grados * 9/5 + 32"
   ]
  },
  {
   "cell_type": "code",
   "execution_count": 0,
   "metadata": {
    "colab": {},
    "colab_type": "code",
    "id": "velR3kdDfJPa",
    "outputId": "8d6c3faa-7e54-4693-df83-d6c1c0b2fbda"
   },
   "outputs": [
    {
     "data": {
      "text/plain": [
       "75.2"
      ]
     },
     "execution_count": 114,
     "metadata": {
      "tags": []
     },
     "output_type": "execute_result"
    }
   ],
   "source": [
    "convert_grados(24)"
   ]
  },
  {
   "cell_type": "markdown",
   "metadata": {
    "colab_type": "text",
    "id": "OXCTEla-fJPb"
   },
   "source": [
    "- Escribi una función que devuelva la serie de Fibonacci entre 0 y 50."
   ]
  },
  {
   "cell_type": "code",
   "execution_count": 0,
   "metadata": {
    "colab": {},
    "colab_type": "code",
    "id": "lJTvAwsFfJPb"
   },
   "outputs": [],
   "source": [
    "def fibo():\n",
    "    x = 0\n",
    "    y = 1\n",
    "\n",
    "    while y<50:\n",
    "        print(y)\n",
    "        x, y = y, x+y"
   ]
  },
  {
   "cell_type": "code",
   "execution_count": 0,
   "metadata": {
    "colab": {},
    "colab_type": "code",
    "id": "R8X2RFUefJPd",
    "outputId": "a710dadb-6771-4ea4-c16f-cce9067c1528"
   },
   "outputs": [
    {
     "name": "stdout",
     "output_type": "stream",
     "text": [
      "1\n",
      "1\n",
      "2\n",
      "3\n",
      "5\n",
      "8\n",
      "13\n",
      "21\n",
      "34\n"
     ]
    }
   ],
   "source": [
    "fibo()"
   ]
  },
  {
   "cell_type": "markdown",
   "metadata": {
    "colab_type": "text",
    "id": "oLq0uXoIfJPe"
   },
   "source": [
    "**Para seguir practicando chequea este sitio web con [ejercicios](https://projecteuler.net/archives).**"
   ]
  }
 ],
 "metadata": {
  "colab": {
   "name": "Clase1 Introduccion a Python-Solucion.ipynb",
   "provenance": [],
   "version": "0.3.2"
  },
  "kernelspec": {
   "display_name": "Python 3",
   "language": "python",
   "name": "python3"
  },
  "language_info": {
   "codemirror_mode": {
    "name": "ipython",
    "version": 3
   },
   "file_extension": ".py",
   "mimetype": "text/x-python",
   "name": "python",
   "nbconvert_exporter": "python",
   "pygments_lexer": "ipython3",
   "version": "3.7.3"
  }
 },
 "nbformat": 4,
 "nbformat_minor": 1
}
