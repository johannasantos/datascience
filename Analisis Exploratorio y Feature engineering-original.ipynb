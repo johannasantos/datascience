{
 "cells": [
  {
   "cell_type": "markdown",
   "metadata": {},
   "source": [
    "# Programa Mujeres en Data Science\n",
    "\n",
    "Llego la hora de poner de comenzar a explorar el dataset para el proyecto de este curso. El objetivo de esta clase es que comiencen a explorar el dataset. La exploración del dataset permitira que puedan hacerse preguntas que puedan ser contestadas con el mismo."
   ]
  },
  {
   "cell_type": "markdown",
   "metadata": {},
   "source": [
    "## Clase 3: Comenzando el proyecto"
   ]
  },
  {
   "cell_type": "markdown",
   "metadata": {},
   "source": [
    "**Aclaración importante**: Si bien el objetivo de esta notebook es que hagan un analisis exploratorio pensando en ajustar un modelo de machine learning, también es necesario que encaren el analisis exploratorio para observar que información valiosa podría valer la pena mostrar en una página web que les sirva a los usuarios para comprender los datos."
   ]
  },
  {
   "cell_type": "markdown",
   "metadata": {},
   "source": [
    "Ejemplos: \n",
    "\n",
    "(a) Gráfico mostrando el monto total destinado a cada tipo de obra para cada año reportado.   \n",
    "(b) Total de dinero invertido para cada tipo de obra para distintas comunas seleccionadas.  \n"
   ]
  },
  {
   "cell_type": "markdown",
   "metadata": {},
   "source": [
    "Tener esto en mente les ayudará también a decidir que variables nuevas pueden obtener de las que ya estan para facilitar la visualización posteriormente."
   ]
  },
  {
   "cell_type": "markdown",
   "metadata": {},
   "source": [
    "### ANALISIS EXPLORATORIO"
   ]
  },
  {
   "cell_type": "markdown",
   "metadata": {},
   "source": [
    "Como dijimos en clases anteriores y repasamos en la clase de hoy, una de las primeras cosas que debe realizar un Data Scientist al iniciar un nuevo proyecto es conocer el dataset con el cual va a trabajar. Este paso se conoce como _\"Analisis exploratorio de los datos\"_. "
   ]
  },
  {
   "cell_type": "markdown",
   "metadata": {},
   "source": [
    "Además de obtener que tipo de datos contiene el dataset, estadistica descriptiva, detectar problemas como valores faltantes, establecer que tipo de relación existe entre las distintas variables, también debemos visualizar los datos. Este análisis nos permitira hacernos preguntas que puedan ser contestadas con el dataset como así plantear estrategias para poder resolver problemas presentes en él."
   ]
  },
  {
   "cell_type": "markdown",
   "metadata": {},
   "source": [
    "Este notebook solo les indicara algunos pasos que deben seguir pero la idea es que cada grupo pueda explorar y visualizar libremente el dataset."
   ]
  },
  {
   "cell_type": "markdown",
   "metadata": {},
   "source": [
    "### 1) Exploración del dataset"
   ]
  },
  {
   "cell_type": "code",
   "execution_count": null,
   "metadata": {},
   "outputs": [],
   "source": [
    "# Visualización del tipo de obra por comuna (enfocando a educación y salud)"
   ]
  },
  {
   "cell_type": "code",
   "execution_count": 1,
   "metadata": {},
   "outputs": [],
   "source": [
    "import pandas as pd "
   ]
  },
  {
   "cell_type": "code",
   "execution_count": 2,
   "metadata": {},
   "outputs": [],
   "source": [
    "obras = pd.read_csv('observatorio-de-obras-urbanas.csv', delimiter=',', parse_dates=['fecha_fin_inicial', 'fecha_inicio'])"
   ]
  },
  {
   "cell_type": "code",
   "execution_count": 5,
   "metadata": {},
   "outputs": [
    {
     "data": {
      "text/plain": [
       "id                              0\n",
       "entorno                         2\n",
       "nombre                          0\n",
       "etapa                           0\n",
       "tipo                            0\n",
       "area_responsable                0\n",
       "descripcion                     5\n",
       "monto_contrato                103\n",
       "comuna                          2\n",
       "barrio                          4\n",
       "direccion                      64\n",
       "lat                             2\n",
       "lng                             2\n",
       "fecha_inicio                   42\n",
       "fecha_fin_inicial              22\n",
       "plazo_meses                    93\n",
       "porcentaje_avance               2\n",
       "imagen_1                       36\n",
       "imagen_2                      431\n",
       "imagen_3                      621\n",
       "imagen_4                      757\n",
       "licitacion_oferta_empresa     130\n",
       "licitacion_anio               334\n",
       "contratacion_tipo             791\n",
       "nro_contratacion              793\n",
       "cuit_contratista              237\n",
       "beneficiarios                 802\n",
       "mano_obra                     740\n",
       "compromiso                    673\n",
       "destacada                     958\n",
       "ba_elige                      986\n",
       "link_interno                   16\n",
       "pliego_descarga               447\n",
       "expediente-numero             869\n",
       "estudio_ambiental_descarga    943\n",
       "financiamiento                985\n",
       "dtype: int64"
      ]
     },
     "execution_count": 5,
     "metadata": {},
     "output_type": "execute_result"
    }
   ],
   "source": [
    "obras.isnull().sum()"
   ]
  },
  {
   "cell_type": "code",
   "execution_count": 24,
   "metadata": {},
   "outputs": [
    {
     "data": {
      "text/html": [
       "<div>\n",
       "<style scoped>\n",
       "    .dataframe tbody tr th:only-of-type {\n",
       "        vertical-align: middle;\n",
       "    }\n",
       "\n",
       "    .dataframe tbody tr th {\n",
       "        vertical-align: top;\n",
       "    }\n",
       "\n",
       "    .dataframe thead th {\n",
       "        text-align: right;\n",
       "    }\n",
       "</style>\n",
       "<table border=\"1\" class=\"dataframe\">\n",
       "  <thead>\n",
       "    <tr style=\"text-align: right;\">\n",
       "      <th></th>\n",
       "      <th>lng</th>\n",
       "      <th>lat</th>\n",
       "    </tr>\n",
       "  </thead>\n",
       "  <tbody>\n",
       "    <tr>\n",
       "      <th>940</th>\n",
       "      <td>NaN</td>\n",
       "      <td>NaN</td>\n",
       "    </tr>\n",
       "    <tr>\n",
       "      <th>957</th>\n",
       "      <td>-58.370227</td>\n",
       "      <td>-34.602976</td>\n",
       "    </tr>\n",
       "  </tbody>\n",
       "</table>\n",
       "</div>"
      ],
      "text/plain": [
       "           lng        lat\n",
       "940        NaN        NaN\n",
       "957 -58.370227 -34.602976"
      ]
     },
     "execution_count": 24,
     "metadata": {},
     "output_type": "execute_result"
    }
   ],
   "source": [
    "obras[obras['comuna'].isnull()][['lng', 'lat']]"
   ]
  },
  {
   "cell_type": "code",
   "execution_count": 25,
   "metadata": {},
   "outputs": [],
   "source": [
    "obras.loc[obras['id'] == 25303, 'comuna'] = 7"
   ]
  },
  {
   "cell_type": "code",
   "execution_count": 26,
   "metadata": {},
   "outputs": [],
   "source": [
    "obras.loc[obras['id'] == 25320, 'comuna'] = 1"
   ]
  },
  {
   "cell_type": "code",
   "execution_count": 29,
   "metadata": {},
   "outputs": [],
   "source": [
    "obras_finalizadas = obras[obras['etapa'] == 'Finalizada']\n"
   ]
  },
  {
   "cell_type": "code",
   "execution_count": 43,
   "metadata": {},
   "outputs": [
    {
     "name": "stderr",
     "output_type": "stream",
     "text": [
      "/anaconda3/lib/python3.7/site-packages/ipykernel_launcher.py:1: SettingWithCopyWarning: \n",
      "A value is trying to be set on a copy of a slice from a DataFrame\n",
      "\n",
      "See the caveats in the documentation: http://pandas.pydata.org/pandas-docs/stable/indexing.html#indexing-view-versus-copy\n",
      "  \"\"\"Entry point for launching an IPython kernel.\n"
     ]
    }
   ],
   "source": [
    "obras_finalizadas.dropna(subset=['fecha_fin_inicial'], how='all', inplace=True)"
   ]
  },
  {
   "cell_type": "code",
   "execution_count": 48,
   "metadata": {},
   "outputs": [],
   "source": [
    "caminos_villa = [ 4, 7, 8]\n"
   ]
  },
  {
   "cell_type": "code",
   "execution_count": 49,
   "metadata": {},
   "outputs": [],
   "source": [
    "obras_con_fecha = obras_finalizadas[pd.notnull(obras_finalizadas['fecha_fin_inicial'])]\n"
   ]
  },
  {
   "cell_type": "code",
   "execution_count": 50,
   "metadata": {},
   "outputs": [
    {
     "name": "stdout",
     "output_type": "stream",
     "text": [
      "868\n"
     ]
    }
   ],
   "source": [
    "print(len(obras_finalizadas))"
   ]
  },
  {
   "cell_type": "code",
   "execution_count": 51,
   "metadata": {},
   "outputs": [
    {
     "name": "stderr",
     "output_type": "stream",
     "text": [
      "/anaconda3/lib/python3.7/site-packages/ipykernel_launcher.py:1: SettingWithCopyWarning: \n",
      "A value is trying to be set on a copy of a slice from a DataFrame.\n",
      "Try using .loc[row_indexer,col_indexer] = value instead\n",
      "\n",
      "See the caveats in the documentation: http://pandas.pydata.org/pandas-docs/stable/indexing.html#indexing-view-versus-copy\n",
      "  \"\"\"Entry point for launching an IPython kernel.\n"
     ]
    }
   ],
   "source": [
    "obras_finalizadas['año'] =pd.DatetimeIndex(obras_con_fecha.fecha_fin_inicial).year"
   ]
  },
  {
   "cell_type": "code",
   "execution_count": 52,
   "metadata": {},
   "outputs": [],
   "source": [
    "obras_con_fecha['en_villa'] = obras_con_fecha['comuna'].isin(caminos_villa)\n"
   ]
  },
  {
   "cell_type": "markdown",
   "metadata": {},
   "source": [
    "### 2) Visualización de los datos"
   ]
  },
  {
   "cell_type": "code",
   "execution_count": null,
   "metadata": {},
   "outputs": [],
   "source": []
  },
  {
   "cell_type": "markdown",
   "metadata": {},
   "source": [
    "Para poder visualizar los datos y la relación entre las distintas variables, podemos usar dos librerias: `matplotlib` y `seaborn`. "
   ]
  },
  {
   "cell_type": "markdown",
   "metadata": {},
   "source": [
    "Documentación:\n",
    "- [matplotlib](https://matplotlib.org/3.1.1/contents.html)\n",
    "- [seaborn](https://seaborn.pydata.org/)"
   ]
  },
  {
   "cell_type": "markdown",
   "metadata": {},
   "source": [
    "- Importa la libreria `matplotlib.pyplot` como `plt`\n",
    "- Importa la libreria seaborn como `sns`"
   ]
  },
  {
   "cell_type": "code",
   "execution_count": null,
   "metadata": {},
   "outputs": [],
   "source": [
    "#Importa las librerias matplotlib y seaborn\n"
   ]
  },
  {
   "cell_type": "markdown",
   "metadata": {},
   "source": [
    "Abajo se da algunos ejemplos de distintos graficos que se pueden obtener con estas librerias."
   ]
  },
  {
   "cell_type": "code",
   "execution_count": null,
   "metadata": {},
   "outputs": [],
   "source": [
    "from sklearn import datasets"
   ]
  },
  {
   "cell_type": "code",
   "execution_count": null,
   "metadata": {},
   "outputs": [],
   "source": [
    "#Obtenemos un dataset de casas en Boston\n",
    "boston = datasets.load_boston()\n",
    "columns = boston.feature_names\n",
    "boston = pd.DataFrame(boston.data)\n",
    "boston.columns = columns"
   ]
  },
  {
   "cell_type": "markdown",
   "metadata": {},
   "source": [
    "#### Histogramas:"
   ]
  },
  {
   "cell_type": "code",
   "execution_count": null,
   "metadata": {},
   "outputs": [],
   "source": [
    "plt.figure()\n",
    "plt.hist(boston[\"AGE\"], color=\"#cf7c17\", alpha=0.5)\n",
    "plt.show()"
   ]
  },
  {
   "cell_type": "markdown",
   "metadata": {},
   "source": [
    "#### Distplot:"
   ]
  },
  {
   "cell_type": "code",
   "execution_count": null,
   "metadata": {},
   "outputs": [],
   "source": [
    "plt.figure()\n",
    "sns.distplot(boston[\"AGE\"], color=\"#5ea88e\")\n",
    "plt.show()"
   ]
  },
  {
   "cell_type": "markdown",
   "metadata": {},
   "source": [
    "#### Boxplot:"
   ]
  },
  {
   "cell_type": "code",
   "execution_count": null,
   "metadata": {},
   "outputs": [],
   "source": [
    "plt.figure()\n",
    "sns.boxplot(x=\"AGE\", data=boston, color=\"#5ea88e\")\n",
    "plt.show()"
   ]
  },
  {
   "cell_type": "markdown",
   "metadata": {},
   "source": [
    "#### Scaterplot:"
   ]
  },
  {
   "cell_type": "code",
   "execution_count": null,
   "metadata": {},
   "outputs": [],
   "source": [
    "plt.figure()\n",
    "sns.scatterplot(x=\"LSTAT\", y=\"PTRATIO\",data=boston, color=\"#5ea88f\")\n",
    "plt.show()"
   ]
  },
  {
   "cell_type": "markdown",
   "metadata": {},
   "source": [
    "#### Countplot "
   ]
  },
  {
   "cell_type": "markdown",
   "metadata": {},
   "source": [
    "Observa como se pueden ajustar la estetica del grafico (Vale para cualquier grafico)."
   ]
  },
  {
   "cell_type": "code",
   "execution_count": null,
   "metadata": {},
   "outputs": [],
   "source": [
    "plt.figure(figsize=(5,3))\n",
    "\n",
    "\n",
    "sns.countplot(x=\"RAD\", data=boston, palette=\"Set3\")\n",
    "\n",
    "\n",
    "plt.ylabel(\"Cantidad\", size=14)\n",
    "plt.xlabel(\"EDAD\", size=14)\n",
    "plt.title(\"Distribucion de la variable edad\", size=16, pad=25)\n",
    "plt.gca().spines[\"top\"].set_visible(False)\n",
    "plt.gca().spines[\"right\"].set_visible(False)\n",
    "plt.grid(False)\n",
    "plt.show()\n",
    "plt.show()"
   ]
  },
  {
   "cell_type": "markdown",
   "metadata": {},
   "source": [
    "**Otros ejemplos de gráficos**: [Ejemplos en Matplotlib](https://matplotlib.org/3.1.0/gallery/index.html) y [Ejemplos en Seaborn](https://seaborn.pydata.org/examples/index.html)"
   ]
  },
  {
   "cell_type": "code",
   "execution_count": null,
   "metadata": {},
   "outputs": [],
   "source": []
  },
  {
   "cell_type": "code",
   "execution_count": null,
   "metadata": {},
   "outputs": [],
   "source": []
  },
  {
   "cell_type": "code",
   "execution_count": null,
   "metadata": {},
   "outputs": [],
   "source": []
  },
  {
   "cell_type": "markdown",
   "metadata": {},
   "source": [
    "### FEATURE ENGINEEING"
   ]
  },
  {
   "cell_type": "markdown",
   "metadata": {},
   "source": [
    "Una vez que visualizamos y exploramos el dataset tenemos una idea de como lucen nuestros datos. Es por eso que ahora debemos empezar a preparar nuestros datos para los siguientes pasos según lo que aprendimos de ellos y las preguntas que nos planteamos."
   ]
  },
  {
   "cell_type": "markdown",
   "metadata": {},
   "source": [
    "#### IMPUTACION DE VALORES FALTANTES"
   ]
  },
  {
   "cell_type": "markdown",
   "metadata": {},
   "source": [
    "**_¿Algunas de las variables del dataset presenta valores faltantes?_**"
   ]
  },
  {
   "cell_type": "markdown",
   "metadata": {},
   "source": [
    "Si es así debemos tomar una decisión acerca de que hacer con ellos. Como manejar estos datos faltantes es un gran desafio.  La mayoría de las veces no queremos eliminar esos valores porque significaría perder información valiosa en otros features."
   ]
  },
  {
   "cell_type": "markdown",
   "metadata": {},
   "source": [
    "**¿Que debo preguntarme al manejar datos faltantes?**\n",
    "\n",
    "- ¿Quiero conservar la información?\n",
    "- ¿Qué tipo de datos tengo en la columna que voy a imputar?\n",
    "- ¿Por qué puede ser que tengo los valores faltantes?:\n",
    "    - Valores faltantes al azar\n",
    "    - Valores faltantes no al azar\n",
    "- Si es una variable numerica continua, ¿Que distribución tiene?"
   ]
  },
  {
   "cell_type": "markdown",
   "metadata": {},
   "source": [
    "**¿Como decido que hago con los valores faltantes?**\n",
    "\n",
    "- Entender que no hay una manera _perfecta_ de manejar los valores faltantes.\n",
    "\n",
    "- Depende de mis datos\n",
    "\n",
    "- Observar no solo la cantidad de datos faltantes sino también su patrón.\n",
    "\n",
    "- Estrategias:  \n",
    "     - **Eliminar los valores**:\n",
    "        - Si la recogida de datos no se ha realizado de forma aleatoria introduce sesgo.  \n",
    "        - En el caso de que haya mucho patrones con datos faltantes, podría reducir considerablemente la cantidad de filas disponibles. \n",
    "     - **Eliminación de la variable (columna)**:\n",
    "         - Las variables “descartadas” podrían contener información de vital importancia.      \n",
    "     - **Imputar los valores**:\n",
    "        - Sustituir por media o mediana: Solo en variables numericas  \n",
    "        - Sustituir por valor mas frecuente: Util para variables categoricas\n",
    "        - Algoritmo de ML: K-NN (k-nearest neighboors)"
   ]
  },
  {
   "cell_type": "markdown",
   "metadata": {},
   "source": [
    "A) Si optan por imputar los datos, pueden hacerlo usando la siguiente función:\n",
    "    \n",
    "`sklearn.impute.SimpleImputer(missing_values=nan, strategy=’mean’, fill_value=None, copy=True, add_indicator=False)`\n",
    "    \n",
    "- **missing_values**: Indica como son representados los valores faltantes (np.nan es el estandard)\n",
    "- **strategy**: `mean`, `median`, `most_frequent`, `constant`.\n",
    "- **fill_value**: Si uso `constant`, puedo usar `fill_value` para indicar por cuál valor debe ser reemplazado\n",
    "- **copy**: Si pongo True, crea una copia de X\n",
    "- **add_indicator**: Agrega un indicador para los valores faltantes.\n",
    "\n",
    "\n",
    "[documentación](https://scikit-learn.org/stable/modules/generated/sklearn.impute.SimpleImputer.html#sklearn.impute.SimpleImputer)"
   ]
  },
  {
   "cell_type": "markdown",
   "metadata": {},
   "source": [
    "B) Si optan por eliminar los datos, pueden hacerlo usando la siguiente función:\n",
    "    \n",
    "`.dropna(self, axis=0, how='any', thresh=None, subset=None, inplace=False)`\n",
    "\n",
    "- **axis**: {0, 1}, default 0. 0: Filas, 1: Columnas\n",
    "- **how**: {'any', 'all'}, default 'any'. Any: Si hay un valor faltante elimina la columna o fila. All: Si todos los valores de la fila o columna son faltantes, elimina la fila o columna.\n",
    "- **subset**: Nombre de filas o columnas donde buscar valores faltantes\n",
    "- **inplace**: True modifica el DataFrame original\n",
    "\n",
    "[documentación](https://pandas.pydata.org/pandas-docs/stable/reference/api/pandas.DataFrame.dropna.html)"
   ]
  },
  {
   "cell_type": "code",
   "execution_count": null,
   "metadata": {},
   "outputs": [],
   "source": []
  },
  {
   "cell_type": "code",
   "execution_count": null,
   "metadata": {},
   "outputs": [],
   "source": []
  },
  {
   "cell_type": "markdown",
   "metadata": {},
   "source": [
    "#### DETECCION DE OUTLIERS"
   ]
  },
  {
   "cell_type": "markdown",
   "metadata": {},
   "source": [
    "- Manera de detectar outliers:\n",
    "    - z-score\n",
    "        - Considera que todo valor que se aleje mucho de la media=0 es un outlier.\n",
    "        - Depende de la media y el desvio estandard para medir la centralidad y dispersión, los cuales son muy afectados por outliers. Si las variables no tiene una distribución normal, termino removiendo muchos outliers del dataset.\n",
    "        - No funciona bien en dataset muy pequeños.\n",
    "    - Rango Intercuartil: \n",
    "        - Es robusto y no es tan sensible a outliers."
   ]
  },
  {
   "cell_type": "code",
   "execution_count": null,
   "metadata": {},
   "outputs": [],
   "source": []
  },
  {
   "cell_type": "code",
   "execution_count": null,
   "metadata": {},
   "outputs": [],
   "source": []
  },
  {
   "cell_type": "code",
   "execution_count": null,
   "metadata": {},
   "outputs": [],
   "source": []
  },
  {
   "cell_type": "code",
   "execution_count": null,
   "metadata": {},
   "outputs": [],
   "source": []
  },
  {
   "cell_type": "markdown",
   "metadata": {},
   "source": [
    "#### DESCUBRIENDO NUEVAS VARIABLES"
   ]
  },
  {
   "cell_type": "markdown",
   "metadata": {},
   "source": [
    "- Combinar variables ya presentes que puedan capturar efectos dependientes entre ambos y afectar el resultado:\n",
    "    * Sumando o restando variables\n",
    "    * Multiplicando o dividiendo variables"
   ]
  },
  {
   "cell_type": "code",
   "execution_count": null,
   "metadata": {},
   "outputs": [],
   "source": []
  },
  {
   "cell_type": "code",
   "execution_count": null,
   "metadata": {},
   "outputs": [],
   "source": []
  },
  {
   "cell_type": "code",
   "execution_count": null,
   "metadata": {},
   "outputs": [],
   "source": []
  },
  {
   "cell_type": "code",
   "execution_count": null,
   "metadata": {},
   "outputs": [],
   "source": []
  },
  {
   "cell_type": "markdown",
   "metadata": {},
   "source": [
    "## HORA DE TOMAR DECISIONES"
   ]
  },
  {
   "cell_type": "markdown",
   "metadata": {},
   "source": [
    "Ahora que ya exploraste, procesaste y descubriste relaciones entre las variables creando nuevos atributos, es hora de tomar decisiones. En este proyecto el proximo paso es ajustar un modelo de machine learning. Si bien podemos decidir luego que queremos visualizar algunos de los resultados obtenidos allí, el ajuste del modelo esta pensado para ser independiente de las visualizaciones que aprenderas a hacer en las proximas cuatro clases del curso utilizando `javascript`."
   ]
  },
  {
   "cell_type": "markdown",
   "metadata": {},
   "source": [
    "Es por eso, que deben decidir que visualizaciones les gustaría mostrar para que cuando trabajen en las clases de javascript lo hagan en post de un objetivo claro."
   ]
  },
  {
   "cell_type": "markdown",
   "metadata": {},
   "source": [
    "Anota acá que relaciones o datos les gustaría mostrar:"
   ]
  },
  {
   "cell_type": "markdown",
   "metadata": {},
   "source": []
  },
  {
   "cell_type": "markdown",
   "metadata": {},
   "source": []
  },
  {
   "cell_type": "markdown",
   "metadata": {},
   "source": []
  },
  {
   "cell_type": "markdown",
   "metadata": {},
   "source": []
  },
  {
   "cell_type": "markdown",
   "metadata": {},
   "source": [
    "### GUARDANDO EL ARCHIVO PARA LOS SIGUIENTES PASOS Y PARA LA VISUALIZACION FINAL"
   ]
  },
  {
   "cell_type": "markdown",
   "metadata": {},
   "source": [
    "Los siguientes pasos que vamos a tomar implican la transformación de los datos presentes en el dataset para un correcto ajuste de un modelo a elección. Para no tener que correr nuevamente todo el código, podemos guardar en un archivo `csv` el dataset tal cual lo tenemos ahora.\n",
    "\n",
    "1) **Utiliza la función `.to_csv()` para guardar tu dataset**. Antes de hacerlo chequea la [documentación](https://pandas.pydata.org/pandas-docs/stable/reference/api/pandas.DataFrame.to_csv.html)."
   ]
  },
  {
   "cell_type": "code",
   "execution_count": null,
   "metadata": {},
   "outputs": [],
   "source": []
  },
  {
   "cell_type": "code",
   "execution_count": null,
   "metadata": {},
   "outputs": [],
   "source": []
  },
  {
   "cell_type": "markdown",
   "metadata": {},
   "source": [
    "2) Además, como dijimos anteriormente vamos a visualizar los datos usando javascript en las próximas clases. Para facilitar esta tarea necesitamos generar un archivo `JSON` como output. Afortunadamente, pandas tiene la función **`.to_json()`** que podes chequear la documentación [acá](https://pandas.pydata.org/pandas-docs/stable/reference/api/pandas.DataFrame.to_json.html?highlight=to_json#pandas.DataFrame.to_json). \n",
    "\n",
    "Porque es muy importante el formato con el cual guarden esta info les vamos a dar los argumentos que deben usar."
   ]
  },
  {
   "cell_type": "markdown",
   "metadata": {},
   "source": [
    "- **nombre_del_archivo**: a elección  \n",
    "- **orient**='records'  \n",
    "- **force_ascii**=False  "
   ]
  },
  {
   "cell_type": "code",
   "execution_count": null,
   "metadata": {},
   "outputs": [],
   "source": []
  }
 ],
 "metadata": {
  "kernelspec": {
   "display_name": "Python 3",
   "language": "python",
   "name": "python3"
  },
  "language_info": {
   "codemirror_mode": {
    "name": "ipython",
    "version": 3
   },
   "file_extension": ".py",
   "mimetype": "text/x-python",
   "name": "python",
   "nbconvert_exporter": "python",
   "pygments_lexer": "ipython3",
   "version": "3.7.3"
  }
 },
 "nbformat": 4,
 "nbformat_minor": 2
}
