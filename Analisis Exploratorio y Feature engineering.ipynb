{
 "cells": [
  {
   "cell_type": "markdown",
   "metadata": {},
   "source": [
    "# Programa Mujeres en Data Science\n",
    "\n",
    "Llego la hora de poner de comenzar a explorar el dataset para el proyecto de este curso. El objetivo de esta clase es que comiencen a explorar el dataset. La exploración del dataset permitira que puedan hacerse preguntas que puedan ser contestadas con el mismo."
   ]
  },
  {
   "cell_type": "markdown",
   "metadata": {},
   "source": [
    "## Clase 3: Comenzando el proyecto"
   ]
  },
  {
   "cell_type": "markdown",
   "metadata": {},
   "source": [
    "**Aclaración importante**: Si bien el objetivo de esta notebook es que hagan un analisis exploratorio pensando en ajustar un modelo de machine learning, también es necesario que encaren el analisis exploratorio para observar que información valiosa podría valer la pena mostrar en una página web que les sirva a los usuarios para comprender los datos."
   ]
  },
  {
   "cell_type": "markdown",
   "metadata": {},
   "source": [
    "Ejemplos: \n",
    "\n",
    "(a) Gráfico mostrando el monto total destinado a cada tipo de obra para cada año reportado.   \n",
    "(b) Total de dinero invertido para cada tipo de obra para distintas comunas seleccionadas.  \n"
   ]
  },
  {
   "cell_type": "markdown",
   "metadata": {},
   "source": [
    "Tener esto en mente les ayudará también a decidir que variables nuevas pueden obtener de las que ya estan para facilitar la visualización posteriormente."
   ]
  },
  {
   "cell_type": "markdown",
   "metadata": {},
   "source": [
    "### ANALISIS EXPLORATORIO"
   ]
  },
  {
   "cell_type": "markdown",
   "metadata": {},
   "source": [
    "Como dijimos en clases anteriores y repasamos en la clase de hoy, una de las primeras cosas que debe realizar un Data Scientist al iniciar un nuevo proyecto es conocer el dataset con el cual va a trabajar. Este paso se conoce como _\"Analisis exploratorio de los datos\"_. "
   ]
  },
  {
   "cell_type": "markdown",
   "metadata": {},
   "source": [
    "Además de obtener que tipo de datos contiene el dataset, estadistica descriptiva, detectar problemas como valores faltantes, establecer que tipo de relación existe entre las distintas variables, también debemos visualizar los datos. Este análisis nos permitira hacernos preguntas que puedan ser contestadas con el dataset como así plantear estrategias para poder resolver problemas presentes en él."
   ]
  },
  {
   "cell_type": "markdown",
   "metadata": {},
   "source": [
    "Este notebook solo les indicara algunos pasos que deben seguir pero la idea es que cada grupo pueda explorar y visualizar libremente el dataset."
   ]
  },
  {
   "cell_type": "markdown",
   "metadata": {},
   "source": [
    "### 1) Exploración del dataset"
   ]
  },
  {
   "cell_type": "code",
   "execution_count": 1,
   "metadata": {},
   "outputs": [],
   "source": [
    "# Visualización del tipo de obra por comuna (enfocando a educación y salud)"
   ]
  },
  {
   "cell_type": "code",
   "execution_count": 2,
   "metadata": {},
   "outputs": [],
   "source": [
    "import pandas as pd"
   ]
  },
  {
   "cell_type": "code",
   "execution_count": 3,
   "metadata": {},
   "outputs": [],
   "source": [
    "obras = pd.read_csv('observatorio-de-obras-urbanas.csv', delimiter=',', parse_dates=['fecha_fin_inicial', 'fecha_inicio'])"
   ]
  },
  {
   "cell_type": "code",
   "execution_count": 4,
   "metadata": {},
   "outputs": [
    {
     "data": {
      "text/html": [
       "<div>\n",
       "<style scoped>\n",
       "    .dataframe tbody tr th:only-of-type {\n",
       "        vertical-align: middle;\n",
       "    }\n",
       "\n",
       "    .dataframe tbody tr th {\n",
       "        vertical-align: top;\n",
       "    }\n",
       "\n",
       "    .dataframe thead th {\n",
       "        text-align: right;\n",
       "    }\n",
       "</style>\n",
       "<table border=\"1\" class=\"dataframe\">\n",
       "  <thead>\n",
       "    <tr style=\"text-align: right;\">\n",
       "      <th></th>\n",
       "      <th>id</th>\n",
       "      <th>entorno</th>\n",
       "      <th>nombre</th>\n",
       "      <th>etapa</th>\n",
       "      <th>tipo</th>\n",
       "      <th>area_responsable</th>\n",
       "      <th>descripcion</th>\n",
       "      <th>monto_contrato</th>\n",
       "      <th>comuna</th>\n",
       "      <th>barrio</th>\n",
       "      <th>...</th>\n",
       "      <th>beneficiarios</th>\n",
       "      <th>mano_obra</th>\n",
       "      <th>compromiso</th>\n",
       "      <th>destacada</th>\n",
       "      <th>ba_elige</th>\n",
       "      <th>link_interno</th>\n",
       "      <th>pliego_descarga</th>\n",
       "      <th>expediente-numero</th>\n",
       "      <th>estudio_ambiental_descarga</th>\n",
       "      <th>financiamiento</th>\n",
       "    </tr>\n",
       "  </thead>\n",
       "  <tbody>\n",
       "    <tr>\n",
       "      <th>0</th>\n",
       "      <td>1</td>\n",
       "      <td>Plan 54 escuelas</td>\n",
       "      <td>Escuela de Educación Primaria N.° 24 D.E. 15 «...</td>\n",
       "      <td>Finalizada</td>\n",
       "      <td>Escuelas</td>\n",
       "      <td>Ministerio de Educación e Innovación</td>\n",
       "      <td>Primaria</td>\n",
       "      <td>67065700.0</td>\n",
       "      <td>12.0</td>\n",
       "      <td>Villa Urquiza</td>\n",
       "      <td>...</td>\n",
       "      <td>NaN</td>\n",
       "      <td>NaN</td>\n",
       "      <td>NaN</td>\n",
       "      <td>SI</td>\n",
       "      <td>NaN</td>\n",
       "      <td>https://www.buenosaires.gob.ar/baobras/54-escu...</td>\n",
       "      <td>https://buenosaires.gob.ar/areas/planeamiento_...</td>\n",
       "      <td>914412-MDUGC-2013</td>\n",
       "      <td>NaN</td>\n",
       "      <td>NaN</td>\n",
       "    </tr>\n",
       "    <tr>\n",
       "      <th>1</th>\n",
       "      <td>2</td>\n",
       "      <td>Donado Holmberg</td>\n",
       "      <td>Calle Holmberg: Nivelacion en cruce</td>\n",
       "      <td>Finalizada</td>\n",
       "      <td>Espacio Público</td>\n",
       "      <td>Ministerio de Desarrollo Urbano y Transporte</td>\n",
       "      <td>En el marco del proyecto urbano del Barrio Par...</td>\n",
       "      <td>9950017.0</td>\n",
       "      <td>12.0</td>\n",
       "      <td>Villa Urquiza</td>\n",
       "      <td>...</td>\n",
       "      <td>NaN</td>\n",
       "      <td>16</td>\n",
       "      <td>NaN</td>\n",
       "      <td>NaN</td>\n",
       "      <td>NaN</td>\n",
       "      <td>https://www.buenosaires.gob.ar/baobras/Donado-...</td>\n",
       "      <td>https://www.buenosaires.gov.ar/areas/planeamie...</td>\n",
       "      <td>5515928/2014</td>\n",
       "      <td>NaN</td>\n",
       "      <td>NaN</td>\n",
       "    </tr>\n",
       "    <tr>\n",
       "      <th>2</th>\n",
       "      <td>3</td>\n",
       "      <td>Area Ambiental Central</td>\n",
       "      <td>Area Ambiental Central: Calles Alsina Y Moreno</td>\n",
       "      <td>Finalizada</td>\n",
       "      <td>Espacio Público</td>\n",
       "      <td>Ministerio de Desarrollo Urbano y Transporte</td>\n",
       "      <td>Se Intervienen Los Tramos Comprendidos Entre L...</td>\n",
       "      <td>36942632.0</td>\n",
       "      <td>1.0</td>\n",
       "      <td>Montserrat</td>\n",
       "      <td>...</td>\n",
       "      <td>NaN</td>\n",
       "      <td>55</td>\n",
       "      <td>SI</td>\n",
       "      <td>NaN</td>\n",
       "      <td>NaN</td>\n",
       "      <td>https://www.buenosaires.gob.ar/baobras/area-am...</td>\n",
       "      <td>https://www.buenosaires.gov.ar/areas/planeamie...</td>\n",
       "      <td>NaN</td>\n",
       "      <td>NaN</td>\n",
       "      <td>NaN</td>\n",
       "    </tr>\n",
       "    <tr>\n",
       "      <th>3</th>\n",
       "      <td>4</td>\n",
       "      <td>Area Ambiental Central</td>\n",
       "      <td>Area Ambiental Central: Calle Esmeralda I</td>\n",
       "      <td>Finalizada</td>\n",
       "      <td>Espacio Público</td>\n",
       "      <td>Ministerio de Desarrollo Urbano y Transporte</td>\n",
       "      <td>La Obra Incluye El Tramo Ubicado Entre La Av. ...</td>\n",
       "      <td>26938294.0</td>\n",
       "      <td>1.0</td>\n",
       "      <td>San Nicolás</td>\n",
       "      <td>...</td>\n",
       "      <td>NaN</td>\n",
       "      <td>59</td>\n",
       "      <td>SI</td>\n",
       "      <td>NaN</td>\n",
       "      <td>NaN</td>\n",
       "      <td>https://www.buenosaires.gob.ar/baobras/area-am...</td>\n",
       "      <td>https://www.buenosaires.gov.ar/areas/planeamie...</td>\n",
       "      <td>NaN</td>\n",
       "      <td>NaN</td>\n",
       "      <td>NaN</td>\n",
       "    </tr>\n",
       "    <tr>\n",
       "      <th>4</th>\n",
       "      <td>5</td>\n",
       "      <td>Villa Olímpica</td>\n",
       "      <td>Villa Olímpica: Demoliciones en el Parque de l...</td>\n",
       "      <td>Finalizada</td>\n",
       "      <td>Vivienda</td>\n",
       "      <td>Ministerio de Desarrollo Urbano y Transporte</td>\n",
       "      <td>Demoliciones de las construcciones existentes ...</td>\n",
       "      <td>6990315.0</td>\n",
       "      <td>8.0</td>\n",
       "      <td>Villa Soldati</td>\n",
       "      <td>...</td>\n",
       "      <td>NaN</td>\n",
       "      <td>NaN</td>\n",
       "      <td>SI</td>\n",
       "      <td>NaN</td>\n",
       "      <td>NaN</td>\n",
       "      <td>https://www.buenosaires.gob.ar/baobras/villa-o...</td>\n",
       "      <td>https://www.buenosaires.gov.ar/areas/planeamie...</td>\n",
       "      <td>13793268/DGPUYA/2014</td>\n",
       "      <td>NaN</td>\n",
       "      <td>NaN</td>\n",
       "    </tr>\n",
       "  </tbody>\n",
       "</table>\n",
       "<p>5 rows × 36 columns</p>\n",
       "</div>"
      ],
      "text/plain": [
       "   id                 entorno  \\\n",
       "0   1        Plan 54 escuelas   \n",
       "1   2         Donado Holmberg   \n",
       "2   3  Area Ambiental Central   \n",
       "3   4  Area Ambiental Central   \n",
       "4   5          Villa Olímpica   \n",
       "\n",
       "                                              nombre       etapa  \\\n",
       "0  Escuela de Educación Primaria N.° 24 D.E. 15 «...  Finalizada   \n",
       "1                Calle Holmberg: Nivelacion en cruce  Finalizada   \n",
       "2     Area Ambiental Central: Calles Alsina Y Moreno  Finalizada   \n",
       "3          Area Ambiental Central: Calle Esmeralda I  Finalizada   \n",
       "4  Villa Olímpica: Demoliciones en el Parque de l...  Finalizada   \n",
       "\n",
       "              tipo                              area_responsable  \\\n",
       "0         Escuelas          Ministerio de Educación e Innovación   \n",
       "1  Espacio Público  Ministerio de Desarrollo Urbano y Transporte   \n",
       "2  Espacio Público  Ministerio de Desarrollo Urbano y Transporte   \n",
       "3  Espacio Público  Ministerio de Desarrollo Urbano y Transporte   \n",
       "4         Vivienda  Ministerio de Desarrollo Urbano y Transporte   \n",
       "\n",
       "                                         descripcion  monto_contrato  comuna  \\\n",
       "0                                           Primaria      67065700.0    12.0   \n",
       "1  En el marco del proyecto urbano del Barrio Par...       9950017.0    12.0   \n",
       "2  Se Intervienen Los Tramos Comprendidos Entre L...      36942632.0     1.0   \n",
       "3  La Obra Incluye El Tramo Ubicado Entre La Av. ...      26938294.0     1.0   \n",
       "4  Demoliciones de las construcciones existentes ...       6990315.0     8.0   \n",
       "\n",
       "          barrio  ... beneficiarios  mano_obra  compromiso destacada ba_elige  \\\n",
       "0  Villa Urquiza  ...           NaN        NaN         NaN        SI      NaN   \n",
       "1  Villa Urquiza  ...           NaN         16         NaN       NaN      NaN   \n",
       "2     Montserrat  ...           NaN         55          SI       NaN      NaN   \n",
       "3    San Nicolás  ...           NaN         59          SI       NaN      NaN   \n",
       "4  Villa Soldati  ...           NaN        NaN          SI       NaN      NaN   \n",
       "\n",
       "                                        link_interno  \\\n",
       "0  https://www.buenosaires.gob.ar/baobras/54-escu...   \n",
       "1  https://www.buenosaires.gob.ar/baobras/Donado-...   \n",
       "2  https://www.buenosaires.gob.ar/baobras/area-am...   \n",
       "3  https://www.buenosaires.gob.ar/baobras/area-am...   \n",
       "4  https://www.buenosaires.gob.ar/baobras/villa-o...   \n",
       "\n",
       "                                     pliego_descarga     expediente-numero  \\\n",
       "0  https://buenosaires.gob.ar/areas/planeamiento_...     914412-MDUGC-2013   \n",
       "1  https://www.buenosaires.gov.ar/areas/planeamie...          5515928/2014   \n",
       "2  https://www.buenosaires.gov.ar/areas/planeamie...                   NaN   \n",
       "3  https://www.buenosaires.gov.ar/areas/planeamie...                   NaN   \n",
       "4  https://www.buenosaires.gov.ar/areas/planeamie...  13793268/DGPUYA/2014   \n",
       "\n",
       "  estudio_ambiental_descarga financiamiento  \n",
       "0                        NaN            NaN  \n",
       "1                        NaN            NaN  \n",
       "2                        NaN            NaN  \n",
       "3                        NaN            NaN  \n",
       "4                        NaN            NaN  \n",
       "\n",
       "[5 rows x 36 columns]"
      ]
     },
     "execution_count": 4,
     "metadata": {},
     "output_type": "execute_result"
    }
   ],
   "source": [
    "obras.head()"
   ]
  },
  {
   "cell_type": "code",
   "execution_count": 5,
   "metadata": {},
   "outputs": [
    {
     "data": {
      "text/html": [
       "<div>\n",
       "<style scoped>\n",
       "    .dataframe tbody tr th:only-of-type {\n",
       "        vertical-align: middle;\n",
       "    }\n",
       "\n",
       "    .dataframe tbody tr th {\n",
       "        vertical-align: top;\n",
       "    }\n",
       "\n",
       "    .dataframe thead th {\n",
       "        text-align: right;\n",
       "    }\n",
       "</style>\n",
       "<table border=\"1\" class=\"dataframe\">\n",
       "  <thead>\n",
       "    <tr style=\"text-align: right;\">\n",
       "      <th></th>\n",
       "      <th>id</th>\n",
       "      <th>monto_contrato</th>\n",
       "      <th>comuna</th>\n",
       "      <th>lat</th>\n",
       "      <th>lng</th>\n",
       "      <th>plazo_meses</th>\n",
       "      <th>porcentaje_avance</th>\n",
       "      <th>licitacion_anio</th>\n",
       "      <th>cuit_contratista</th>\n",
       "      <th>beneficiarios</th>\n",
       "    </tr>\n",
       "  </thead>\n",
       "  <tbody>\n",
       "    <tr>\n",
       "      <th>count</th>\n",
       "      <td>991.000000</td>\n",
       "      <td>8.880000e+02</td>\n",
       "      <td>989.000000</td>\n",
       "      <td>989.000000</td>\n",
       "      <td>989.000000</td>\n",
       "      <td>898.000000</td>\n",
       "      <td>989.000000</td>\n",
       "      <td>657.000000</td>\n",
       "      <td>7.540000e+02</td>\n",
       "      <td>189.000000</td>\n",
       "    </tr>\n",
       "    <tr>\n",
       "      <th>mean</th>\n",
       "      <td>9743.538850</td>\n",
       "      <td>5.276800e+07</td>\n",
       "      <td>6.958544</td>\n",
       "      <td>-34.623846</td>\n",
       "      <td>-58.432092</td>\n",
       "      <td>10.157016</td>\n",
       "      <td>94.352882</td>\n",
       "      <td>2016.213090</td>\n",
       "      <td>3.041626e+10</td>\n",
       "      <td>56816.767037</td>\n",
       "    </tr>\n",
       "    <tr>\n",
       "      <th>std</th>\n",
       "      <td>10710.102132</td>\n",
       "      <td>2.357462e+08</td>\n",
       "      <td>4.248041</td>\n",
       "      <td>0.038276</td>\n",
       "      <td>0.044302</td>\n",
       "      <td>9.625129</td>\n",
       "      <td>20.409518</td>\n",
       "      <td>1.131699</td>\n",
       "      <td>2.600928e+09</td>\n",
       "      <td>103838.493691</td>\n",
       "    </tr>\n",
       "    <tr>\n",
       "      <th>min</th>\n",
       "      <td>1.000000</td>\n",
       "      <td>4.751400e+04</td>\n",
       "      <td>1.000000</td>\n",
       "      <td>-34.703736</td>\n",
       "      <td>-58.529037</td>\n",
       "      <td>0.000000</td>\n",
       "      <td>0.000000</td>\n",
       "      <td>2009.000000</td>\n",
       "      <td>2.004490e+10</td>\n",
       "      <td>0.000000</td>\n",
       "    </tr>\n",
       "    <tr>\n",
       "      <th>25%</th>\n",
       "      <td>995.500000</td>\n",
       "      <td>1.811939e+06</td>\n",
       "      <td>4.000000</td>\n",
       "      <td>-34.654491</td>\n",
       "      <td>-58.467591</td>\n",
       "      <td>3.000000</td>\n",
       "      <td>100.000000</td>\n",
       "      <td>2016.000000</td>\n",
       "      <td>3.062959e+10</td>\n",
       "      <td>3100.000000</td>\n",
       "    </tr>\n",
       "    <tr>\n",
       "      <th>50%</th>\n",
       "      <td>1304.000000</td>\n",
       "      <td>6.240254e+06</td>\n",
       "      <td>8.000000</td>\n",
       "      <td>-34.624292</td>\n",
       "      <td>-58.436060</td>\n",
       "      <td>7.000000</td>\n",
       "      <td>100.000000</td>\n",
       "      <td>2016.000000</td>\n",
       "      <td>3.070744e+10</td>\n",
       "      <td>43190.000000</td>\n",
       "    </tr>\n",
       "    <tr>\n",
       "      <th>75%</th>\n",
       "      <td>25030.500000</td>\n",
       "      <td>2.474228e+07</td>\n",
       "      <td>10.000000</td>\n",
       "      <td>-34.593860</td>\n",
       "      <td>-58.391690</td>\n",
       "      <td>15.000000</td>\n",
       "      <td>100.000000</td>\n",
       "      <td>2017.000000</td>\n",
       "      <td>3.071204e+10</td>\n",
       "      <td>48956.000000</td>\n",
       "    </tr>\n",
       "    <tr>\n",
       "      <th>max</th>\n",
       "      <td>25458.000000</td>\n",
       "      <td>3.183200e+09</td>\n",
       "      <td>15.000000</td>\n",
       "      <td>-34.315745</td>\n",
       "      <td>-58.272504</td>\n",
       "      <td>86.000000</td>\n",
       "      <td>100.000000</td>\n",
       "      <td>2018.000000</td>\n",
       "      <td>3.371589e+10</td>\n",
       "      <td>1000000.000000</td>\n",
       "    </tr>\n",
       "  </tbody>\n",
       "</table>\n",
       "</div>"
      ],
      "text/plain": [
       "                 id  monto_contrato      comuna         lat         lng  \\\n",
       "count    991.000000    8.880000e+02  989.000000  989.000000  989.000000   \n",
       "mean    9743.538850    5.276800e+07    6.958544  -34.623846  -58.432092   \n",
       "std    10710.102132    2.357462e+08    4.248041    0.038276    0.044302   \n",
       "min        1.000000    4.751400e+04    1.000000  -34.703736  -58.529037   \n",
       "25%      995.500000    1.811939e+06    4.000000  -34.654491  -58.467591   \n",
       "50%     1304.000000    6.240254e+06    8.000000  -34.624292  -58.436060   \n",
       "75%    25030.500000    2.474228e+07   10.000000  -34.593860  -58.391690   \n",
       "max    25458.000000    3.183200e+09   15.000000  -34.315745  -58.272504   \n",
       "\n",
       "       plazo_meses  porcentaje_avance  licitacion_anio  cuit_contratista  \\\n",
       "count   898.000000         989.000000       657.000000      7.540000e+02   \n",
       "mean     10.157016          94.352882      2016.213090      3.041626e+10   \n",
       "std       9.625129          20.409518         1.131699      2.600928e+09   \n",
       "min       0.000000           0.000000      2009.000000      2.004490e+10   \n",
       "25%       3.000000         100.000000      2016.000000      3.062959e+10   \n",
       "50%       7.000000         100.000000      2016.000000      3.070744e+10   \n",
       "75%      15.000000         100.000000      2017.000000      3.071204e+10   \n",
       "max      86.000000         100.000000      2018.000000      3.371589e+10   \n",
       "\n",
       "        beneficiarios  \n",
       "count      189.000000  \n",
       "mean     56816.767037  \n",
       "std     103838.493691  \n",
       "min          0.000000  \n",
       "25%       3100.000000  \n",
       "50%      43190.000000  \n",
       "75%      48956.000000  \n",
       "max    1000000.000000  "
      ]
     },
     "execution_count": 5,
     "metadata": {},
     "output_type": "execute_result"
    }
   ],
   "source": [
    "obras.describe()"
   ]
  },
  {
   "cell_type": "code",
   "execution_count": 6,
   "metadata": {},
   "outputs": [
    {
     "data": {
      "text/plain": [
       "id                             0.000000\n",
       "nombre                         0.000000\n",
       "etapa                          0.000000\n",
       "tipo                           0.000000\n",
       "area_responsable               0.000000\n",
       "entorno                        0.201816\n",
       "comuna                         0.201816\n",
       "porcentaje_avance              0.201816\n",
       "lat                            0.201816\n",
       "lng                            0.201816\n",
       "barrio                         0.403633\n",
       "descripcion                    0.504541\n",
       "link_interno                   1.614531\n",
       "fecha_fin_inicial              2.219980\n",
       "imagen_1                       3.632694\n",
       "fecha_inicio                   4.238143\n",
       "direccion                      6.458123\n",
       "plazo_meses                    9.384460\n",
       "monto_contrato                10.393542\n",
       "licitacion_oferta_empresa     13.118063\n",
       "cuit_contratista              23.915237\n",
       "licitacion_anio               33.703330\n",
       "imagen_2                      43.491423\n",
       "pliego_descarga               45.105954\n",
       "imagen_3                      62.663976\n",
       "compromiso                    67.911201\n",
       "mano_obra                     74.672048\n",
       "imagen_4                      76.387487\n",
       "contratacion_tipo             79.818365\n",
       "nro_contratacion              80.020182\n",
       "beneficiarios                 80.928355\n",
       "expediente-numero             87.689203\n",
       "estudio_ambiental_descarga    95.156408\n",
       "destacada                     96.670030\n",
       "financiamiento                99.394551\n",
       "ba_elige                      99.495459\n",
       "dtype: float64"
      ]
     },
     "execution_count": 6,
     "metadata": {},
     "output_type": "execute_result"
    }
   ],
   "source": [
    "((obras.isnull().sum()/len(obras))*100).sort_values(ascending=True)"
   ]
  },
  {
   "cell_type": "code",
   "execution_count": 7,
   "metadata": {},
   "outputs": [
    {
     "name": "stdout",
     "output_type": "stream",
     "text": [
      "        id                       entorno  \\\n",
      "940  25303  Centros De Salud en Comuna 7   \n",
      "957  25320                 Subte Línea E   \n",
      "\n",
      "                                                nombre         etapa  \\\n",
      "940                               Nuevo Cesac Comuna 7   En proyecto   \n",
      "957  Subterráneos - Línea E: Extensión - Renovación...  En ejecución   \n",
      "\n",
      "           tipo                              area_responsable  \\\n",
      "940       Salud                           Ministerio de Salud   \n",
      "957  Transporte  Ministerio de Desarrollo Urbano y Transporte   \n",
      "\n",
      "                                           descripcion  monto_contrato  \\\n",
      "940  Construcción Nuevo Cesac en terreno Doblas (Co...             NaN   \n",
      "957                                                NaN     266717844.0   \n",
      "\n",
      "     comuna barrio  ... beneficiarios  mano_obra  compromiso destacada  \\\n",
      "940     NaN    NaN  ...           NaN        NaN         NaN       NaN   \n",
      "957     NaN    NaN  ...           NaN        NaN         NaN       NaN   \n",
      "\n",
      "    ba_elige                                       link_interno  \\\n",
      "940      NaN                                                NaN   \n",
      "957      NaN  https://www.buenosaires.gob.ar/baobras/subte-l...   \n",
      "\n",
      "     pliego_descarga expediente-numero estudio_ambiental_descarga  \\\n",
      "940              NaN               NaN                        NaN   \n",
      "957              NaN               NaN                        NaN   \n",
      "\n",
      "    financiamiento  \n",
      "940            NaN  \n",
      "957            NaN  \n",
      "\n",
      "[2 rows x 36 columns]\n",
      "940          NaN\n",
      "957   -34.602976\n",
      "Name: lat, dtype: float64\n",
      "940          NaN\n",
      "957   -58.370227\n",
      "Name: lng, dtype: float64\n"
     ]
    }
   ],
   "source": [
    "# cuantos datos tenemos sin comuna? \n",
    "print(obras[(obras['comuna'].isnull())])\n",
    "print(obras[(obras['comuna'].isnull())]['lat'])\n",
    "print(obras[(obras['comuna'].isnull())]['lng'])\n"
   ]
  },
  {
   "cell_type": "markdown",
   "metadata": {},
   "source": [
    "## Limpieza de datos sin comuna"
   ]
  },
  {
   "cell_type": "code",
   "execution_count": 8,
   "metadata": {},
   "outputs": [
    {
     "name": "stdout",
     "output_type": "stream",
     "text": [
      "Empty DataFrame\n",
      "Columns: [id, entorno, nombre, etapa, tipo, area_responsable, descripcion, monto_contrato, comuna, barrio, direccion, lat, lng, fecha_inicio, fecha_fin_inicial, plazo_meses, porcentaje_avance, imagen_1, imagen_2, imagen_3, imagen_4, licitacion_oferta_empresa, licitacion_anio, contratacion_tipo, nro_contratacion, cuit_contratista, beneficiarios, mano_obra, compromiso, destacada, ba_elige, link_interno, pliego_descarga, expediente-numero, estudio_ambiental_descarga, financiamiento]\n",
      "Index: []\n",
      "\n",
      "[0 rows x 36 columns]\n"
     ]
    }
   ],
   "source": [
    "# 940  25303  Centros De Salud en Comuna 7 \n",
    "obras.loc[obras['id'] == 25303, 'comuna'] = 7\n",
    "# 2 datos, se puden deducir con lat y long\n",
    "obras.loc[obras['id'] == 25320, 'comuna'] = 1\n",
    "print(obras[(obras['comuna'].isnull())])"
   ]
  },
  {
   "cell_type": "code",
   "execution_count": 9,
   "metadata": {},
   "outputs": [
    {
     "data": {
      "text/html": [
       "<div>\n",
       "<style scoped>\n",
       "    .dataframe tbody tr th:only-of-type {\n",
       "        vertical-align: middle;\n",
       "    }\n",
       "\n",
       "    .dataframe tbody tr th {\n",
       "        vertical-align: top;\n",
       "    }\n",
       "\n",
       "    .dataframe thead th {\n",
       "        text-align: right;\n",
       "    }\n",
       "</style>\n",
       "<table border=\"1\" class=\"dataframe\">\n",
       "  <thead>\n",
       "    <tr style=\"text-align: right;\">\n",
       "      <th></th>\n",
       "      <th>id</th>\n",
       "      <th>entorno</th>\n",
       "      <th>nombre</th>\n",
       "      <th>etapa</th>\n",
       "      <th>tipo</th>\n",
       "      <th>area_responsable</th>\n",
       "      <th>descripcion</th>\n",
       "      <th>monto_contrato</th>\n",
       "      <th>comuna</th>\n",
       "      <th>barrio</th>\n",
       "      <th>...</th>\n",
       "      <th>beneficiarios</th>\n",
       "      <th>mano_obra</th>\n",
       "      <th>compromiso</th>\n",
       "      <th>destacada</th>\n",
       "      <th>ba_elige</th>\n",
       "      <th>link_interno</th>\n",
       "      <th>pliego_descarga</th>\n",
       "      <th>expediente-numero</th>\n",
       "      <th>estudio_ambiental_descarga</th>\n",
       "      <th>financiamiento</th>\n",
       "    </tr>\n",
       "  </thead>\n",
       "  <tbody>\n",
       "  </tbody>\n",
       "</table>\n",
       "<p>0 rows × 36 columns</p>\n",
       "</div>"
      ],
      "text/plain": [
       "Empty DataFrame\n",
       "Columns: [id, entorno, nombre, etapa, tipo, area_responsable, descripcion, monto_contrato, comuna, barrio, direccion, lat, lng, fecha_inicio, fecha_fin_inicial, plazo_meses, porcentaje_avance, imagen_1, imagen_2, imagen_3, imagen_4, licitacion_oferta_empresa, licitacion_anio, contratacion_tipo, nro_contratacion, cuit_contratista, beneficiarios, mano_obra, compromiso, destacada, ba_elige, link_interno, pliego_descarga, expediente-numero, estudio_ambiental_descarga, financiamiento]\n",
       "Index: []\n",
       "\n",
       "[0 rows x 36 columns]"
      ]
     },
     "execution_count": 9,
     "metadata": {},
     "output_type": "execute_result"
    }
   ],
   "source": [
    "# para analizar si hay incosistencia de datos\n",
    "obras[(obras['etapa'] == 'Finalizada') & (obras['porcentaje_avance'] !=100)]"
   ]
  },
  {
   "cell_type": "code",
   "execution_count": 10,
   "metadata": {},
   "outputs": [
    {
     "data": {
      "text/plain": [
       "Index(['id', 'entorno', 'nombre', 'etapa', 'tipo', 'area_responsable',\n",
       "       'descripcion', 'monto_contrato', 'comuna', 'barrio', 'direccion', 'lat',\n",
       "       'lng', 'fecha_inicio', 'fecha_fin_inicial', 'plazo_meses',\n",
       "       'porcentaje_avance', 'imagen_1', 'imagen_2', 'imagen_3', 'imagen_4',\n",
       "       'licitacion_oferta_empresa', 'licitacion_anio', 'contratacion_tipo',\n",
       "       'nro_contratacion', 'cuit_contratista', 'beneficiarios', 'mano_obra',\n",
       "       'compromiso', 'destacada', 'ba_elige', 'link_interno',\n",
       "       'pliego_descarga', 'expediente-numero', 'estudio_ambiental_descarga',\n",
       "       'financiamiento'],\n",
       "      dtype='object')"
      ]
     },
     "execution_count": 10,
     "metadata": {},
     "output_type": "execute_result"
    }
   ],
   "source": [
    "obras.columns"
   ]
  },
  {
   "cell_type": "code",
   "execution_count": 11,
   "metadata": {},
   "outputs": [
    {
     "name": "stdout",
     "output_type": "stream",
     "text": [
      "finalizadas: 889\n",
      "NO finalizadas: 102\n"
     ]
    }
   ],
   "source": [
    "# cuantas finalizadas?\n",
    "finalizadas = len(obras[(obras['etapa'] == 'Finalizada')])\n",
    "no_finalizadas = len(obras[(obras['etapa'] != 'Finalizada')])\n",
    "print(f'finalizadas: {finalizadas}')\n",
    "print(f'NO finalizadas: {no_finalizadas}')"
   ]
  },
  {
   "cell_type": "code",
   "execution_count": 12,
   "metadata": {},
   "outputs": [
    {
     "data": {
      "text/plain": [
       "array(['Escuelas', 'Espacio Público', 'Vivienda',\n",
       "       'Hidráulica e Infraestructura', 'Arquitectura', 'Transporte',\n",
       "       'Salud'], dtype=object)"
      ]
     },
     "execution_count": 12,
     "metadata": {},
     "output_type": "execute_result"
    }
   ],
   "source": [
    "obras['tipo'].unique()\n",
    "# Escuelas, Salud, Transporte"
   ]
  },
  {
   "cell_type": "code",
   "execution_count": 13,
   "metadata": {},
   "outputs": [
    {
     "data": {
      "text/plain": [
       "array(['Ministerio de Educación e Innovación',\n",
       "       'Ministerio de Desarrollo Urbano y Transporte',\n",
       "       'Ministerio de Desarrollo Humano y Hábitat',\n",
       "       'Ministerio de Ambiente y Espacio Público', 'Ministerio de Salud',\n",
       "       'Subsecretaría de Gestión Comunal', 'Corporación Buenos Aires Sur',\n",
       "       'Ministerio de Cultura',\n",
       "       'Secretaría de Integración Social y Urbana - Barrio 31',\n",
       "       'Instituto de la Vivienda', 'Ministerio de Justicia y Seguridad'],\n",
       "      dtype=object)"
      ]
     },
     "execution_count": 13,
     "metadata": {},
     "output_type": "execute_result"
    }
   ],
   "source": [
    "obras['area_responsable'].unique()"
   ]
  },
  {
   "cell_type": "markdown",
   "metadata": {},
   "source": [
    "# Análisis de obras en villas"
   ]
  },
  {
   "cell_type": "code",
   "execution_count": 15,
   "metadata": {},
   "outputs": [],
   "source": [
    "import numpy as np\n",
    "# https://www.estadisticaciudad.gob.ar/eyc/wp-content/uploads/2016/01/CV031601.pdf\n",
    "# comunas con villas/asentamientos\n",
    "#caminos_villa = [1, 2, 3, 4, 7, 8, 9, 15]\n",
    "caminos_villa = [ 4, 7, 8]\n",
    "# agregado de nuevas columnas\n",
    "obras_finalizadas = obras[obras['etapa'] == 'Finalizada']\n",
    "obras_con_fecha = obras_finalizadas[pd.notnull(obras_finalizadas['fecha_fin_inicial'])]\n",
    "obras_finalizadas = obras_con_fecha[obras_con_fecha['etapa'] == 'Finalizada']\n",
    "obras_finalizadas.fecha_fin_inicial = obras_finalizadas.fecha_fin_inicial.replace('', np.nan)\n",
    "obras_con_fecha['anio'] = pd.DatetimeIndex(obras_con_fecha.fecha_fin_inicial).year\n",
    "obras_con_fecha['en_villa'] = obras_con_fecha['comuna'].isin(caminos_villa)\n"
   ]
  },
  {
   "cell_type": "code",
   "execution_count": 16,
   "metadata": {},
   "outputs": [
    {
     "name": "stdout",
     "output_type": "stream",
     "text": [
      "9\n",
      "obras del peronismo en villas 6\n",
      "porcentaje obras peronismo en villas: 66.66666666666666\n",
      "\n",
      "858\n",
      "obras del pro en villas 350\n",
      "porcentaje obras pro en villas: 40.79254079254079\n"
     ]
    },
    {
     "name": "stderr",
     "output_type": "stream",
     "text": [
      "/anaconda3/lib/python3.7/site-packages/ipykernel_launcher.py:24: SettingWithCopyWarning: \n",
      "A value is trying to be set on a copy of a slice from a DataFrame.\n",
      "Try using .loc[row_indexer,col_indexer] = value instead\n",
      "\n",
      "See the caveats in the documentation: http://pandas.pydata.org/pandas-docs/stable/indexing.html#indexing-view-versus-copy\n"
     ]
    }
   ],
   "source": [
    "# divido las obras finalizadas en villas/asentamientos por candidadaturas\n",
    "import datetime\n",
    "fecha_desde_peronismo = datetime.datetime(2012,1,1)\n",
    "fecha_hasta_peronismo = datetime.datetime(2015,12,31)\n",
    "fecha_desde_pro = datetime.datetime(2016,1,1)\n",
    "fecha_hasta_pro = datetime.datetime(2019,12,31)\n",
    "\n",
    "# agregado de nuevas columnas\n",
    "obras_finalizadas.loc[obras_finalizadas.fecha_fin_inicial <= fecha_hasta_peronismo, 'gobierno'] = 'FPV'\n",
    "obras_finalizadas.loc[(obras_finalizadas.fecha_fin_inicial <= fecha_hasta_pro ) & (obras_finalizadas.fecha_fin_inicial >= fecha_desde_pro ), 'gobierno'] = 'PRO'\n",
    "\n",
    "obras_peronismo = obras_finalizadas[(obras_finalizadas['fecha_fin_inicial'] <= fecha_hasta_peronismo ) ]\n",
    "print(len(obras_peronismo))\n",
    "obras_peronismo_villas = obras_peronismo[obras_peronismo['comuna'].isin(caminos_villa)]\n",
    "print(f'obras del peronismo en villas {len(obras_peronismo_villas)}')\n",
    "#print(obras_peronismo.tipo.unique())\n",
    "porc_peronismo = (len(obras_peronismo_villas)/len(obras_peronismo))*100\n",
    "print(f'porcentaje obras peronismo en villas: {porc_peronismo}')\n",
    "\n",
    "print('')\n",
    "obras_pro = obras_finalizadas[(obras_finalizadas['fecha_fin_inicial'] <= fecha_hasta_pro ) & (obras_finalizadas['fecha_fin_inicial'] >= fecha_desde_pro )]\n",
    "print(len(obras_pro))\n",
    "obras_pro_villas = obras_pro[obras_pro['comuna'].isin(caminos_villa)]\n",
    "obras_pro['en_villa'] = obras_pro['comuna'].isin(caminos_villa)\n",
    "print(f'obras del pro en villas {len(obras_pro_villas)}')\n",
    "#print(obras_pro.tipo.unique())\n",
    "porc_pro = (len(obras_pro_villas)/len(obras_pro))*100\n",
    "print(f'porcentaje obras pro en villas: {porc_pro}')"
   ]
  },
  {
   "cell_type": "code",
   "execution_count": 17,
   "metadata": {},
   "outputs": [],
   "source": [
    "import matplotlib.pyplot as plt\n",
    "import seaborn as sns"
   ]
  },
  {
   "cell_type": "code",
   "execution_count": 18,
   "metadata": {},
   "outputs": [
    {
     "data": {
      "image/png": "[encoded data removed]",
      "text/plain": [
       "<Figure size 1080x720 with 1 Axes>"
      ]
     },
     "metadata": {
      "needs_background": "light"
     },
     "output_type": "display_data"
    }
   ],
   "source": [
    "# monto destinado a las comunas durante el pro indicando si son comunas de villas o no\n",
    "plt.figure(figsize=(15,10))\n",
    "sns.set(style=\"darkgrid\")\n",
    "sns.barplot(x=\"comuna\", y=\"monto_contrato\", hue=\"en_villa\", data=obras_pro)\n",
    "plt.show()"
   ]
  },
  {
   "cell_type": "code",
   "execution_count": 19,
   "metadata": {},
   "outputs": [
    {
     "data": {
      "image/png": "[encoded data removed]",
      "text/plain": [
       "<Figure size 1080x720 with 1 Axes>"
      ]
     },
     "metadata": {},
     "output_type": "display_data"
    }
   ],
   "source": [
    "# cantidad de obras en las comunas durante el pro indicando si son comunas de villas o no\n",
    "plt.figure(figsize=(15,10))\n",
    "sns.set(style=\"darkgrid\")\n",
    "sns.countplot(x=\"comuna\",hue=\"en_villa\", data=obras_pro)\n",
    "plt.show()"
   ]
  },
  {
   "cell_type": "code",
   "execution_count": 20,
   "metadata": {},
   "outputs": [
    {
     "data": {
      "image/png": "[encoded data removed]",
      "text/plain": [
       "<Figure size 1080x720 with 1 Axes>"
      ]
     },
     "metadata": {},
     "output_type": "display_data"
    }
   ],
   "source": [
    "# cantidad de obras finalizadas por gobierno\n",
    "plt.figure(figsize=(15,10))\n",
    "sns.set(style=\"darkgrid\")\n",
    "sns.countplot(x=\"gobierno\",data=obras_finalizadas).set_title('Obras finalizadas por gobierno')\n",
    "plt.show()"
   ]
  },
  {
   "cell_type": "code",
   "execution_count": 21,
   "metadata": {},
   "outputs": [
    {
     "data": {
      "image/png": "[encoded data removed]",
      "text/plain": [
       "<Figure size 1080x720 with 1 Axes>"
      ]
     },
     "metadata": {},
     "output_type": "display_data"
    }
   ],
   "source": [
    "plt.figure(figsize=(15,10))\n",
    "sns.set(style=\"darkgrid\")\n",
    "sns.distplot(obras_con_fecha['anio']).set_title('Histograma de Obras realizadas a lo largo de los años')\n",
    "plt.show()"
   ]
  },
  {
   "cell_type": "code",
   "execution_count": 22,
   "metadata": {},
   "outputs": [
    {
     "data": {
      "text/plain": [
       "anio\n",
       "2015      9\n",
       "2016     83\n",
       "2017    492\n",
       "2018    214\n",
       "2019     69\n",
       "2020      1\n",
       "dtype: int64"
      ]
     },
     "execution_count": 22,
     "metadata": {},
     "output_type": "execute_result"
    }
   ],
   "source": [
    "obras_con_fecha.groupby('anio').size()"
   ]
  },
  {
   "cell_type": "code",
   "execution_count": 23,
   "metadata": {},
   "outputs": [
    {
     "data": {
      "text/plain": [
       "Index(['id', 'entorno', 'nombre', 'etapa', 'tipo', 'area_responsable',\n",
       "       'descripcion', 'monto_contrato', 'comuna', 'barrio', 'direccion', 'lat',\n",
       "       'lng', 'fecha_inicio', 'fecha_fin_inicial', 'plazo_meses',\n",
       "       'porcentaje_avance', 'imagen_1', 'imagen_2', 'imagen_3', 'imagen_4',\n",
       "       'licitacion_oferta_empresa', 'licitacion_anio', 'contratacion_tipo',\n",
       "       'nro_contratacion', 'cuit_contratista', 'beneficiarios', 'mano_obra',\n",
       "       'compromiso', 'destacada', 'ba_elige', 'link_interno',\n",
       "       'pliego_descarga', 'expediente-numero', 'estudio_ambiental_descarga',\n",
       "       'financiamiento', 'anio', 'en_villa'],\n",
       "      dtype='object')"
      ]
     },
     "execution_count": 23,
     "metadata": {},
     "output_type": "execute_result"
    }
   ],
   "source": [
    "obras_con_fecha.columns"
   ]
  },
  {
   "cell_type": "code",
   "execution_count": 112,
   "metadata": {},
   "outputs": [
    {
     "name": "stderr",
     "output_type": "stream",
     "text": [
      "/home/coquita/.pyenv/pyenv/versions/3.6.1/lib/python3.6/site-packages/seaborn/categorical.py:1508: FutureWarning: remove_na is deprecated and is a private function. Do not use.\n",
      "  stat_data = remove_na(group_data[hue_mask])\n"
     ]
    },
    {
     "data": {
      "image/png": "[encoded data removed]",
      "text/plain": [
       "<matplotlib.figure.Figure at 0x7ff85ec9aef0>"
      ]
     },
     "metadata": {},
     "output_type": "display_data"
    }
   ],
   "source": [
    "plt.figure(figsize=(15,10))\n",
    "sns.set(style=\"darkgrid\")\n",
    "sns.countplot(x=\"anio\", hue=\"en_villa\",data=obras_con_fecha, palette=\"Set2\").set_title('Obras realizadas a lo largo de los años según si fueron hechas en comunas de villas o no')\n",
    "plt.show()"
   ]
  },
  {
   "cell_type": "markdown",
   "metadata": {},
   "source": [
    "### 2) Visualización de los datos"
   ]
  },
  {
   "cell_type": "markdown",
   "metadata": {},
   "source": [
    "Para poder visualizar los datos y la relación entre las distintas variables, podemos usar dos librerias: `matplotlib` y `seaborn`. "
   ]
  },
  {
   "cell_type": "markdown",
   "metadata": {},
   "source": [
    "Documentación:\n",
    "- [matplotlib](https://matplotlib.org/3.1.1/contents.html)\n",
    "- [seaborn](https://seaborn.pydata.org/)"
   ]
  },
  {
   "cell_type": "markdown",
   "metadata": {},
   "source": [
    "- Importa la libreria `matplotlib.pyplot` como `plt`\n",
    "- Importa la libreria seaborn como `sns`"
   ]
  },
  {
   "cell_type": "code",
   "execution_count": null,
   "metadata": {
    "collapsed": true
   },
   "outputs": [],
   "source": [
    "#Importa las librerias matplotlib y seaborn\n",
    "import matplotlib.pyplot as plt\n",
    "import seaborn as sns\n"
   ]
  },
  {
   "cell_type": "markdown",
   "metadata": {},
   "source": [
    "Abajo se da algunos ejemplos de distintos graficos que se pueden obtener con estas librerias."
   ]
  },
  {
   "cell_type": "code",
   "execution_count": null,
   "metadata": {
    "collapsed": true
   },
   "outputs": [],
   "source": [
    "from sklearn import datasets"
   ]
  },
  {
   "cell_type": "code",
   "execution_count": null,
   "metadata": {
    "collapsed": true
   },
   "outputs": [],
   "source": [
    "#Obtenemos un dataset de casas en Boston\n",
    "boston = datasets.load_boston()\n",
    "columns = boston.feature_names\n",
    "boston = pd.DataFrame(boston.data)\n",
    "boston.columns = columns"
   ]
  },
  {
   "cell_type": "markdown",
   "metadata": {},
   "source": [
    "#### Histogramas:"
   ]
  },
  {
   "cell_type": "code",
   "execution_count": null,
   "metadata": {},
   "outputs": [],
   "source": [
    "plt.figure()\n",
    "plt.hist(boston[\"AGE\"], color=\"#cf7c17\", alpha=0.5)\n",
    "plt.show()"
   ]
  },
  {
   "cell_type": "markdown",
   "metadata": {},
   "source": [
    "#### Distplot:"
   ]
  },
  {
   "cell_type": "code",
   "execution_count": null,
   "metadata": {
    "collapsed": true
   },
   "outputs": [],
   "source": [
    "obras_filtrado = obras[ (obras['tipo'] == 'Escuelas') | (obras['tipo'] == 'Salud') ]\n",
    "plt.figure()\n",
    "plt.hist(obras_filtrado[\"monto_contrato\"], color=\"#cf7c17\", alpha=0.5)\n",
    "plt.show()"
   ]
  },
  {
   "cell_type": "code",
   "execution_count": null,
   "metadata": {},
   "outputs": [],
   "source": [
    "plt.figure()\n",
    "sns.distplot(obras_filtrado['monto_contrato'], color=\"#5ea88e\")\n",
    "plt.show()"
   ]
  },
  {
   "cell_type": "code",
   "execution_count": null,
   "metadata": {},
   "outputs": [],
   "source": [
    "plt.figure()\n",
    "sns.distplot(boston[\"AGE\"], color=\"#5ea88e\")\n",
    "plt.show()"
   ]
  },
  {
   "cell_type": "markdown",
   "metadata": {},
   "source": [
    "#### Boxplot:"
   ]
  },
  {
   "cell_type": "code",
   "execution_count": null,
   "metadata": {},
   "outputs": [],
   "source": [
    "plt.figure()\n",
    "sns.boxplot(x=\"AGE\", data=boston, color=\"#5ea88e\")\n",
    "plt.show()"
   ]
  },
  {
   "cell_type": "markdown",
   "metadata": {},
   "source": [
    "#### Scaterplot:"
   ]
  },
  {
   "cell_type": "code",
   "execution_count": null,
   "metadata": {},
   "outputs": [],
   "source": [
    "plt.figure()\n",
    "sns.scatterplot(x=\"LSTAT\", y=\"PTRATIO\",data=boston, color=\"#5ea88f\")\n",
    "plt.show()"
   ]
  },
  {
   "cell_type": "markdown",
   "metadata": {},
   "source": [
    "#### Countplot "
   ]
  },
  {
   "cell_type": "markdown",
   "metadata": {},
   "source": [
    "Observa como se pueden ajustar la estetica del grafico (Vale para cualquier grafico)."
   ]
  },
  {
   "cell_type": "code",
   "execution_count": null,
   "metadata": {},
   "outputs": [],
   "source": [
    "plt.figure(figsize=(5,3))\n",
    "\n",
    "\n",
    "sns.countplot(x=\"RAD\", data=boston, palette=\"Set3\")\n",
    "\n",
    "\n",
    "plt.ylabel(\"Cantidad\", size=14)\n",
    "plt.xlabel(\"EDAD\", size=14)\n",
    "plt.title(\"Distribucion de la variable edad\", size=16, pad=25)\n",
    "plt.gca().spines[\"top\"].set_visible(False)\n",
    "plt.gca().spines[\"right\"].set_visible(False)\n",
    "plt.grid(False)\n",
    "plt.show()\n",
    "plt.show()"
   ]
  },
  {
   "cell_type": "markdown",
   "metadata": {},
   "source": [
    "**Otros ejemplos de gráficos**: [Ejemplos en Matplotlib](https://matplotlib.org/3.1.0/gallery/index.html) y [Ejemplos en Seaborn](https://seaborn.pydata.org/examples/index.html)"
   ]
  },
  {
   "cell_type": "code",
   "execution_count": null,
   "metadata": {
    "collapsed": true
   },
   "outputs": [],
   "source": []
  },
  {
   "cell_type": "code",
   "execution_count": null,
   "metadata": {
    "collapsed": true
   },
   "outputs": [],
   "source": []
  },
  {
   "cell_type": "code",
   "execution_count": null,
   "metadata": {
    "collapsed": true
   },
   "outputs": [],
   "source": []
  },
  {
   "cell_type": "markdown",
   "metadata": {},
   "source": [
    "### FEATURE ENGINEEING"
   ]
  },
  {
   "cell_type": "markdown",
   "metadata": {},
   "source": [
    "Una vez que visualizamos y exploramos el dataset tenemos una idea de como lucen nuestros datos. Es por eso que ahora debemos empezar a preparar nuestros datos para los siguientes pasos según lo que aprendimos de ellos y las preguntas que nos planteamos."
   ]
  },
  {
   "cell_type": "markdown",
   "metadata": {},
   "source": [
    "#### IMPUTACION DE VALORES FALTANTES"
   ]
  },
  {
   "cell_type": "markdown",
   "metadata": {},
   "source": [
    "**_¿Algunas de las variables del dataset presenta valores faltantes?_**"
   ]
  },
  {
   "cell_type": "markdown",
   "metadata": {},
   "source": [
    "Si es así debemos tomar una decisión acerca de que hacer con ellos. Como manejar estos datos faltantes es un gran desafio.  La mayoría de las veces no queremos eliminar esos valores porque significaría perder información valiosa en otros features."
   ]
  },
  {
   "cell_type": "markdown",
   "metadata": {},
   "source": [
    "**¿Que debo preguntarme al manejar datos faltantes?**\n",
    "\n",
    "- ¿Quiero conservar la información?\n",
    "- ¿Qué tipo de datos tengo en la columna que voy a imputar?\n",
    "- ¿Por qué puede ser que tengo los valores faltantes?:\n",
    "    - Valores faltantes al azar\n",
    "    - Valores faltantes no al azar\n",
    "- Si es una variable numerica continua, ¿Que distribución tiene?"
   ]
  },
  {
   "cell_type": "markdown",
   "metadata": {},
   "source": [
    "**¿Como decido que hago con los valores faltantes?**\n",
    "\n",
    "- Entender que no hay una manera _perfecta_ de manejar los valores faltantes.\n",
    "\n",
    "- Depende de mis datos\n",
    "\n",
    "- Observar no solo la cantidad de datos faltantes sino también su patrón.\n",
    "\n",
    "- Estrategias:  \n",
    "     - **Eliminar los valores**:\n",
    "        - Si la recogida de datos no se ha realizado de forma aleatoria introduce sesgo.  \n",
    "        - En el caso de que haya mucho patrones con datos faltantes, podría reducir considerablemente la cantidad de filas disponibles. \n",
    "     - **Eliminación de la variable (columna)**:\n",
    "         - Las variables “descartadas” podrían contener información de vital importancia.      \n",
    "     - **Imputar los valores**:\n",
    "        - Sustituir por media o mediana: Solo en variables numericas  \n",
    "        - Sustituir por valor mas frecuente: Util para variables categoricas\n",
    "        - Algoritmo de ML: K-NN (k-nearest neighboors)"
   ]
  },
  {
   "cell_type": "markdown",
   "metadata": {},
   "source": [
    "A) Si optan por imputar los datos, pueden hacerlo usando la siguiente función:\n",
    "    \n",
    "`sklearn.impute.SimpleImputer(missing_values=nan, strategy=’mean’, fill_value=None, copy=True, add_indicator=False)`\n",
    "    \n",
    "- **missing_values**: Indica como son representados los valores faltantes (np.nan es el estandard)\n",
    "- **strategy**: `mean`, `median`, `most_frequent`, `constant`.\n",
    "- **fill_value**: Si uso `constant`, puedo usar `fill_value` para indicar por cuál valor debe ser reemplazado\n",
    "- **copy**: Si pongo True, crea una copia de X\n",
    "- **add_indicator**: Agrega un indicador para los valores faltantes.\n",
    "\n",
    "\n",
    "[documentación](https://scikit-learn.org/stable/modules/generated/sklearn.impute.SimpleImputer.html#sklearn.impute.SimpleImputer)"
   ]
  },
  {
   "cell_type": "markdown",
   "metadata": {},
   "source": [
    "B) Si optan por eliminar los datos, pueden hacerlo usando la siguiente función:\n",
    "    \n",
    "`.dropna(self, axis=0, how='any', thresh=None, subset=None, inplace=False)`\n",
    "\n",
    "- **axis**: {0, 1}, default 0. 0: Filas, 1: Columnas\n",
    "- **how**: {'any', 'all'}, default 'any'. Any: Si hay un valor faltante elimina la columna o fila. All: Si todos los valores de la fila o columna son faltantes, elimina la fila o columna.\n",
    "- **subset**: Nombre de filas o columnas donde buscar valores faltantes\n",
    "- **inplace**: True modifica el DataFrame original\n",
    "\n",
    "[documentación](https://pandas.pydata.org/pandas-docs/stable/reference/api/pandas.DataFrame.dropna.html)"
   ]
  },
  {
   "cell_type": "code",
   "execution_count": null,
   "metadata": {
    "collapsed": true
   },
   "outputs": [],
   "source": []
  },
  {
   "cell_type": "code",
   "execution_count": null,
   "metadata": {
    "collapsed": true
   },
   "outputs": [],
   "source": []
  },
  {
   "cell_type": "markdown",
   "metadata": {},
   "source": [
    "#### DETECCION DE OUTLIERS"
   ]
  },
  {
   "cell_type": "markdown",
   "metadata": {},
   "source": [
    "- Manera de detectar outliers:\n",
    "    - z-score\n",
    "        - Considera que todo valor que se aleje mucho de la media=0 es un outlier.\n",
    "        - Depende de la media y el desvio estandard para medir la centralidad y dispersión, los cuales son muy afectados por outliers. Si las variables no tiene una distribución normal, termino removiendo muchos outliers del dataset.\n",
    "        - No funciona bien en dataset muy pequeños.\n",
    "    - Rango Intercuartil: \n",
    "        - Es robusto y no es tan sensible a outliers."
   ]
  },
  {
   "cell_type": "code",
   "execution_count": null,
   "metadata": {
    "collapsed": true
   },
   "outputs": [],
   "source": []
  },
  {
   "cell_type": "code",
   "execution_count": null,
   "metadata": {
    "collapsed": true
   },
   "outputs": [],
   "source": []
  },
  {
   "cell_type": "code",
   "execution_count": null,
   "metadata": {
    "collapsed": true
   },
   "outputs": [],
   "source": []
  },
  {
   "cell_type": "code",
   "execution_count": null,
   "metadata": {
    "collapsed": true
   },
   "outputs": [],
   "source": []
  },
  {
   "cell_type": "markdown",
   "metadata": {},
   "source": [
    "#### DESCUBRIENDO NUEVAS VARIABLES"
   ]
  },
  {
   "cell_type": "markdown",
   "metadata": {},
   "source": [
    "- Combinar variables ya presentes que puedan capturar efectos dependientes entre ambos y afectar el resultado:\n",
    "    * Sumando o restando variables\n",
    "    * Multiplicando o dividiendo variables"
   ]
  },
  {
   "cell_type": "code",
   "execution_count": null,
   "metadata": {
    "collapsed": true
   },
   "outputs": [],
   "source": []
  },
  {
   "cell_type": "code",
   "execution_count": null,
   "metadata": {
    "collapsed": true
   },
   "outputs": [],
   "source": []
  },
  {
   "cell_type": "code",
   "execution_count": null,
   "metadata": {
    "collapsed": true
   },
   "outputs": [],
   "source": []
  },
  {
   "cell_type": "code",
   "execution_count": null,
   "metadata": {
    "collapsed": true
   },
   "outputs": [],
   "source": []
  },
  {
   "cell_type": "markdown",
   "metadata": {},
   "source": [
    "## HORA DE TOMAR DECISIONES"
   ]
  },
  {
   "cell_type": "markdown",
   "metadata": {},
   "source": [
    "Ahora que ya exploraste, procesaste y descubriste relaciones entre las variables creando nuevos atributos, es hora de tomar decisiones. En este proyecto el proximo paso es ajustar un modelo de machine learning. Si bien podemos decidir luego que queremos visualizar algunos de los resultados obtenidos allí, el ajuste del modelo esta pensado para ser independiente de las visualizaciones que aprenderas a hacer en las proximas cuatro clases del curso utilizando `javascript`."
   ]
  },
  {
   "cell_type": "markdown",
   "metadata": {},
   "source": [
    "Es por eso, que deben decidir que visualizaciones les gustaría mostrar para que cuando trabajen en las clases de javascript lo hagan en post de un objetivo claro."
   ]
  },
  {
   "cell_type": "markdown",
   "metadata": {},
   "source": [
    "Anota acá que relaciones o datos les gustaría mostrar:"
   ]
  },
  {
   "cell_type": "markdown",
   "metadata": {},
   "source": []
  },
  {
   "cell_type": "markdown",
   "metadata": {},
   "source": []
  },
  {
   "cell_type": "markdown",
   "metadata": {},
   "source": []
  },
  {
   "cell_type": "markdown",
   "metadata": {},
   "source": []
  },
  {
   "cell_type": "markdown",
   "metadata": {},
   "source": [
    "### GUARDANDO EL ARCHIVO PARA LOS SIGUIENTES PASOS Y PARA LA VISUALIZACION FINAL"
   ]
  },
  {
   "cell_type": "markdown",
   "metadata": {},
   "source": [
    "Los siguientes pasos que vamos a tomar implican la transformación de los datos presentes en el dataset para un correcto ajuste de un modelo a elección. Para no tener que correr nuevamente todo el código, podemos guardar en un archivo `csv` el dataset tal cual lo tenemos ahora.\n",
    "\n",
    "1) **Utiliza la función `.to_csv()` para guardar tu dataset**. Antes de hacerlo chequea la [documentación](https://pandas.pydata.org/pandas-docs/stable/reference/api/pandas.DataFrame.to_csv.html)."
   ]
  },
  {
   "cell_type": "code",
   "execution_count": null,
   "metadata": {
    "collapsed": true
   },
   "outputs": [],
   "source": []
  },
  {
   "cell_type": "code",
   "execution_count": null,
   "metadata": {
    "collapsed": true
   },
   "outputs": [],
   "source": []
  },
  {
   "cell_type": "markdown",
   "metadata": {},
   "source": [
    "2) Además, como dijimos anteriormente vamos a visualizar los datos usando javascript en las próximas clases. Para facilitar esta tarea necesitamos generar un archivo `JSON` como output. Afortunadamente, pandas tiene la función **`.to_json()`** que podes chequear la documentación [acá](https://pandas.pydata.org/pandas-docs/stable/reference/api/pandas.DataFrame.to_json.html?highlight=to_json#pandas.DataFrame.to_json). \n",
    "\n",
    "Porque es muy importante el formato con el cual guarden esta info les vamos a dar los argumentos que deben usar."
   ]
  },
  {
   "cell_type": "markdown",
   "metadata": {},
   "source": [
    "- **nombre_del_archivo**: a elección  \n",
    "- **orient**='records'  \n",
    "- **force_ascii**=False  "
   ]
  },
  {
   "cell_type": "code",
   "execution_count": null,
   "metadata": {
    "collapsed": true
   },
   "outputs": [],
   "source": []
  }
 ],
 "metadata": {
  "kernelspec": {
   "display_name": "Python 3",
   "language": "python",
   "name": "python3"
  },
  "language_info": {
   "codemirror_mode": {
    "name": "ipython",
    "version": 3
   },
   "file_extension": ".py",
   "mimetype": "text/x-python",
   "name": "python",
   "nbconvert_exporter": "python",
   "pygments_lexer": "ipython3",
   "version": "3.7.3"
  }
 },
 "nbformat": 4,
 "nbformat_minor": 2
}
